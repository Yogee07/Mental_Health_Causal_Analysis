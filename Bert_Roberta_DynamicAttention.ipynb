{
  "cells": [
    {
      "cell_type": "code",
      "execution_count": 1,
      "id": "500b4e19",
      "metadata": {
        "id": "500b4e19"
      },
      "outputs": [],
      "source": [
        "import numpy as np\n",
        "import pandas as pd\n",
        "import matplotlib.pyplot as plt\n",
        "import seaborn as sn\n",
        "import torch.nn as nn\n",
        "import torch.nn.functional as F"
      ]
    },
    {
      "cell_type": "code",
      "source": [
        "from google.colab import drive\n",
        "drive.mount('/content/drive')"
      ],
      "metadata": {
        "id": "ALFXRS2Km-7U",
        "colab": {
          "base_uri": "https://localhost:8080/"
        },
        "outputId": "cbca6973-f1d4-4ee5-de58-3b8aa5236be6"
      },
      "id": "ALFXRS2Km-7U",
      "execution_count": 2,
      "outputs": [
        {
          "output_type": "stream",
          "name": "stdout",
          "text": [
            "Mounted at /content/drive\n"
          ]
        }
      ]
    },
    {
      "cell_type": "code",
      "source": [
        "import pandas as pd\n",
        "from sklearn.model_selection import train_test_split\n",
        "\n",
        "# Load the dataset\n",
        "file_path = '/content/drive/MyDrive/DL_JHU_project/CAMS-main/dataset (7).csv'\n",
        "data = pd.read_csv(file_path)\n",
        "print(data.columns)\n",
        "\n",
        "#get list of all the clases from category\n",
        "classes = data['category'].unique()\n",
        "print(classes)\n",
        "category=\"category\"\n",
        "if data[category].isna().sum() > 0:\n",
        "    print(f\"Found {data[category].isna().sum()} NaN values in the target column.\")\n",
        "    # Option 1: Drop rows with NaN values\n",
        "    data = data.dropna(subset=[category])\n",
        "\n",
        "# Assume 'target' is the column with class labels\n",
        "category = \"category\"\n",
        "# Split into train+val and test sets\n",
        "train_val, test = train_test_split(data, test_size=0.06, stratify=data[category], random_state=42)\n",
        "\n",
        "# Further split train+val into train and val\n",
        "train, val = train_test_split(train_val, test_size=0.14, stratify=train_val[category], random_state=42)\n",
        "\n",
        "# Output the sizes of each split\n",
        "print(f\"Train size: {len(train)}\")\n",
        "print(f\"Validation size: {len(val)}\")\n",
        "print(f\"Test size: {len(test)}\")\n"
      ],
      "metadata": {
        "colab": {
          "base_uri": "https://localhost:8080/"
        },
        "id": "tLyxWtR38sTA",
        "outputId": "d2d4a531-0100-4b9e-a440-65386ef37dcb"
      },
      "id": "tLyxWtR38sTA",
      "execution_count": 3,
      "outputs": [
        {
          "output_type": "stream",
          "name": "stdout",
          "text": [
            "Index(['text', 'category', 'explanation'], dtype='object')\n",
            "[ 5.  4.  2.  3.  0.  1. nan]\n",
            "Found 9 NaN values in the target column.\n",
            "Train size: 4076\n",
            "Validation size: 664\n",
            "Test size: 303\n"
          ]
        }
      ]
    },
    {
      "cell_type": "code",
      "source": [
        "import pandas as pd\n",
        "\n",
        "# Copy 220 random samples from train to val\n",
        "extra_val_samples = train.sample(n=720, random_state=42)\n",
        "val_with_extra = pd.concat([val, extra_val_samples])\n",
        "\n",
        "# Copy 150 random samples from train to test\n",
        "extra_test_samples = train.sample(n=580, random_state=42)\n",
        "test_with_extra = pd.concat([test, extra_test_samples])\n",
        "\n",
        "# Check the sizes after adding extra samples\n",
        "print(f\"New Validation size: {len(val_with_extra)}\")\n",
        "print(f\"New Test size: {len(test_with_extra)}\")\n",
        "print(f\"Train size (unchanged): {len(train)}\")\n"
      ],
      "metadata": {
        "colab": {
          "base_uri": "https://localhost:8080/"
        },
        "id": "vDM13xQ19TrA",
        "outputId": "df13c6ac-648d-4fb0-92a1-5ce51268815b"
      },
      "id": "vDM13xQ19TrA",
      "execution_count": 4,
      "outputs": [
        {
          "output_type": "stream",
          "name": "stdout",
          "text": [
            "New Validation size: 1384\n",
            "New Test size: 883\n",
            "Train size (unchanged): 4076\n"
          ]
        }
      ]
    },
    {
      "cell_type": "code",
      "source": [
        "# ## Training and Testing files\n",
        "# read_file = pd.read_csv('/content/drive/MyDrive/DL_JHU_project/CAMS-main/CAMS/data/IntentSDCNL_Training.csv', encoding = \"ISO-8859-1\")\n",
        "# read_file1 = pd.read_csv('/content/drive/MyDrive/DL_JHU_project/CAMS-main/CAMS/data/IntentSDCNL_Testing.csv', encoding = \"ISO-8859-1\")\n",
        "\n",
        "\n",
        "# #training data\n",
        "# df_train = pd.DataFrame(read_file, columns= ['selftext','ANNOTATIONS'])\n",
        "# df_train = df_train.rename(columns={'selftext': 'text','ANNOTATIONS':'label'})\n",
        "# df_train = df_train.convert_dtypes()\n",
        "\n",
        "# #testing data\n",
        "# df_test = pd.DataFrame(read_file1,columns= ['selftext','ANNOTATIONS'])####\n",
        "# df_test = df_test.rename(columns={'selftext': 'text','ANNOTATIONS':'label'})\n",
        "# df_test = df_test.convert_dtypes()\n",
        "# df_train\n",
        "\n",
        "## Training and Testing files\n",
        "df_train = pd.read_csv('/content/drive/MyDrive/DL_JHU_project/dataset_train.csv', encoding = \"ISO-8859-1\")\n",
        "df_test = pd.read_csv('/content/drive/MyDrive/DL_JHU_project/dataset_test.csv', encoding = \"ISO-8859-1\")\n",
        "df_val = pd.read_csv('/content/drive/MyDrive/DL_JHU_project/dataset_val.csv', encoding = \"ISO-8859-1\")\n",
        "\n",
        "\n",
        "#training data\n",
        "# df_train = pd.DataFrame(read_file, columns= ['selftext','ANNOTATIONS'])\n",
        "df_train = df_train.rename(columns={'selftext': 'text','ANNOTATIONS':'label'})\n",
        "df_train = df_train.convert_dtypes()\n",
        "\n",
        "#testing data\n",
        "# df_test = pd.DataFrame(read_file1,columns= ['selftext','ANNOTATIONS'])####\n",
        "df_test = df_test.rename(columns={'selftext': 'text','ANNOTATIONS':'label'})\n",
        "df_test = df_test.convert_dtypes()\n",
        "\n",
        "#validation data\n",
        "# df_val = pd.DataFrame(read_file2,columns= ['selftext','ANNOTATIONS'])####\n",
        "df_val = df_val.rename(columns={'selftext': 'text','ANNOTATIONS':'label'})\n",
        "df_val = df_val.convert_dtypes()"
      ],
      "metadata": {
        "id": "jGdMszHZnDUx"
      },
      "id": "jGdMszHZnDUx",
      "execution_count": 5,
      "outputs": []
    },
    {
      "cell_type": "code",
      "source": [
        "len(df_train), len(df_test), len(df_val)"
      ],
      "metadata": {
        "colab": {
          "base_uri": "https://localhost:8080/"
        },
        "id": "VQAMMiiD-P9a",
        "outputId": "164c8ab6-596d-4ad1-896c-689e925aa031"
      },
      "id": "VQAMMiiD-P9a",
      "execution_count": 6,
      "outputs": [
        {
          "output_type": "execute_result",
          "data": {
            "text/plain": [
              "(4076, 1486, 1384)"
            ]
          },
          "metadata": {},
          "execution_count": 6
        }
      ]
    },
    {
      "cell_type": "code",
      "source": [
        "df_test"
      ],
      "metadata": {
        "colab": {
          "base_uri": "https://localhost:8080/",
          "height": 423
        },
        "id": "aWm8hj_g8-aW",
        "outputId": "8682f46b-3bb1-4aa1-caa9-6d5295b44a07"
      },
      "id": "aWm8hj_g8-aW",
      "execution_count": 7,
      "outputs": [
        {
          "output_type": "execute_result",
          "data": {
            "text/plain": [
              "                                                   text  category  \\\n",
              "0     The company i work for is in a moving process ...         2   \n",
              "1     I don't want to work, I don't want to travel, ...         2   \n",
              "2     Hey. 16M here. IâÃÃ´m just a wee little hig...         2   \n",
              "3     I tried to kill myself via partial suspension ...         3   \n",
              "4     IâÃÃ´m in my last year of compulsory school...         2   \n",
              "...                                                 ...       ...   \n",
              "1481  IâÃÃ´m 19 in ten minutes. Wish I was 17 aga...         5   \n",
              "1482  And as much as it hurts and exhausts you, you ...         4   \n",
              "1483  Now I can feel at least a little bit happy.\n",
              "\n",
              "L...         5   \n",
              "1484  I'm tired of having a extremely hard life, my ...         4   \n",
              "1485  I was at Sagres âÃÃ®the end of the worldâ...         5   \n",
              "\n",
              "                                            explanation  \n",
              "0     The company i work for is in a moving process ...  \n",
              "1     don't want to go back to college, learn new th...  \n",
              "2     affecting my grades , could get away with doin...  \n",
              "3                  partial suspension hanging, headache  \n",
              "4     not allows to leave the school during break or...  \n",
              "...                                                 ...  \n",
              "1481       since then everythingâÃÃ´s gone down hill  \n",
              "1482  because of guilt, your own and what others put...  \n",
              "1483  Let's wait and see if I'm going to win the who...  \n",
              "1484  father used a crack and beat my mom, he's on c...  \n",
              "1485                                              alone  \n",
              "\n",
              "[1486 rows x 3 columns]"
            ],
            "text/html": [
              "\n",
              "  <div id=\"df-4b7e6cba-9421-4af5-9a5c-791330a567c4\" class=\"colab-df-container\">\n",
              "    <div>\n",
              "<style scoped>\n",
              "    .dataframe tbody tr th:only-of-type {\n",
              "        vertical-align: middle;\n",
              "    }\n",
              "\n",
              "    .dataframe tbody tr th {\n",
              "        vertical-align: top;\n",
              "    }\n",
              "\n",
              "    .dataframe thead th {\n",
              "        text-align: right;\n",
              "    }\n",
              "</style>\n",
              "<table border=\"1\" class=\"dataframe\">\n",
              "  <thead>\n",
              "    <tr style=\"text-align: right;\">\n",
              "      <th></th>\n",
              "      <th>text</th>\n",
              "      <th>category</th>\n",
              "      <th>explanation</th>\n",
              "    </tr>\n",
              "  </thead>\n",
              "  <tbody>\n",
              "    <tr>\n",
              "      <th>0</th>\n",
              "      <td>The company i work for is in a moving process ...</td>\n",
              "      <td>2</td>\n",
              "      <td>The company i work for is in a moving process ...</td>\n",
              "    </tr>\n",
              "    <tr>\n",
              "      <th>1</th>\n",
              "      <td>I don't want to work, I don't want to travel, ...</td>\n",
              "      <td>2</td>\n",
              "      <td>don't want to go back to college, learn new th...</td>\n",
              "    </tr>\n",
              "    <tr>\n",
              "      <th>2</th>\n",
              "      <td>Hey. 16M here. IâÃÃ´m just a wee little hig...</td>\n",
              "      <td>2</td>\n",
              "      <td>affecting my grades , could get away with doin...</td>\n",
              "    </tr>\n",
              "    <tr>\n",
              "      <th>3</th>\n",
              "      <td>I tried to kill myself via partial suspension ...</td>\n",
              "      <td>3</td>\n",
              "      <td>partial suspension hanging, headache</td>\n",
              "    </tr>\n",
              "    <tr>\n",
              "      <th>4</th>\n",
              "      <td>IâÃÃ´m in my last year of compulsory school...</td>\n",
              "      <td>2</td>\n",
              "      <td>not allows to leave the school during break or...</td>\n",
              "    </tr>\n",
              "    <tr>\n",
              "      <th>...</th>\n",
              "      <td>...</td>\n",
              "      <td>...</td>\n",
              "      <td>...</td>\n",
              "    </tr>\n",
              "    <tr>\n",
              "      <th>1481</th>\n",
              "      <td>IâÃÃ´m 19 in ten minutes. Wish I was 17 aga...</td>\n",
              "      <td>5</td>\n",
              "      <td>since then everythingâÃÃ´s gone down hill</td>\n",
              "    </tr>\n",
              "    <tr>\n",
              "      <th>1482</th>\n",
              "      <td>And as much as it hurts and exhausts you, you ...</td>\n",
              "      <td>4</td>\n",
              "      <td>because of guilt, your own and what others put...</td>\n",
              "    </tr>\n",
              "    <tr>\n",
              "      <th>1483</th>\n",
              "      <td>Now I can feel at least a little bit happy.\n",
              "\n",
              "L...</td>\n",
              "      <td>5</td>\n",
              "      <td>Let's wait and see if I'm going to win the who...</td>\n",
              "    </tr>\n",
              "    <tr>\n",
              "      <th>1484</th>\n",
              "      <td>I'm tired of having a extremely hard life, my ...</td>\n",
              "      <td>4</td>\n",
              "      <td>father used a crack and beat my mom, he's on c...</td>\n",
              "    </tr>\n",
              "    <tr>\n",
              "      <th>1485</th>\n",
              "      <td>I was at Sagres âÃÃ®the end of the worldâ...</td>\n",
              "      <td>5</td>\n",
              "      <td>alone</td>\n",
              "    </tr>\n",
              "  </tbody>\n",
              "</table>\n",
              "<p>1486 rows × 3 columns</p>\n",
              "</div>\n",
              "    <div class=\"colab-df-buttons\">\n",
              "\n",
              "  <div class=\"colab-df-container\">\n",
              "    <button class=\"colab-df-convert\" onclick=\"convertToInteractive('df-4b7e6cba-9421-4af5-9a5c-791330a567c4')\"\n",
              "            title=\"Convert this dataframe to an interactive table.\"\n",
              "            style=\"display:none;\">\n",
              "\n",
              "  <svg xmlns=\"http://www.w3.org/2000/svg\" height=\"24px\" viewBox=\"0 -960 960 960\">\n",
              "    <path d=\"M120-120v-720h720v720H120Zm60-500h600v-160H180v160Zm220 220h160v-160H400v160Zm0 220h160v-160H400v160ZM180-400h160v-160H180v160Zm440 0h160v-160H620v160ZM180-180h160v-160H180v160Zm440 0h160v-160H620v160Z\"/>\n",
              "  </svg>\n",
              "    </button>\n",
              "\n",
              "  <style>\n",
              "    .colab-df-container {\n",
              "      display:flex;\n",
              "      gap: 12px;\n",
              "    }\n",
              "\n",
              "    .colab-df-convert {\n",
              "      background-color: #E8F0FE;\n",
              "      border: none;\n",
              "      border-radius: 50%;\n",
              "      cursor: pointer;\n",
              "      display: none;\n",
              "      fill: #1967D2;\n",
              "      height: 32px;\n",
              "      padding: 0 0 0 0;\n",
              "      width: 32px;\n",
              "    }\n",
              "\n",
              "    .colab-df-convert:hover {\n",
              "      background-color: #E2EBFA;\n",
              "      box-shadow: 0px 1px 2px rgba(60, 64, 67, 0.3), 0px 1px 3px 1px rgba(60, 64, 67, 0.15);\n",
              "      fill: #174EA6;\n",
              "    }\n",
              "\n",
              "    .colab-df-buttons div {\n",
              "      margin-bottom: 4px;\n",
              "    }\n",
              "\n",
              "    [theme=dark] .colab-df-convert {\n",
              "      background-color: #3B4455;\n",
              "      fill: #D2E3FC;\n",
              "    }\n",
              "\n",
              "    [theme=dark] .colab-df-convert:hover {\n",
              "      background-color: #434B5C;\n",
              "      box-shadow: 0px 1px 3px 1px rgba(0, 0, 0, 0.15);\n",
              "      filter: drop-shadow(0px 1px 2px rgba(0, 0, 0, 0.3));\n",
              "      fill: #FFFFFF;\n",
              "    }\n",
              "  </style>\n",
              "\n",
              "    <script>\n",
              "      const buttonEl =\n",
              "        document.querySelector('#df-4b7e6cba-9421-4af5-9a5c-791330a567c4 button.colab-df-convert');\n",
              "      buttonEl.style.display =\n",
              "        google.colab.kernel.accessAllowed ? 'block' : 'none';\n",
              "\n",
              "      async function convertToInteractive(key) {\n",
              "        const element = document.querySelector('#df-4b7e6cba-9421-4af5-9a5c-791330a567c4');\n",
              "        const dataTable =\n",
              "          await google.colab.kernel.invokeFunction('convertToInteractive',\n",
              "                                                    [key], {});\n",
              "        if (!dataTable) return;\n",
              "\n",
              "        const docLinkHtml = 'Like what you see? Visit the ' +\n",
              "          '<a target=\"_blank\" href=https://colab.research.google.com/notebooks/data_table.ipynb>data table notebook</a>'\n",
              "          + ' to learn more about interactive tables.';\n",
              "        element.innerHTML = '';\n",
              "        dataTable['output_type'] = 'display_data';\n",
              "        await google.colab.output.renderOutput(dataTable, element);\n",
              "        const docLink = document.createElement('div');\n",
              "        docLink.innerHTML = docLinkHtml;\n",
              "        element.appendChild(docLink);\n",
              "      }\n",
              "    </script>\n",
              "  </div>\n",
              "\n",
              "\n",
              "<div id=\"df-864602b1-c6b6-436e-bf44-e16be3995006\">\n",
              "  <button class=\"colab-df-quickchart\" onclick=\"quickchart('df-864602b1-c6b6-436e-bf44-e16be3995006')\"\n",
              "            title=\"Suggest charts\"\n",
              "            style=\"display:none;\">\n",
              "\n",
              "<svg xmlns=\"http://www.w3.org/2000/svg\" height=\"24px\"viewBox=\"0 0 24 24\"\n",
              "     width=\"24px\">\n",
              "    <g>\n",
              "        <path d=\"M19 3H5c-1.1 0-2 .9-2 2v14c0 1.1.9 2 2 2h14c1.1 0 2-.9 2-2V5c0-1.1-.9-2-2-2zM9 17H7v-7h2v7zm4 0h-2V7h2v10zm4 0h-2v-4h2v4z\"/>\n",
              "    </g>\n",
              "</svg>\n",
              "  </button>\n",
              "\n",
              "<style>\n",
              "  .colab-df-quickchart {\n",
              "      --bg-color: #E8F0FE;\n",
              "      --fill-color: #1967D2;\n",
              "      --hover-bg-color: #E2EBFA;\n",
              "      --hover-fill-color: #174EA6;\n",
              "      --disabled-fill-color: #AAA;\n",
              "      --disabled-bg-color: #DDD;\n",
              "  }\n",
              "\n",
              "  [theme=dark] .colab-df-quickchart {\n",
              "      --bg-color: #3B4455;\n",
              "      --fill-color: #D2E3FC;\n",
              "      --hover-bg-color: #434B5C;\n",
              "      --hover-fill-color: #FFFFFF;\n",
              "      --disabled-bg-color: #3B4455;\n",
              "      --disabled-fill-color: #666;\n",
              "  }\n",
              "\n",
              "  .colab-df-quickchart {\n",
              "    background-color: var(--bg-color);\n",
              "    border: none;\n",
              "    border-radius: 50%;\n",
              "    cursor: pointer;\n",
              "    display: none;\n",
              "    fill: var(--fill-color);\n",
              "    height: 32px;\n",
              "    padding: 0;\n",
              "    width: 32px;\n",
              "  }\n",
              "\n",
              "  .colab-df-quickchart:hover {\n",
              "    background-color: var(--hover-bg-color);\n",
              "    box-shadow: 0 1px 2px rgba(60, 64, 67, 0.3), 0 1px 3px 1px rgba(60, 64, 67, 0.15);\n",
              "    fill: var(--button-hover-fill-color);\n",
              "  }\n",
              "\n",
              "  .colab-df-quickchart-complete:disabled,\n",
              "  .colab-df-quickchart-complete:disabled:hover {\n",
              "    background-color: var(--disabled-bg-color);\n",
              "    fill: var(--disabled-fill-color);\n",
              "    box-shadow: none;\n",
              "  }\n",
              "\n",
              "  .colab-df-spinner {\n",
              "    border: 2px solid var(--fill-color);\n",
              "    border-color: transparent;\n",
              "    border-bottom-color: var(--fill-color);\n",
              "    animation:\n",
              "      spin 1s steps(1) infinite;\n",
              "  }\n",
              "\n",
              "  @keyframes spin {\n",
              "    0% {\n",
              "      border-color: transparent;\n",
              "      border-bottom-color: var(--fill-color);\n",
              "      border-left-color: var(--fill-color);\n",
              "    }\n",
              "    20% {\n",
              "      border-color: transparent;\n",
              "      border-left-color: var(--fill-color);\n",
              "      border-top-color: var(--fill-color);\n",
              "    }\n",
              "    30% {\n",
              "      border-color: transparent;\n",
              "      border-left-color: var(--fill-color);\n",
              "      border-top-color: var(--fill-color);\n",
              "      border-right-color: var(--fill-color);\n",
              "    }\n",
              "    40% {\n",
              "      border-color: transparent;\n",
              "      border-right-color: var(--fill-color);\n",
              "      border-top-color: var(--fill-color);\n",
              "    }\n",
              "    60% {\n",
              "      border-color: transparent;\n",
              "      border-right-color: var(--fill-color);\n",
              "    }\n",
              "    80% {\n",
              "      border-color: transparent;\n",
              "      border-right-color: var(--fill-color);\n",
              "      border-bottom-color: var(--fill-color);\n",
              "    }\n",
              "    90% {\n",
              "      border-color: transparent;\n",
              "      border-bottom-color: var(--fill-color);\n",
              "    }\n",
              "  }\n",
              "</style>\n",
              "\n",
              "  <script>\n",
              "    async function quickchart(key) {\n",
              "      const quickchartButtonEl =\n",
              "        document.querySelector('#' + key + ' button');\n",
              "      quickchartButtonEl.disabled = true;  // To prevent multiple clicks.\n",
              "      quickchartButtonEl.classList.add('colab-df-spinner');\n",
              "      try {\n",
              "        const charts = await google.colab.kernel.invokeFunction(\n",
              "            'suggestCharts', [key], {});\n",
              "      } catch (error) {\n",
              "        console.error('Error during call to suggestCharts:', error);\n",
              "      }\n",
              "      quickchartButtonEl.classList.remove('colab-df-spinner');\n",
              "      quickchartButtonEl.classList.add('colab-df-quickchart-complete');\n",
              "    }\n",
              "    (() => {\n",
              "      let quickchartButtonEl =\n",
              "        document.querySelector('#df-864602b1-c6b6-436e-bf44-e16be3995006 button');\n",
              "      quickchartButtonEl.style.display =\n",
              "        google.colab.kernel.accessAllowed ? 'block' : 'none';\n",
              "    })();\n",
              "  </script>\n",
              "</div>\n",
              "\n",
              "  <div id=\"id_22d41de6-b6f6-4290-9ca1-dfa2bde68ea2\">\n",
              "    <style>\n",
              "      .colab-df-generate {\n",
              "        background-color: #E8F0FE;\n",
              "        border: none;\n",
              "        border-radius: 50%;\n",
              "        cursor: pointer;\n",
              "        display: none;\n",
              "        fill: #1967D2;\n",
              "        height: 32px;\n",
              "        padding: 0 0 0 0;\n",
              "        width: 32px;\n",
              "      }\n",
              "\n",
              "      .colab-df-generate:hover {\n",
              "        background-color: #E2EBFA;\n",
              "        box-shadow: 0px 1px 2px rgba(60, 64, 67, 0.3), 0px 1px 3px 1px rgba(60, 64, 67, 0.15);\n",
              "        fill: #174EA6;\n",
              "      }\n",
              "\n",
              "      [theme=dark] .colab-df-generate {\n",
              "        background-color: #3B4455;\n",
              "        fill: #D2E3FC;\n",
              "      }\n",
              "\n",
              "      [theme=dark] .colab-df-generate:hover {\n",
              "        background-color: #434B5C;\n",
              "        box-shadow: 0px 1px 3px 1px rgba(0, 0, 0, 0.15);\n",
              "        filter: drop-shadow(0px 1px 2px rgba(0, 0, 0, 0.3));\n",
              "        fill: #FFFFFF;\n",
              "      }\n",
              "    </style>\n",
              "    <button class=\"colab-df-generate\" onclick=\"generateWithVariable('df_test')\"\n",
              "            title=\"Generate code using this dataframe.\"\n",
              "            style=\"display:none;\">\n",
              "\n",
              "  <svg xmlns=\"http://www.w3.org/2000/svg\" height=\"24px\"viewBox=\"0 0 24 24\"\n",
              "       width=\"24px\">\n",
              "    <path d=\"M7,19H8.4L18.45,9,17,7.55,7,17.6ZM5,21V16.75L18.45,3.32a2,2,0,0,1,2.83,0l1.4,1.43a1.91,1.91,0,0,1,.58,1.4,1.91,1.91,0,0,1-.58,1.4L9.25,21ZM18.45,9,17,7.55Zm-12,3A5.31,5.31,0,0,0,4.9,8.1,5.31,5.31,0,0,0,1,6.5,5.31,5.31,0,0,0,4.9,4.9,5.31,5.31,0,0,0,6.5,1,5.31,5.31,0,0,0,8.1,4.9,5.31,5.31,0,0,0,12,6.5,5.46,5.46,0,0,0,6.5,12Z\"/>\n",
              "  </svg>\n",
              "    </button>\n",
              "    <script>\n",
              "      (() => {\n",
              "      const buttonEl =\n",
              "        document.querySelector('#id_22d41de6-b6f6-4290-9ca1-dfa2bde68ea2 button.colab-df-generate');\n",
              "      buttonEl.style.display =\n",
              "        google.colab.kernel.accessAllowed ? 'block' : 'none';\n",
              "\n",
              "      buttonEl.onclick = () => {\n",
              "        google.colab.notebook.generateWithVariable('df_test');\n",
              "      }\n",
              "      })();\n",
              "    </script>\n",
              "  </div>\n",
              "\n",
              "    </div>\n",
              "  </div>\n"
            ],
            "application/vnd.google.colaboratory.intrinsic+json": {
              "type": "dataframe",
              "variable_name": "df_test",
              "summary": "{\n  \"name\": \"df_test\",\n  \"rows\": 1486,\n  \"fields\": [\n    {\n      \"column\": \"text\",\n      \"properties\": {\n        \"dtype\": \"string\",\n        \"num_unique_values\": 876,\n        \"samples\": [\n          \"Apologies for the lengthy post..\\n**A brief about me:**\\n*Personal*:I am 25 yo male,gay,was molested by a few guys at different times.I  have low self-esteem about my physique(dark toned,thin with glasses).I have dental fluorosis(dark yellowish teeth), so I never smiled or laughed with my mouth open.Became sort of addicted to porn,hookups between August 2016-May,2017-had poor performance in career. Did shitty things like cruising at public toilets/groping at busses,etc.. since 2013 at various times.\\nEven through all these confusions, I am quite social now with all the fellow interns. \\nI never shared any of my problems because, no body gives a shit and they might take it as a way to tease me. I hate small talk/sharing of facts/any talk about movies.I usually am silent if I went for a group dinner. I find it pretty hard to talk in group,also, I do not remember such facts about which country has X resources/so on.\\n\\n*Career*:Finished Masters in Engineering with above avg GPA. Got a job through campus.Now, doing a research Internship and planning for PhD.\\n**About current work:**In my present internship, I was given a development project which I was not interested at all.Every others were given some interesting research work.I could have finished mine earlier and switched to something else, but I am dragging the work for so longgggggg. In every weekly meeting, I just lie to the Prof. that I did something something.All the other interns have detailed slides of their past week's work, but I write it in 1 or 2 lines. So, I am the worst performing guy in the Lab(I have the potential, but the project is dull and in this period, I came to a good understanding of my behavior,sexuality,addictions and so on.Now I am on track-No hookups,no Fap,no addiction to porn).I was also addicted to chess--played for 4-5 hours straight daily while others were seriously working on their projects.\\n\\n**What happened:** This New Year, I was not invited for a jungle camping which every other lab mates went.Around 10+ people went.I used to talk with everyone whenever I meet.Even I asked a guy, the day before what was his plan for New year, he said he is just gonna stay in room. Few days back, they didn't invite me for a dinner too.\\n\\nI do not know what has caused them to ignore me. Most of them are from well-to-do family, but mine is still kind of unstable with debts.So, I never eat costlier outside food and wear same clothes again and again and never go out for watching movies/party. I am in the city for 4 years and have been to a few places every now and then alone and am not interested to go out nowadays.I went for a cycle ride 2 weeks back with one other girl intern without informing anyone.\\n\\n**How I felt that day?**\\nI was pretty irritated. They gathered outside my room discussing with my roommate,before leaving for the party.My roommate too didn't invite me either.The next few hours, I was thinking what I did wrong? why they left me alone? Why that guy lied? and this affected my normal day-day activities.I took longer time than usual in everything. I relapsed to chatting with strangers for hookups and jerked off after 25+ days of NoFap. I spent around 9 hours watching porn/porn images/chat with strangers.\\n\\n**How do I feel now?**\\n* I know God has different plans for me and this party/get together is not for me.\\n* I am gonna stop talking with everyone except the close ones and prove my worth by achieving a level higher than all those people.\\n* I started my 2018 pretty good, with some self reflection and new thoughts for my PhD admission. I am kind of between introvert and extrovert, so my room was the ideal place for me anytime.\\n*I set out a few goals for 2018 and I am on track.I have read 30 pages yesterday and continuing.Target: 100 books in 2018.\\n*I didn't drink or eat crazy and have a good start.\\n\\nThough, everything is fine with me now,I would like to know any similar experiences and how people dealt with this. I am okay with not going for the party(bcoz, I would not have enjoyed as much as staying alone),but I could not handle the lie and the fact that everybody took great efforts to conceal this from me.\\n\\nTl;Dr: Not invited for the New Year celebration by lab mates.How to move forward??\\nSorry if this is not the right subreddit to ask about this.\",\n          \"I want to die, I want everything to stop and I want to stop my thoughts and my lungs. Every single breath hurts my body, it\\u00e2\\u0080\\u009a\\u00c3\\u0084\\u00c3\\u00b4s like I\\u00e2\\u0080\\u009a\\u00c3\\u0084\\u00c3\\u00b4m struggling to breathe even though it\\u00e2\\u0080\\u009a\\u00c3\\u0084\\u00c3\\u00b4s basic instinct. I self harm all of the time and recently I\\u00e2\\u0080\\u009a\\u00c3\\u0084\\u00c3\\u00b4ve done worse than I ever have before. My whole body aches and I\\u00e2\\u0080\\u009a\\u00c3\\u0084\\u00c3\\u00b4m constantly tired, I just don\\u00e2\\u0080\\u009a\\u00c3\\u0084\\u00c3\\u00b4t have energy for life anymore. I want to kill myself and be done with it, but theres so many things I need to work out. Who will find my body? How will I do it? Will it hurt? Who should I give my belongings and pets to? Anyway, I just want someone to listen to me and to talk to me about how I really feel. Everyone always brushes me off. Nobody listens to anything I say, I feel so alone. I\\u00e2\\u0080\\u009a\\u00c3\\u0084\\u00c3\\u00b4m not sure if I truly want to die or if I just want to hurt myself badly enough to be hospitalised for a few weeks. I\\u00e2\\u0080\\u009a\\u00c3\\u0084\\u00c3\\u00b4m scared to truly die, but is it strange to want to hurt myself and be hospitalised for a while? I want to take a break from my life and be somewhere with people who understand and will take care of me. I feel like the only way I\\u00e2\\u0080\\u009a\\u00c3\\u0084\\u00c3\\u00b4ll be able to escape is if I attempt suicide and am hospitalised, and they\\u00e2\\u0080\\u009a\\u00c3\\u0084\\u00c3\\u00b4ll finally have to take me seriously. Is this a crazy thought? Does anyone else feel this way? I don\\u00e2\\u0080\\u009a\\u00c3\\u0084\\u00c3\\u00b4t know what to do. I have too many emotions.\",\n          \"Everything feels hopeless. How could I ever be happy again? If I relapsed once, who\\u00e2\\u0080\\u009a\\u00c3\\u0084\\u00c3\\u00b4s to say I won\\u00e2\\u0080\\u009a\\u00c3\\u0084\\u00c3\\u00b4t again? I don\\u00e2\\u0080\\u009a\\u00c3\\u0084\\u00c3\\u00b4t even know if there\\u00e2\\u0080\\u009a\\u00c3\\u0084\\u00c3\\u00b4s a light at the end of the tunnel\"\n        ],\n        \"semantic_type\": \"\",\n        \"description\": \"\"\n      }\n    },\n    {\n      \"column\": \"category\",\n      \"properties\": {\n        \"dtype\": \"Int64\",\n        \"num_unique_values\": 6,\n        \"samples\": [\n          2,\n          3,\n          4\n        ],\n        \"semantic_type\": \"\",\n        \"description\": \"\"\n      }\n    },\n    {\n      \"column\": \"explanation\",\n      \"properties\": {\n        \"dtype\": \"string\",\n        \"num_unique_values\": 770,\n        \"samples\": [\n          \"thougts, want them to go away\",\n          \" been hard trying to focus for the past few days at work and I feel like I'm not productive at al\",\n          \"saw my mother and cried again. I ended up having dinner with my family, doing some house chores and I can't hold my tears anymore,I'm already more stable than before. I can't thank you enough for how supported I've felt\"\n        ],\n        \"semantic_type\": \"\",\n        \"description\": \"\"\n      }\n    }\n  ]\n}"
            }
          },
          "metadata": {},
          "execution_count": 7
        }
      ]
    },
    {
      "cell_type": "code",
      "source": [
        "\n",
        "\n",
        "#training data\n",
        "# df_train = pd.DataFrame(read_file, columns= ['selftext','ANNOTATIONS'])\n",
        "df_train = df_train.rename(columns={'ï»¿text': 'text','category':'label'})\n",
        "df_train = df_train.convert_dtypes()\n",
        "\n",
        "#testing data\n",
        "# df_test = pd.DataFrame(read_file1,columns= ['selftext','ANNOTATIONS'])####\n",
        "df_test = df_test.rename(columns={'ï»¿text': 'text','category':'label'})\n",
        "df_test = df_test.convert_dtypes()\n",
        "\n",
        "#validation data\n",
        "# df_val = pd.DataFrame(read_file2,columns= ['selftext','ANNOTATIONS'])####\n",
        "df_val = df_val.rename(columns={'ï»¿text': 'text','category':'label'})\n",
        "df_val = df_val.convert_dtypes()\n",
        "df_test.columns"
      ],
      "metadata": {
        "colab": {
          "base_uri": "https://localhost:8080/"
        },
        "id": "RDoH3NIi-eBR",
        "outputId": "319af578-a079-42ab-b509-49637bf3f6d2"
      },
      "id": "RDoH3NIi-eBR",
      "execution_count": 8,
      "outputs": [
        {
          "output_type": "execute_result",
          "data": {
            "text/plain": [
              "Index(['text', 'label', 'explanation'], dtype='object')"
            ]
          },
          "metadata": {},
          "execution_count": 8
        }
      ]
    },
    {
      "cell_type": "code",
      "source": [
        "# cams_file=pd.read_csv('/content/drive/MyDrive/DL_JHU_project/CAMS-main/CAMS/data/added_CAMS_data.csv', encoding = \"ISO-8859-1\")\n",
        "# cams_test=pd.DataFrame(cams_file)####\n",
        "# cams_test = cams_test.rename(columns={'selftext': 'text','cause':'label'})\n",
        "# cams_test= cams_test.convert_dtypes()\n",
        "# cams_test.drop(cams_test[cams_test.text==\"emptypost\"].index, inplace=True)\n",
        "# cams_test.drop(cams_test[cams_test.label==\" \"].index, inplace=True)\n",
        "# cams_test.dropna(inplace=True)\n",
        "# # print(cams_test.info())\n",
        "# cams_test"
      ],
      "metadata": {
        "id": "u65K94_pnHkN"
      },
      "id": "u65K94_pnHkN",
      "execution_count": 9,
      "outputs": []
    },
    {
      "cell_type": "code",
      "source": [
        "## some preprocessings due to wrong entries\n",
        "df_test.drop(df_test[df_test.text==\"emptypost\"].index, inplace=True)\n",
        "df_train.drop(df_train[df_train.text==\"emptypost\"].index, inplace=True)\n",
        "df_test.drop(df_test[df_test.label==\" \"].index, inplace=True)\n",
        "df_train.drop(df_train[df_train.label==\" \"].index, inplace=True)\n",
        "df_test.dropna(inplace=True)\n",
        "df_train.dropna(inplace=True)\n",
        "df_val.dropna(inplace=True)"
      ],
      "metadata": {
        "id": "5nDLw5wqnHoa"
      },
      "id": "5nDLw5wqnHoa",
      "execution_count": 10,
      "outputs": []
    },
    {
      "cell_type": "code",
      "source": [
        "frame = [df_test, df_train]\n",
        "data =  pd.concat(frame)"
      ],
      "metadata": {
        "id": "nJp3wZiWnHtW"
      },
      "id": "nJp3wZiWnHtW",
      "execution_count": 11,
      "outputs": []
    },
    {
      "cell_type": "code",
      "source": [
        "! pip install transformers"
      ],
      "metadata": {
        "id": "bsvsvyEDnpmt",
        "colab": {
          "base_uri": "https://localhost:8080/"
        },
        "outputId": "1373f820-92dc-4e6d-d47e-2bed4b398624"
      },
      "id": "bsvsvyEDnpmt",
      "execution_count": 12,
      "outputs": [
        {
          "output_type": "stream",
          "name": "stdout",
          "text": [
            "Requirement already satisfied: transformers in /usr/local/lib/python3.10/dist-packages (4.46.3)\n",
            "Requirement already satisfied: filelock in /usr/local/lib/python3.10/dist-packages (from transformers) (3.16.1)\n",
            "Requirement already satisfied: huggingface-hub<1.0,>=0.23.2 in /usr/local/lib/python3.10/dist-packages (from transformers) (0.26.3)\n",
            "Requirement already satisfied: numpy>=1.17 in /usr/local/lib/python3.10/dist-packages (from transformers) (1.26.4)\n",
            "Requirement already satisfied: packaging>=20.0 in /usr/local/lib/python3.10/dist-packages (from transformers) (24.2)\n",
            "Requirement already satisfied: pyyaml>=5.1 in /usr/local/lib/python3.10/dist-packages (from transformers) (6.0.2)\n",
            "Requirement already satisfied: regex!=2019.12.17 in /usr/local/lib/python3.10/dist-packages (from transformers) (2024.9.11)\n",
            "Requirement already satisfied: requests in /usr/local/lib/python3.10/dist-packages (from transformers) (2.32.3)\n",
            "Requirement already satisfied: tokenizers<0.21,>=0.20 in /usr/local/lib/python3.10/dist-packages (from transformers) (0.20.3)\n",
            "Requirement already satisfied: safetensors>=0.4.1 in /usr/local/lib/python3.10/dist-packages (from transformers) (0.4.5)\n",
            "Requirement already satisfied: tqdm>=4.27 in /usr/local/lib/python3.10/dist-packages (from transformers) (4.66.6)\n",
            "Requirement already satisfied: fsspec>=2023.5.0 in /usr/local/lib/python3.10/dist-packages (from huggingface-hub<1.0,>=0.23.2->transformers) (2024.10.0)\n",
            "Requirement already satisfied: typing-extensions>=3.7.4.3 in /usr/local/lib/python3.10/dist-packages (from huggingface-hub<1.0,>=0.23.2->transformers) (4.12.2)\n",
            "Requirement already satisfied: charset-normalizer<4,>=2 in /usr/local/lib/python3.10/dist-packages (from requests->transformers) (3.4.0)\n",
            "Requirement already satisfied: idna<4,>=2.5 in /usr/local/lib/python3.10/dist-packages (from requests->transformers) (3.10)\n",
            "Requirement already satisfied: urllib3<3,>=1.21.1 in /usr/local/lib/python3.10/dist-packages (from requests->transformers) (2.2.3)\n",
            "Requirement already satisfied: certifi>=2017.4.17 in /usr/local/lib/python3.10/dist-packages (from requests->transformers) (2024.8.30)\n"
          ]
        }
      ]
    },
    {
      "cell_type": "code",
      "source": [
        "from transformers import AutoTokenizer, AutoModel\n",
        "import sys\n",
        "import csv\n",
        "import re\n",
        "import string\n",
        "import pickle\n",
        "from collections import defaultdict\n",
        "from nltk.corpus import stopwords\n",
        "from nltk import word_tokenize\n",
        "import matplotlib.pyplot as plt\n",
        "from sklearn.model_selection import train_test_split\n",
        "from sklearn.metrics import classification_report\n",
        "from sklearn.utils.class_weight import compute_class_weight\n",
        "import nltk\n",
        "from transformers import AdamW\n",
        "import torch\n",
        "import torch.nn as nn\n",
        "from torch.utils.data import TensorDataset, DataLoader, RandomSampler, SequentialSampler\n",
        "\n",
        "# STOPWORDS = set(stopwords.words('english'))\n",
        "from bs4 import BeautifulSoup\n",
        "import numpy as np\n",
        "import pandas as pd"
      ],
      "metadata": {
        "id": "gicCfG-Anjqo"
      },
      "id": "gicCfG-Anjqo",
      "execution_count": 13,
      "outputs": []
    },
    {
      "cell_type": "code",
      "source": [
        "import nltk\n",
        "nltk.download('stopwords')\n",
        "nltk.download('punkt_tab')"
      ],
      "metadata": {
        "colab": {
          "base_uri": "https://localhost:8080/"
        },
        "id": "FZxC0mNS3xaJ",
        "outputId": "b3b76c80-eb1e-4b2c-ad61-0c58c0601647"
      },
      "id": "FZxC0mNS3xaJ",
      "execution_count": 14,
      "outputs": [
        {
          "output_type": "stream",
          "name": "stderr",
          "text": [
            "[nltk_data] Downloading package stopwords to /root/nltk_data...\n",
            "[nltk_data]   Unzipping corpora/stopwords.zip.\n",
            "[nltk_data] Downloading package punkt_tab to /root/nltk_data...\n",
            "[nltk_data]   Unzipping tokenizers/punkt_tab.zip.\n"
          ]
        },
        {
          "output_type": "execute_result",
          "data": {
            "text/plain": [
              "True"
            ]
          },
          "metadata": {},
          "execution_count": 14
        }
      ]
    },
    {
      "cell_type": "code",
      "source": [
        "import nltk\n",
        "nltk.download('punkt')"
      ],
      "metadata": {
        "colab": {
          "base_uri": "https://localhost:8080/"
        },
        "id": "EXCb0-ym39qa",
        "outputId": "93285a5b-fbee-4dbf-c78b-f4e150738137"
      },
      "id": "EXCb0-ym39qa",
      "execution_count": 15,
      "outputs": [
        {
          "output_type": "stream",
          "name": "stderr",
          "text": [
            "[nltk_data] Downloading package punkt to /root/nltk_data...\n",
            "[nltk_data]   Unzipping tokenizers/punkt.zip.\n"
          ]
        },
        {
          "output_type": "execute_result",
          "data": {
            "text/plain": [
              "True"
            ]
          },
          "metadata": {},
          "execution_count": 15
        }
      ]
    },
    {
      "cell_type": "code",
      "source": [
        "stop_words = set(stopwords.words('english'))\n",
        "REPLACE_BY_SPACE_RE = re.compile('[/(){}\\[\\]\\|@,;]')\n",
        "BAD_SYMBOLS_RE = re.compile('[^0-9a-z #+_]')"
      ],
      "metadata": {
        "id": "CSpGVa6Snjvj"
      },
      "id": "CSpGVa6Snjvj",
      "execution_count": 16,
      "outputs": []
    },
    {
      "cell_type": "code",
      "source": [
        "def clean_text(text):\n",
        "    text = text.lower()\n",
        "    text = REPLACE_BY_SPACE_RE.sub(' ', text)\n",
        "    text = BAD_SYMBOLS_RE.sub('', text)\n",
        "    text = text.replace('x', '')\n",
        "    tokens = nltk.word_tokenize(text)\n",
        "    filtered_tokens = [token for token in tokens if token not in stop_words]\n",
        "    text = ' '.join(filtered_tokens)\n",
        "    return text"
      ],
      "metadata": {
        "id": "wnVF97Jnnj0U"
      },
      "id": "wnVF97Jnnj0U",
      "execution_count": 17,
      "outputs": []
    },
    {
      "cell_type": "code",
      "source": [
        "# training data\n",
        "df_train = df_train.reset_index(drop=True)\n",
        "df_train['text'] = df_train['text'].apply(clean_text)\n",
        "df_train['text'] = df_train['text'].str.replace('\\d+', '')\n",
        "\n",
        "\n",
        "# val data\n",
        "df_val = df_val.reset_index(drop=True)\n",
        "df_val['text'] = df_val['text'].apply(clean_text)\n",
        "# df_val['text'] = df_val['text'].str.replace('\\d+', '')\n",
        "\n",
        "# testing data\n",
        "df_test = df_test.reset_index(drop=True)\n",
        "df_test['text'] = df_test['text'].apply(clean_text)\n",
        "df_test['text'] = df_test['text'].str.replace('\\d+', '')"
      ],
      "metadata": {
        "id": "a2dXg8CDn0fC"
      },
      "id": "a2dXg8CDn0fC",
      "execution_count": 18,
      "outputs": []
    },
    {
      "cell_type": "code",
      "source": [
        "len(df_train), len(df_test), len(df_val)"
      ],
      "metadata": {
        "colab": {
          "base_uri": "https://localhost:8080/"
        },
        "id": "lrgeikhE_f-_",
        "outputId": "c6d5ee12-6a9d-4a6b-875e-25245cf5195d"
      },
      "id": "lrgeikhE_f-_",
      "execution_count": 19,
      "outputs": [
        {
          "output_type": "execute_result",
          "data": {
            "text/plain": [
              "(3535, 1259, 1215)"
            ]
          },
          "metadata": {},
          "execution_count": 19
        }
      ]
    },
    {
      "cell_type": "code",
      "source": [
        "max([len(text.split()) for text in df_train['text']])"
      ],
      "metadata": {
        "colab": {
          "base_uri": "https://localhost:8080/"
        },
        "id": "Lfut42Z3u9qZ",
        "outputId": "d7e32785-24d6-48cc-da18-4d825cef11fa"
      },
      "id": "Lfut42Z3u9qZ",
      "execution_count": 20,
      "outputs": [
        {
          "output_type": "execute_result",
          "data": {
            "text/plain": [
              "1569"
            ]
          },
          "metadata": {},
          "execution_count": 20
        }
      ]
    },
    {
      "cell_type": "code",
      "source": [
        "df_train"
      ],
      "metadata": {
        "id": "a7xug8M1vDqL",
        "colab": {
          "base_uri": "https://localhost:8080/",
          "height": 423
        },
        "outputId": "5b809afb-2a53-4c66-b51a-b729aacc57ec"
      },
      "id": "a7xug8M1vDqL",
      "execution_count": 21,
      "outputs": [
        {
          "output_type": "execute_result",
          "data": {
            "text/plain": [
              "                                                   text  label  \\\n",
              "0     want moment peace silenceim tired told shut ev...      4   \n",
              "1     like much pain cant seem cry sit feeling fucki...      5   \n",
              "2     mean fucking awful man remember used help peop...      1   \n",
              "3     growing people always tell somebody whoever wa...      1   \n",
              "4     hello using throwaway account frequent sub mai...      4   \n",
              "...                                                 ...    ...   \n",
              "3530  first year college everytime go feel depressed...      2   \n",
              "3531  think get misinterpreted lot dont feel good im...      1   \n",
              "3532  okay etremely embarrassing called everything s...      2   \n",
              "3533  neither 2016also 20152014 whatever2013 nope201...      5   \n",
              "3534  tried kill last night didnt go iti thinking ma...      5   \n",
              "\n",
              "                                            explanation  \n",
              "0     being bullied on a daily basis, humiliated, an...  \n",
              "1                      feeling so numb , i do not care   \n",
              "2     I make people cry for no good reason, I feel f...  \n",
              "3     im nothing , worthless and nobody , cried with...  \n",
              "4     can't trust my girlfriend, she ended pushing m...  \n",
              "...                                                 ...  \n",
              "3530  first year in  college and everytime i go  i f...  \n",
              "3531  get misinterpreted, need validation, don't fee...  \n",
              "3532  called lazy, out of employment, bullied by co-...  \n",
              "3533  instead of working on my art and bounding with...  \n",
              "3534  was thinking about making suicide my new years...  \n",
              "\n",
              "[3535 rows x 3 columns]"
            ],
            "text/html": [
              "\n",
              "  <div id=\"df-fdff9fb3-9f22-4b8b-84d4-79e785ec7e97\" class=\"colab-df-container\">\n",
              "    <div>\n",
              "<style scoped>\n",
              "    .dataframe tbody tr th:only-of-type {\n",
              "        vertical-align: middle;\n",
              "    }\n",
              "\n",
              "    .dataframe tbody tr th {\n",
              "        vertical-align: top;\n",
              "    }\n",
              "\n",
              "    .dataframe thead th {\n",
              "        text-align: right;\n",
              "    }\n",
              "</style>\n",
              "<table border=\"1\" class=\"dataframe\">\n",
              "  <thead>\n",
              "    <tr style=\"text-align: right;\">\n",
              "      <th></th>\n",
              "      <th>text</th>\n",
              "      <th>label</th>\n",
              "      <th>explanation</th>\n",
              "    </tr>\n",
              "  </thead>\n",
              "  <tbody>\n",
              "    <tr>\n",
              "      <th>0</th>\n",
              "      <td>want moment peace silenceim tired told shut ev...</td>\n",
              "      <td>4</td>\n",
              "      <td>being bullied on a daily basis, humiliated, an...</td>\n",
              "    </tr>\n",
              "    <tr>\n",
              "      <th>1</th>\n",
              "      <td>like much pain cant seem cry sit feeling fucki...</td>\n",
              "      <td>5</td>\n",
              "      <td>feeling so numb , i do not care</td>\n",
              "    </tr>\n",
              "    <tr>\n",
              "      <th>2</th>\n",
              "      <td>mean fucking awful man remember used help peop...</td>\n",
              "      <td>1</td>\n",
              "      <td>I make people cry for no good reason, I feel f...</td>\n",
              "    </tr>\n",
              "    <tr>\n",
              "      <th>3</th>\n",
              "      <td>growing people always tell somebody whoever wa...</td>\n",
              "      <td>1</td>\n",
              "      <td>im nothing , worthless and nobody , cried with...</td>\n",
              "    </tr>\n",
              "    <tr>\n",
              "      <th>4</th>\n",
              "      <td>hello using throwaway account frequent sub mai...</td>\n",
              "      <td>4</td>\n",
              "      <td>can't trust my girlfriend, she ended pushing m...</td>\n",
              "    </tr>\n",
              "    <tr>\n",
              "      <th>...</th>\n",
              "      <td>...</td>\n",
              "      <td>...</td>\n",
              "      <td>...</td>\n",
              "    </tr>\n",
              "    <tr>\n",
              "      <th>3530</th>\n",
              "      <td>first year college everytime go feel depressed...</td>\n",
              "      <td>2</td>\n",
              "      <td>first year in  college and everytime i go  i f...</td>\n",
              "    </tr>\n",
              "    <tr>\n",
              "      <th>3531</th>\n",
              "      <td>think get misinterpreted lot dont feel good im...</td>\n",
              "      <td>1</td>\n",
              "      <td>get misinterpreted, need validation, don't fee...</td>\n",
              "    </tr>\n",
              "    <tr>\n",
              "      <th>3532</th>\n",
              "      <td>okay etremely embarrassing called everything s...</td>\n",
              "      <td>2</td>\n",
              "      <td>called lazy, out of employment, bullied by co-...</td>\n",
              "    </tr>\n",
              "    <tr>\n",
              "      <th>3533</th>\n",
              "      <td>neither 2016also 20152014 whatever2013 nope201...</td>\n",
              "      <td>5</td>\n",
              "      <td>instead of working on my art and bounding with...</td>\n",
              "    </tr>\n",
              "    <tr>\n",
              "      <th>3534</th>\n",
              "      <td>tried kill last night didnt go iti thinking ma...</td>\n",
              "      <td>5</td>\n",
              "      <td>was thinking about making suicide my new years...</td>\n",
              "    </tr>\n",
              "  </tbody>\n",
              "</table>\n",
              "<p>3535 rows × 3 columns</p>\n",
              "</div>\n",
              "    <div class=\"colab-df-buttons\">\n",
              "\n",
              "  <div class=\"colab-df-container\">\n",
              "    <button class=\"colab-df-convert\" onclick=\"convertToInteractive('df-fdff9fb3-9f22-4b8b-84d4-79e785ec7e97')\"\n",
              "            title=\"Convert this dataframe to an interactive table.\"\n",
              "            style=\"display:none;\">\n",
              "\n",
              "  <svg xmlns=\"http://www.w3.org/2000/svg\" height=\"24px\" viewBox=\"0 -960 960 960\">\n",
              "    <path d=\"M120-120v-720h720v720H120Zm60-500h600v-160H180v160Zm220 220h160v-160H400v160Zm0 220h160v-160H400v160ZM180-400h160v-160H180v160Zm440 0h160v-160H620v160ZM180-180h160v-160H180v160Zm440 0h160v-160H620v160Z\"/>\n",
              "  </svg>\n",
              "    </button>\n",
              "\n",
              "  <style>\n",
              "    .colab-df-container {\n",
              "      display:flex;\n",
              "      gap: 12px;\n",
              "    }\n",
              "\n",
              "    .colab-df-convert {\n",
              "      background-color: #E8F0FE;\n",
              "      border: none;\n",
              "      border-radius: 50%;\n",
              "      cursor: pointer;\n",
              "      display: none;\n",
              "      fill: #1967D2;\n",
              "      height: 32px;\n",
              "      padding: 0 0 0 0;\n",
              "      width: 32px;\n",
              "    }\n",
              "\n",
              "    .colab-df-convert:hover {\n",
              "      background-color: #E2EBFA;\n",
              "      box-shadow: 0px 1px 2px rgba(60, 64, 67, 0.3), 0px 1px 3px 1px rgba(60, 64, 67, 0.15);\n",
              "      fill: #174EA6;\n",
              "    }\n",
              "\n",
              "    .colab-df-buttons div {\n",
              "      margin-bottom: 4px;\n",
              "    }\n",
              "\n",
              "    [theme=dark] .colab-df-convert {\n",
              "      background-color: #3B4455;\n",
              "      fill: #D2E3FC;\n",
              "    }\n",
              "\n",
              "    [theme=dark] .colab-df-convert:hover {\n",
              "      background-color: #434B5C;\n",
              "      box-shadow: 0px 1px 3px 1px rgba(0, 0, 0, 0.15);\n",
              "      filter: drop-shadow(0px 1px 2px rgba(0, 0, 0, 0.3));\n",
              "      fill: #FFFFFF;\n",
              "    }\n",
              "  </style>\n",
              "\n",
              "    <script>\n",
              "      const buttonEl =\n",
              "        document.querySelector('#df-fdff9fb3-9f22-4b8b-84d4-79e785ec7e97 button.colab-df-convert');\n",
              "      buttonEl.style.display =\n",
              "        google.colab.kernel.accessAllowed ? 'block' : 'none';\n",
              "\n",
              "      async function convertToInteractive(key) {\n",
              "        const element = document.querySelector('#df-fdff9fb3-9f22-4b8b-84d4-79e785ec7e97');\n",
              "        const dataTable =\n",
              "          await google.colab.kernel.invokeFunction('convertToInteractive',\n",
              "                                                    [key], {});\n",
              "        if (!dataTable) return;\n",
              "\n",
              "        const docLinkHtml = 'Like what you see? Visit the ' +\n",
              "          '<a target=\"_blank\" href=https://colab.research.google.com/notebooks/data_table.ipynb>data table notebook</a>'\n",
              "          + ' to learn more about interactive tables.';\n",
              "        element.innerHTML = '';\n",
              "        dataTable['output_type'] = 'display_data';\n",
              "        await google.colab.output.renderOutput(dataTable, element);\n",
              "        const docLink = document.createElement('div');\n",
              "        docLink.innerHTML = docLinkHtml;\n",
              "        element.appendChild(docLink);\n",
              "      }\n",
              "    </script>\n",
              "  </div>\n",
              "\n",
              "\n",
              "<div id=\"df-3622198d-95b1-46bd-b2ef-966a7fc348b7\">\n",
              "  <button class=\"colab-df-quickchart\" onclick=\"quickchart('df-3622198d-95b1-46bd-b2ef-966a7fc348b7')\"\n",
              "            title=\"Suggest charts\"\n",
              "            style=\"display:none;\">\n",
              "\n",
              "<svg xmlns=\"http://www.w3.org/2000/svg\" height=\"24px\"viewBox=\"0 0 24 24\"\n",
              "     width=\"24px\">\n",
              "    <g>\n",
              "        <path d=\"M19 3H5c-1.1 0-2 .9-2 2v14c0 1.1.9 2 2 2h14c1.1 0 2-.9 2-2V5c0-1.1-.9-2-2-2zM9 17H7v-7h2v7zm4 0h-2V7h2v10zm4 0h-2v-4h2v4z\"/>\n",
              "    </g>\n",
              "</svg>\n",
              "  </button>\n",
              "\n",
              "<style>\n",
              "  .colab-df-quickchart {\n",
              "      --bg-color: #E8F0FE;\n",
              "      --fill-color: #1967D2;\n",
              "      --hover-bg-color: #E2EBFA;\n",
              "      --hover-fill-color: #174EA6;\n",
              "      --disabled-fill-color: #AAA;\n",
              "      --disabled-bg-color: #DDD;\n",
              "  }\n",
              "\n",
              "  [theme=dark] .colab-df-quickchart {\n",
              "      --bg-color: #3B4455;\n",
              "      --fill-color: #D2E3FC;\n",
              "      --hover-bg-color: #434B5C;\n",
              "      --hover-fill-color: #FFFFFF;\n",
              "      --disabled-bg-color: #3B4455;\n",
              "      --disabled-fill-color: #666;\n",
              "  }\n",
              "\n",
              "  .colab-df-quickchart {\n",
              "    background-color: var(--bg-color);\n",
              "    border: none;\n",
              "    border-radius: 50%;\n",
              "    cursor: pointer;\n",
              "    display: none;\n",
              "    fill: var(--fill-color);\n",
              "    height: 32px;\n",
              "    padding: 0;\n",
              "    width: 32px;\n",
              "  }\n",
              "\n",
              "  .colab-df-quickchart:hover {\n",
              "    background-color: var(--hover-bg-color);\n",
              "    box-shadow: 0 1px 2px rgba(60, 64, 67, 0.3), 0 1px 3px 1px rgba(60, 64, 67, 0.15);\n",
              "    fill: var(--button-hover-fill-color);\n",
              "  }\n",
              "\n",
              "  .colab-df-quickchart-complete:disabled,\n",
              "  .colab-df-quickchart-complete:disabled:hover {\n",
              "    background-color: var(--disabled-bg-color);\n",
              "    fill: var(--disabled-fill-color);\n",
              "    box-shadow: none;\n",
              "  }\n",
              "\n",
              "  .colab-df-spinner {\n",
              "    border: 2px solid var(--fill-color);\n",
              "    border-color: transparent;\n",
              "    border-bottom-color: var(--fill-color);\n",
              "    animation:\n",
              "      spin 1s steps(1) infinite;\n",
              "  }\n",
              "\n",
              "  @keyframes spin {\n",
              "    0% {\n",
              "      border-color: transparent;\n",
              "      border-bottom-color: var(--fill-color);\n",
              "      border-left-color: var(--fill-color);\n",
              "    }\n",
              "    20% {\n",
              "      border-color: transparent;\n",
              "      border-left-color: var(--fill-color);\n",
              "      border-top-color: var(--fill-color);\n",
              "    }\n",
              "    30% {\n",
              "      border-color: transparent;\n",
              "      border-left-color: var(--fill-color);\n",
              "      border-top-color: var(--fill-color);\n",
              "      border-right-color: var(--fill-color);\n",
              "    }\n",
              "    40% {\n",
              "      border-color: transparent;\n",
              "      border-right-color: var(--fill-color);\n",
              "      border-top-color: var(--fill-color);\n",
              "    }\n",
              "    60% {\n",
              "      border-color: transparent;\n",
              "      border-right-color: var(--fill-color);\n",
              "    }\n",
              "    80% {\n",
              "      border-color: transparent;\n",
              "      border-right-color: var(--fill-color);\n",
              "      border-bottom-color: var(--fill-color);\n",
              "    }\n",
              "    90% {\n",
              "      border-color: transparent;\n",
              "      border-bottom-color: var(--fill-color);\n",
              "    }\n",
              "  }\n",
              "</style>\n",
              "\n",
              "  <script>\n",
              "    async function quickchart(key) {\n",
              "      const quickchartButtonEl =\n",
              "        document.querySelector('#' + key + ' button');\n",
              "      quickchartButtonEl.disabled = true;  // To prevent multiple clicks.\n",
              "      quickchartButtonEl.classList.add('colab-df-spinner');\n",
              "      try {\n",
              "        const charts = await google.colab.kernel.invokeFunction(\n",
              "            'suggestCharts', [key], {});\n",
              "      } catch (error) {\n",
              "        console.error('Error during call to suggestCharts:', error);\n",
              "      }\n",
              "      quickchartButtonEl.classList.remove('colab-df-spinner');\n",
              "      quickchartButtonEl.classList.add('colab-df-quickchart-complete');\n",
              "    }\n",
              "    (() => {\n",
              "      let quickchartButtonEl =\n",
              "        document.querySelector('#df-3622198d-95b1-46bd-b2ef-966a7fc348b7 button');\n",
              "      quickchartButtonEl.style.display =\n",
              "        google.colab.kernel.accessAllowed ? 'block' : 'none';\n",
              "    })();\n",
              "  </script>\n",
              "</div>\n",
              "\n",
              "  <div id=\"id_19737f36-821e-4d8e-a8a5-9d1ee0654b2c\">\n",
              "    <style>\n",
              "      .colab-df-generate {\n",
              "        background-color: #E8F0FE;\n",
              "        border: none;\n",
              "        border-radius: 50%;\n",
              "        cursor: pointer;\n",
              "        display: none;\n",
              "        fill: #1967D2;\n",
              "        height: 32px;\n",
              "        padding: 0 0 0 0;\n",
              "        width: 32px;\n",
              "      }\n",
              "\n",
              "      .colab-df-generate:hover {\n",
              "        background-color: #E2EBFA;\n",
              "        box-shadow: 0px 1px 2px rgba(60, 64, 67, 0.3), 0px 1px 3px 1px rgba(60, 64, 67, 0.15);\n",
              "        fill: #174EA6;\n",
              "      }\n",
              "\n",
              "      [theme=dark] .colab-df-generate {\n",
              "        background-color: #3B4455;\n",
              "        fill: #D2E3FC;\n",
              "      }\n",
              "\n",
              "      [theme=dark] .colab-df-generate:hover {\n",
              "        background-color: #434B5C;\n",
              "        box-shadow: 0px 1px 3px 1px rgba(0, 0, 0, 0.15);\n",
              "        filter: drop-shadow(0px 1px 2px rgba(0, 0, 0, 0.3));\n",
              "        fill: #FFFFFF;\n",
              "      }\n",
              "    </style>\n",
              "    <button class=\"colab-df-generate\" onclick=\"generateWithVariable('df_train')\"\n",
              "            title=\"Generate code using this dataframe.\"\n",
              "            style=\"display:none;\">\n",
              "\n",
              "  <svg xmlns=\"http://www.w3.org/2000/svg\" height=\"24px\"viewBox=\"0 0 24 24\"\n",
              "       width=\"24px\">\n",
              "    <path d=\"M7,19H8.4L18.45,9,17,7.55,7,17.6ZM5,21V16.75L18.45,3.32a2,2,0,0,1,2.83,0l1.4,1.43a1.91,1.91,0,0,1,.58,1.4,1.91,1.91,0,0,1-.58,1.4L9.25,21ZM18.45,9,17,7.55Zm-12,3A5.31,5.31,0,0,0,4.9,8.1,5.31,5.31,0,0,0,1,6.5,5.31,5.31,0,0,0,4.9,4.9,5.31,5.31,0,0,0,6.5,1,5.31,5.31,0,0,0,8.1,4.9,5.31,5.31,0,0,0,12,6.5,5.46,5.46,0,0,0,6.5,12Z\"/>\n",
              "  </svg>\n",
              "    </button>\n",
              "    <script>\n",
              "      (() => {\n",
              "      const buttonEl =\n",
              "        document.querySelector('#id_19737f36-821e-4d8e-a8a5-9d1ee0654b2c button.colab-df-generate');\n",
              "      buttonEl.style.display =\n",
              "        google.colab.kernel.accessAllowed ? 'block' : 'none';\n",
              "\n",
              "      buttonEl.onclick = () => {\n",
              "        google.colab.notebook.generateWithVariable('df_train');\n",
              "      }\n",
              "      })();\n",
              "    </script>\n",
              "  </div>\n",
              "\n",
              "    </div>\n",
              "  </div>\n"
            ],
            "application/vnd.google.colaboratory.intrinsic+json": {
              "type": "dataframe",
              "variable_name": "df_train",
              "summary": "{\n  \"name\": \"df_train\",\n  \"rows\": 3535,\n  \"fields\": [\n    {\n      \"column\": \"text\",\n      \"properties\": {\n        \"dtype\": \"string\",\n        \"num_unique_values\": 3528,\n        \"samples\": [\n          \"ive stopped going school isnt worth doesnt make sense im gon na go therapy dont think gon na big help im family id probably drinking fucking murdering id finally die sucks dont really know anymore\",\n          \"life ive going shit 17 years old things started get better crashed cant get get bed matter much try family understands still approve since grades dropped ec like 12 years none friends understands like cant really blame either since dont like talking ive always taught man keep stuff see lazy fuck irresponsible go school teachers idk typing going help anyone tips advice get motivated would super happy\",\n          \"havent gone see shrink yet feel like need everyday feel miserable family poor even poor like wish rich poor sucks feel ashamed everyday poverty really sucks youre surrounded rich people rich relatives rich friends rich classmates im law school cant help compare life cars always nice new clothes doesnt help live place theres serious income inequality people statusconscious really eats wish born life privilegei cant even enjoy anything anymore im always thinking money every single minute\"\n        ],\n        \"semantic_type\": \"\",\n        \"description\": \"\"\n      }\n    },\n    {\n      \"column\": \"label\",\n      \"properties\": {\n        \"dtype\": \"Int64\",\n        \"num_unique_values\": 6,\n        \"samples\": [\n          4,\n          5,\n          0\n        ],\n        \"semantic_type\": \"\",\n        \"description\": \"\"\n      }\n    },\n    {\n      \"column\": \"explanation\",\n      \"properties\": {\n        \"dtype\": \"string\",\n        \"num_unique_values\": 3530,\n        \"samples\": [\n          \"stopped going to school, isn\\u00c3\\u00adt worth\",\n          \"makes me feel so lonely, I feel like a liar and guilty\",\n          \"how hideous and cringy I am, I hate myself, There's no one I'm more disgusted at than myself,I look like a monster\"\n        ],\n        \"semantic_type\": \"\",\n        \"description\": \"\"\n      }\n    }\n  ]\n}"
            }
          },
          "metadata": {},
          "execution_count": 21
        }
      ]
    },
    {
      "cell_type": "code",
      "source": [
        "df_test"
      ],
      "metadata": {
        "id": "6MgXVINlvDvy",
        "colab": {
          "base_uri": "https://localhost:8080/",
          "height": 423
        },
        "outputId": "965b220b-4244-499a-a347-58feed6c15ab"
      },
      "id": "6MgXVINlvDvy",
      "execution_count": 22,
      "outputs": [
        {
          "output_type": "execute_result",
          "data": {
            "text/plain": [
              "                                                   text  label  \\\n",
              "0     company work moving process many departements ...      2   \n",
              "1     dont want work dont want travel dont want go b...      2   \n",
              "2     hey 16m im wee little high schooler feel like ...      2   \n",
              "3     tried kill via partial suspension hanging got ...      3   \n",
              "4     im last year compulsory school tried kill taki...      2   \n",
              "...                                                 ...    ...   \n",
              "1254  im 19 ten minutes wish 17 happiest year since ...      5   \n",
              "1255  much hurts ehausts let pain better dealt ok be...      4   \n",
              "1256  feel least little bit happylets wait see im go...      5   \n",
              "1257  im tired etremely hard life father used crack ...      4   \n",
              "1258  sagres end world today really wanted jump clif...      5   \n",
              "\n",
              "                                            explanation  \n",
              "0     The company i work for is in a moving process ...  \n",
              "1     don't want to go back to college, learn new th...  \n",
              "2     affecting my grades , could get away with doin...  \n",
              "3                  partial suspension hanging, headache  \n",
              "4     not allows to leave the school during break or...  \n",
              "...                                                 ...  \n",
              "1254       since then everythingâÃÃ´s gone down hill  \n",
              "1255  because of guilt, your own and what others put...  \n",
              "1256  Let's wait and see if I'm going to win the who...  \n",
              "1257  father used a crack and beat my mom, he's on c...  \n",
              "1258                                              alone  \n",
              "\n",
              "[1259 rows x 3 columns]"
            ],
            "text/html": [
              "\n",
              "  <div id=\"df-ef5e559e-fb9d-4936-9ffd-aae8458e1a42\" class=\"colab-df-container\">\n",
              "    <div>\n",
              "<style scoped>\n",
              "    .dataframe tbody tr th:only-of-type {\n",
              "        vertical-align: middle;\n",
              "    }\n",
              "\n",
              "    .dataframe tbody tr th {\n",
              "        vertical-align: top;\n",
              "    }\n",
              "\n",
              "    .dataframe thead th {\n",
              "        text-align: right;\n",
              "    }\n",
              "</style>\n",
              "<table border=\"1\" class=\"dataframe\">\n",
              "  <thead>\n",
              "    <tr style=\"text-align: right;\">\n",
              "      <th></th>\n",
              "      <th>text</th>\n",
              "      <th>label</th>\n",
              "      <th>explanation</th>\n",
              "    </tr>\n",
              "  </thead>\n",
              "  <tbody>\n",
              "    <tr>\n",
              "      <th>0</th>\n",
              "      <td>company work moving process many departements ...</td>\n",
              "      <td>2</td>\n",
              "      <td>The company i work for is in a moving process ...</td>\n",
              "    </tr>\n",
              "    <tr>\n",
              "      <th>1</th>\n",
              "      <td>dont want work dont want travel dont want go b...</td>\n",
              "      <td>2</td>\n",
              "      <td>don't want to go back to college, learn new th...</td>\n",
              "    </tr>\n",
              "    <tr>\n",
              "      <th>2</th>\n",
              "      <td>hey 16m im wee little high schooler feel like ...</td>\n",
              "      <td>2</td>\n",
              "      <td>affecting my grades , could get away with doin...</td>\n",
              "    </tr>\n",
              "    <tr>\n",
              "      <th>3</th>\n",
              "      <td>tried kill via partial suspension hanging got ...</td>\n",
              "      <td>3</td>\n",
              "      <td>partial suspension hanging, headache</td>\n",
              "    </tr>\n",
              "    <tr>\n",
              "      <th>4</th>\n",
              "      <td>im last year compulsory school tried kill taki...</td>\n",
              "      <td>2</td>\n",
              "      <td>not allows to leave the school during break or...</td>\n",
              "    </tr>\n",
              "    <tr>\n",
              "      <th>...</th>\n",
              "      <td>...</td>\n",
              "      <td>...</td>\n",
              "      <td>...</td>\n",
              "    </tr>\n",
              "    <tr>\n",
              "      <th>1254</th>\n",
              "      <td>im 19 ten minutes wish 17 happiest year since ...</td>\n",
              "      <td>5</td>\n",
              "      <td>since then everythingâÃÃ´s gone down hill</td>\n",
              "    </tr>\n",
              "    <tr>\n",
              "      <th>1255</th>\n",
              "      <td>much hurts ehausts let pain better dealt ok be...</td>\n",
              "      <td>4</td>\n",
              "      <td>because of guilt, your own and what others put...</td>\n",
              "    </tr>\n",
              "    <tr>\n",
              "      <th>1256</th>\n",
              "      <td>feel least little bit happylets wait see im go...</td>\n",
              "      <td>5</td>\n",
              "      <td>Let's wait and see if I'm going to win the who...</td>\n",
              "    </tr>\n",
              "    <tr>\n",
              "      <th>1257</th>\n",
              "      <td>im tired etremely hard life father used crack ...</td>\n",
              "      <td>4</td>\n",
              "      <td>father used a crack and beat my mom, he's on c...</td>\n",
              "    </tr>\n",
              "    <tr>\n",
              "      <th>1258</th>\n",
              "      <td>sagres end world today really wanted jump clif...</td>\n",
              "      <td>5</td>\n",
              "      <td>alone</td>\n",
              "    </tr>\n",
              "  </tbody>\n",
              "</table>\n",
              "<p>1259 rows × 3 columns</p>\n",
              "</div>\n",
              "    <div class=\"colab-df-buttons\">\n",
              "\n",
              "  <div class=\"colab-df-container\">\n",
              "    <button class=\"colab-df-convert\" onclick=\"convertToInteractive('df-ef5e559e-fb9d-4936-9ffd-aae8458e1a42')\"\n",
              "            title=\"Convert this dataframe to an interactive table.\"\n",
              "            style=\"display:none;\">\n",
              "\n",
              "  <svg xmlns=\"http://www.w3.org/2000/svg\" height=\"24px\" viewBox=\"0 -960 960 960\">\n",
              "    <path d=\"M120-120v-720h720v720H120Zm60-500h600v-160H180v160Zm220 220h160v-160H400v160Zm0 220h160v-160H400v160ZM180-400h160v-160H180v160Zm440 0h160v-160H620v160ZM180-180h160v-160H180v160Zm440 0h160v-160H620v160Z\"/>\n",
              "  </svg>\n",
              "    </button>\n",
              "\n",
              "  <style>\n",
              "    .colab-df-container {\n",
              "      display:flex;\n",
              "      gap: 12px;\n",
              "    }\n",
              "\n",
              "    .colab-df-convert {\n",
              "      background-color: #E8F0FE;\n",
              "      border: none;\n",
              "      border-radius: 50%;\n",
              "      cursor: pointer;\n",
              "      display: none;\n",
              "      fill: #1967D2;\n",
              "      height: 32px;\n",
              "      padding: 0 0 0 0;\n",
              "      width: 32px;\n",
              "    }\n",
              "\n",
              "    .colab-df-convert:hover {\n",
              "      background-color: #E2EBFA;\n",
              "      box-shadow: 0px 1px 2px rgba(60, 64, 67, 0.3), 0px 1px 3px 1px rgba(60, 64, 67, 0.15);\n",
              "      fill: #174EA6;\n",
              "    }\n",
              "\n",
              "    .colab-df-buttons div {\n",
              "      margin-bottom: 4px;\n",
              "    }\n",
              "\n",
              "    [theme=dark] .colab-df-convert {\n",
              "      background-color: #3B4455;\n",
              "      fill: #D2E3FC;\n",
              "    }\n",
              "\n",
              "    [theme=dark] .colab-df-convert:hover {\n",
              "      background-color: #434B5C;\n",
              "      box-shadow: 0px 1px 3px 1px rgba(0, 0, 0, 0.15);\n",
              "      filter: drop-shadow(0px 1px 2px rgba(0, 0, 0, 0.3));\n",
              "      fill: #FFFFFF;\n",
              "    }\n",
              "  </style>\n",
              "\n",
              "    <script>\n",
              "      const buttonEl =\n",
              "        document.querySelector('#df-ef5e559e-fb9d-4936-9ffd-aae8458e1a42 button.colab-df-convert');\n",
              "      buttonEl.style.display =\n",
              "        google.colab.kernel.accessAllowed ? 'block' : 'none';\n",
              "\n",
              "      async function convertToInteractive(key) {\n",
              "        const element = document.querySelector('#df-ef5e559e-fb9d-4936-9ffd-aae8458e1a42');\n",
              "        const dataTable =\n",
              "          await google.colab.kernel.invokeFunction('convertToInteractive',\n",
              "                                                    [key], {});\n",
              "        if (!dataTable) return;\n",
              "\n",
              "        const docLinkHtml = 'Like what you see? Visit the ' +\n",
              "          '<a target=\"_blank\" href=https://colab.research.google.com/notebooks/data_table.ipynb>data table notebook</a>'\n",
              "          + ' to learn more about interactive tables.';\n",
              "        element.innerHTML = '';\n",
              "        dataTable['output_type'] = 'display_data';\n",
              "        await google.colab.output.renderOutput(dataTable, element);\n",
              "        const docLink = document.createElement('div');\n",
              "        docLink.innerHTML = docLinkHtml;\n",
              "        element.appendChild(docLink);\n",
              "      }\n",
              "    </script>\n",
              "  </div>\n",
              "\n",
              "\n",
              "<div id=\"df-fe54135d-f6bd-4e20-9947-5d5641ebd2fd\">\n",
              "  <button class=\"colab-df-quickchart\" onclick=\"quickchart('df-fe54135d-f6bd-4e20-9947-5d5641ebd2fd')\"\n",
              "            title=\"Suggest charts\"\n",
              "            style=\"display:none;\">\n",
              "\n",
              "<svg xmlns=\"http://www.w3.org/2000/svg\" height=\"24px\"viewBox=\"0 0 24 24\"\n",
              "     width=\"24px\">\n",
              "    <g>\n",
              "        <path d=\"M19 3H5c-1.1 0-2 .9-2 2v14c0 1.1.9 2 2 2h14c1.1 0 2-.9 2-2V5c0-1.1-.9-2-2-2zM9 17H7v-7h2v7zm4 0h-2V7h2v10zm4 0h-2v-4h2v4z\"/>\n",
              "    </g>\n",
              "</svg>\n",
              "  </button>\n",
              "\n",
              "<style>\n",
              "  .colab-df-quickchart {\n",
              "      --bg-color: #E8F0FE;\n",
              "      --fill-color: #1967D2;\n",
              "      --hover-bg-color: #E2EBFA;\n",
              "      --hover-fill-color: #174EA6;\n",
              "      --disabled-fill-color: #AAA;\n",
              "      --disabled-bg-color: #DDD;\n",
              "  }\n",
              "\n",
              "  [theme=dark] .colab-df-quickchart {\n",
              "      --bg-color: #3B4455;\n",
              "      --fill-color: #D2E3FC;\n",
              "      --hover-bg-color: #434B5C;\n",
              "      --hover-fill-color: #FFFFFF;\n",
              "      --disabled-bg-color: #3B4455;\n",
              "      --disabled-fill-color: #666;\n",
              "  }\n",
              "\n",
              "  .colab-df-quickchart {\n",
              "    background-color: var(--bg-color);\n",
              "    border: none;\n",
              "    border-radius: 50%;\n",
              "    cursor: pointer;\n",
              "    display: none;\n",
              "    fill: var(--fill-color);\n",
              "    height: 32px;\n",
              "    padding: 0;\n",
              "    width: 32px;\n",
              "  }\n",
              "\n",
              "  .colab-df-quickchart:hover {\n",
              "    background-color: var(--hover-bg-color);\n",
              "    box-shadow: 0 1px 2px rgba(60, 64, 67, 0.3), 0 1px 3px 1px rgba(60, 64, 67, 0.15);\n",
              "    fill: var(--button-hover-fill-color);\n",
              "  }\n",
              "\n",
              "  .colab-df-quickchart-complete:disabled,\n",
              "  .colab-df-quickchart-complete:disabled:hover {\n",
              "    background-color: var(--disabled-bg-color);\n",
              "    fill: var(--disabled-fill-color);\n",
              "    box-shadow: none;\n",
              "  }\n",
              "\n",
              "  .colab-df-spinner {\n",
              "    border: 2px solid var(--fill-color);\n",
              "    border-color: transparent;\n",
              "    border-bottom-color: var(--fill-color);\n",
              "    animation:\n",
              "      spin 1s steps(1) infinite;\n",
              "  }\n",
              "\n",
              "  @keyframes spin {\n",
              "    0% {\n",
              "      border-color: transparent;\n",
              "      border-bottom-color: var(--fill-color);\n",
              "      border-left-color: var(--fill-color);\n",
              "    }\n",
              "    20% {\n",
              "      border-color: transparent;\n",
              "      border-left-color: var(--fill-color);\n",
              "      border-top-color: var(--fill-color);\n",
              "    }\n",
              "    30% {\n",
              "      border-color: transparent;\n",
              "      border-left-color: var(--fill-color);\n",
              "      border-top-color: var(--fill-color);\n",
              "      border-right-color: var(--fill-color);\n",
              "    }\n",
              "    40% {\n",
              "      border-color: transparent;\n",
              "      border-right-color: var(--fill-color);\n",
              "      border-top-color: var(--fill-color);\n",
              "    }\n",
              "    60% {\n",
              "      border-color: transparent;\n",
              "      border-right-color: var(--fill-color);\n",
              "    }\n",
              "    80% {\n",
              "      border-color: transparent;\n",
              "      border-right-color: var(--fill-color);\n",
              "      border-bottom-color: var(--fill-color);\n",
              "    }\n",
              "    90% {\n",
              "      border-color: transparent;\n",
              "      border-bottom-color: var(--fill-color);\n",
              "    }\n",
              "  }\n",
              "</style>\n",
              "\n",
              "  <script>\n",
              "    async function quickchart(key) {\n",
              "      const quickchartButtonEl =\n",
              "        document.querySelector('#' + key + ' button');\n",
              "      quickchartButtonEl.disabled = true;  // To prevent multiple clicks.\n",
              "      quickchartButtonEl.classList.add('colab-df-spinner');\n",
              "      try {\n",
              "        const charts = await google.colab.kernel.invokeFunction(\n",
              "            'suggestCharts', [key], {});\n",
              "      } catch (error) {\n",
              "        console.error('Error during call to suggestCharts:', error);\n",
              "      }\n",
              "      quickchartButtonEl.classList.remove('colab-df-spinner');\n",
              "      quickchartButtonEl.classList.add('colab-df-quickchart-complete');\n",
              "    }\n",
              "    (() => {\n",
              "      let quickchartButtonEl =\n",
              "        document.querySelector('#df-fe54135d-f6bd-4e20-9947-5d5641ebd2fd button');\n",
              "      quickchartButtonEl.style.display =\n",
              "        google.colab.kernel.accessAllowed ? 'block' : 'none';\n",
              "    })();\n",
              "  </script>\n",
              "</div>\n",
              "\n",
              "  <div id=\"id_ede5edfb-5a07-47f2-99db-5a53942f83e1\">\n",
              "    <style>\n",
              "      .colab-df-generate {\n",
              "        background-color: #E8F0FE;\n",
              "        border: none;\n",
              "        border-radius: 50%;\n",
              "        cursor: pointer;\n",
              "        display: none;\n",
              "        fill: #1967D2;\n",
              "        height: 32px;\n",
              "        padding: 0 0 0 0;\n",
              "        width: 32px;\n",
              "      }\n",
              "\n",
              "      .colab-df-generate:hover {\n",
              "        background-color: #E2EBFA;\n",
              "        box-shadow: 0px 1px 2px rgba(60, 64, 67, 0.3), 0px 1px 3px 1px rgba(60, 64, 67, 0.15);\n",
              "        fill: #174EA6;\n",
              "      }\n",
              "\n",
              "      [theme=dark] .colab-df-generate {\n",
              "        background-color: #3B4455;\n",
              "        fill: #D2E3FC;\n",
              "      }\n",
              "\n",
              "      [theme=dark] .colab-df-generate:hover {\n",
              "        background-color: #434B5C;\n",
              "        box-shadow: 0px 1px 3px 1px rgba(0, 0, 0, 0.15);\n",
              "        filter: drop-shadow(0px 1px 2px rgba(0, 0, 0, 0.3));\n",
              "        fill: #FFFFFF;\n",
              "      }\n",
              "    </style>\n",
              "    <button class=\"colab-df-generate\" onclick=\"generateWithVariable('df_test')\"\n",
              "            title=\"Generate code using this dataframe.\"\n",
              "            style=\"display:none;\">\n",
              "\n",
              "  <svg xmlns=\"http://www.w3.org/2000/svg\" height=\"24px\"viewBox=\"0 0 24 24\"\n",
              "       width=\"24px\">\n",
              "    <path d=\"M7,19H8.4L18.45,9,17,7.55,7,17.6ZM5,21V16.75L18.45,3.32a2,2,0,0,1,2.83,0l1.4,1.43a1.91,1.91,0,0,1,.58,1.4,1.91,1.91,0,0,1-.58,1.4L9.25,21ZM18.45,9,17,7.55Zm-12,3A5.31,5.31,0,0,0,4.9,8.1,5.31,5.31,0,0,0,1,6.5,5.31,5.31,0,0,0,4.9,4.9,5.31,5.31,0,0,0,6.5,1,5.31,5.31,0,0,0,8.1,4.9,5.31,5.31,0,0,0,12,6.5,5.46,5.46,0,0,0,6.5,12Z\"/>\n",
              "  </svg>\n",
              "    </button>\n",
              "    <script>\n",
              "      (() => {\n",
              "      const buttonEl =\n",
              "        document.querySelector('#id_ede5edfb-5a07-47f2-99db-5a53942f83e1 button.colab-df-generate');\n",
              "      buttonEl.style.display =\n",
              "        google.colab.kernel.accessAllowed ? 'block' : 'none';\n",
              "\n",
              "      buttonEl.onclick = () => {\n",
              "        google.colab.notebook.generateWithVariable('df_test');\n",
              "      }\n",
              "      })();\n",
              "    </script>\n",
              "  </div>\n",
              "\n",
              "    </div>\n",
              "  </div>\n"
            ],
            "application/vnd.google.colaboratory.intrinsic+json": {
              "type": "dataframe",
              "variable_name": "df_test",
              "summary": "{\n  \"name\": \"df_test\",\n  \"rows\": 1259,\n  \"fields\": [\n    {\n      \"column\": \"text\",\n      \"properties\": {\n        \"dtype\": \"string\",\n        \"num_unique_values\": 770,\n        \"samples\": [\n          \"im dark thoughts first time months want go away\",\n          \"ive dealing 4 years rhyme reason back ive spending last couple days crying nonstop reason utterly embarrassing visited doctor hard trying focus past days work feel like im productive putting getting antidepressants didnt want reliant think time give shot\",\n          \"edit think im already stable cant thank enough supported ive felt reading comments people posted im 17 im posting account ive created get wont want people know ive written postive spent evening preparing place would hang storage room top building ive made mess order leave space around hanger used hang bike place think accomplish purpose ending life ive cried whole oceans tears however willing swear etremely afraid would feel hanging thought life came conclusion worth however went house order go toilet eat etc maybe ecuses set survival instinct saw mother cried ended dinner family house chores cant hold tears anymore actually ive go times didnt notice might alive tomorrow night might im unable hang discover hanging setup putting away christmas stuff storage room sorry cant think clearly cant share everything id like ill jump end right would happen told mother know might help need continue living life well never hope doesnt freak moment even wasnt dont want worrying whether would try commit suicide searching internet help teenager suicidal son would try hurt new knife bought would jump high building get chance also might times life psychological test needed access new job opportunity due mother find ive suicidal tell grandparents someone family spread word unintentionallyive never told anyone feelings ending life seeking help iin parents induce much fearpd im non native might epress weird\"\n        ],\n        \"semantic_type\": \"\",\n        \"description\": \"\"\n      }\n    },\n    {\n      \"column\": \"label\",\n      \"properties\": {\n        \"dtype\": \"Int64\",\n        \"num_unique_values\": 6,\n        \"samples\": [\n          2,\n          3,\n          4\n        ],\n        \"semantic_type\": \"\",\n        \"description\": \"\"\n      }\n    },\n    {\n      \"column\": \"explanation\",\n      \"properties\": {\n        \"dtype\": \"string\",\n        \"num_unique_values\": 770,\n        \"samples\": [\n          \"thougts, want them to go away\",\n          \" been hard trying to focus for the past few days at work and I feel like I'm not productive at al\",\n          \"saw my mother and cried again. I ended up having dinner with my family, doing some house chores and I can't hold my tears anymore,I'm already more stable than before. I can't thank you enough for how supported I've felt\"\n        ],\n        \"semantic_type\": \"\",\n        \"description\": \"\"\n      }\n    }\n  ]\n}"
            }
          },
          "metadata": {},
          "execution_count": 22
        }
      ]
    },
    {
      "cell_type": "code",
      "source": [
        "# # Global Variables\n",
        "\n",
        "# max_nb_words = 60000\n",
        "# max_features = 10543\n",
        "# maxlen = 300\n",
        "# emb_dim = 100\n",
        "# batch_size = 32\n",
        "# epochs  = 15"
      ],
      "metadata": {
        "id": "pKuvX451n0jx"
      },
      "id": "pKuvX451n0jx",
      "execution_count": 23,
      "outputs": []
    },
    {
      "cell_type": "code",
      "source": [
        "train_text, train_labels = df_train['text'], df_train['label']\n",
        "val_text, val_labels = df_val['text'], df_val['label']\n",
        "test_text, test_labels = df_test['text'], df_test['label']"
      ],
      "metadata": {
        "id": "frVXOoANn0o4"
      },
      "id": "frVXOoANn0o4",
      "execution_count": 24,
      "outputs": []
    },
    {
      "cell_type": "code",
      "source": [
        "# Defining some key variables that will be used later on in the training\n",
        "from transformers import BertTokenizer\n",
        "\n",
        "MAX_LEN = 256\n",
        "TRAIN_BATCH_SIZE = 32\n",
        "VALID_BATCH_SIZE = 32\n",
        "TEST_BATCH_SIZE =32\n",
        "# EPOCHS = 1\n",
        "LEARNING_RATE = 3e-5\n",
        "tokenizer = BertTokenizer.from_pretrained('bert-base-uncased', truncation=True, do_lower_case=True)\n",
        "encoded = tokenizer(\"Some text\", \"Some other text\", return_tensors=\"pt\", padding=True, truncation=True)\n",
        "print(encoded.keys())"
      ],
      "metadata": {
        "colab": {
          "base_uri": "https://localhost:8080/",
          "height": 286,
          "referenced_widgets": [
            "9ee0b8490e964f32837b90e3e416bab5",
            "fecbfcfba05742ea943d17e98e935633",
            "fe513d66433a47b790b1582667c6b70a",
            "72c38714837842879e899c8b115979e8",
            "657d319c6cdb4b749241e5696b78a727",
            "4626b98432e64b86b65eea0b710c17f1",
            "0d2578d349ab4320bf4310e5048733d5",
            "dc21e472261f4d5bb4bf699505deea5d",
            "f9e8c45459424b27bbf34fef5ce7e2ec",
            "cd78f1da9b3d458aad8831fd3a993c6b",
            "8fc8893747004ad18678cc999f6590a2",
            "613346e250264ebbbc271f3862a0984e",
            "22e995c752f44575985a309885c2936e",
            "e818d373123f428bb98b622d19f9eaf1",
            "c9a3b7ca3740455ab32b548e090ae005",
            "62f69aca588045d6a609c286a5cbc451",
            "c585c7c579944f7aaebc17939ca94f20",
            "2d0c5be9ca6f4f65923ddec3c4d4042a",
            "d521786c2cd3425ca9e8850e0c8b9d25",
            "4914533dba52455881c70c08e83d924c",
            "4e8f4cd706274850903d261a79b9b499",
            "d2fd9adf679b48fdafe493897b1ce3a6",
            "8eacdaefb1354320af23e06cfb5252e4",
            "0b0fb1cd64d94d178d9753c8a1c2307c",
            "0781d3167b754f7281e0c36cb9b7dcb0",
            "8807261c996f41ed8b6e63c10332157f",
            "de6669a0fb5b47f5a215d8f36a054a8a",
            "be29611dc8d04f46bf8ee4ea41ce39db",
            "8e7512cf93764b02a7324fc6553ea9ef",
            "11cecdd7eed14b019f07bbe3a48d2854",
            "96d770fdc7aa42d2b93c61e30db96709",
            "083e676d5ec441a194bd03f6d35214af",
            "07eeb61246324c3eafe897f110a96c2b",
            "81cd7619532243aa99a3549ff88c6be5",
            "db1fd1cf768e467fa8fff877fe802b24",
            "05549005cbe94cab95ccdc44738c57d1",
            "4b894f5fd428432f94d91619e80b9418",
            "20dd2064ad4c42b5bf6b60fd938d805d",
            "cb27f0e5ab3d42388d7bd59332f8b783",
            "e3ba5c2359fe4443a97f70bc413a1c91",
            "6c1452715abd40df83c5a871ba92f9d0",
            "2395c370fa2848c78c32e3f4e2168aa9",
            "7f5c84e638b14e5aa9543251517d7692",
            "8bbf46ff4cc54524a45c777a9faa4adc"
          ]
        },
        "id": "-bAx_BIz_5HZ",
        "outputId": "564678c0-f605-461a-8771-340763aa3e6c"
      },
      "id": "-bAx_BIz_5HZ",
      "execution_count": 25,
      "outputs": [
        {
          "output_type": "stream",
          "name": "stderr",
          "text": [
            "/usr/local/lib/python3.10/dist-packages/huggingface_hub/utils/_auth.py:94: UserWarning: \n",
            "The secret `HF_TOKEN` does not exist in your Colab secrets.\n",
            "To authenticate with the Hugging Face Hub, create a token in your settings tab (https://huggingface.co/settings/tokens), set it as secret in your Google Colab and restart your session.\n",
            "You will be able to reuse this secret in all of your notebooks.\n",
            "Please note that authentication is recommended but still optional to access public models or datasets.\n",
            "  warnings.warn(\n"
          ]
        },
        {
          "output_type": "display_data",
          "data": {
            "text/plain": [
              "tokenizer_config.json:   0%|          | 0.00/48.0 [00:00<?, ?B/s]"
            ],
            "application/vnd.jupyter.widget-view+json": {
              "version_major": 2,
              "version_minor": 0,
              "model_id": "9ee0b8490e964f32837b90e3e416bab5"
            }
          },
          "metadata": {}
        },
        {
          "output_type": "display_data",
          "data": {
            "text/plain": [
              "vocab.txt:   0%|          | 0.00/232k [00:00<?, ?B/s]"
            ],
            "application/vnd.jupyter.widget-view+json": {
              "version_major": 2,
              "version_minor": 0,
              "model_id": "613346e250264ebbbc271f3862a0984e"
            }
          },
          "metadata": {}
        },
        {
          "output_type": "display_data",
          "data": {
            "text/plain": [
              "tokenizer.json:   0%|          | 0.00/466k [00:00<?, ?B/s]"
            ],
            "application/vnd.jupyter.widget-view+json": {
              "version_major": 2,
              "version_minor": 0,
              "model_id": "8eacdaefb1354320af23e06cfb5252e4"
            }
          },
          "metadata": {}
        },
        {
          "output_type": "display_data",
          "data": {
            "text/plain": [
              "config.json:   0%|          | 0.00/570 [00:00<?, ?B/s]"
            ],
            "application/vnd.jupyter.widget-view+json": {
              "version_major": 2,
              "version_minor": 0,
              "model_id": "81cd7619532243aa99a3549ff88c6be5"
            }
          },
          "metadata": {}
        },
        {
          "output_type": "stream",
          "name": "stdout",
          "text": [
            "dict_keys(['input_ids', 'token_type_ids', 'attention_mask'])\n"
          ]
        }
      ]
    },
    {
      "cell_type": "code",
      "source": [
        "# # tokenizer = AutoTokenizer.from_pretrained(\"mental/mental-bert-base-uncased\", use_auth_token=True)\n",
        "# tokenizer = AutoTokenizer.from_pretrained(\"mental/mental-roberta-base\", use_auth_token=True)\n",
        "# model = AutoModel.from_pretrained(\"mental/mental-roberta-base\")"
      ],
      "metadata": {
        "id": "p48q7EnGpvkF"
      },
      "id": "p48q7EnGpvkF",
      "execution_count": 26,
      "outputs": []
    },
    {
      "cell_type": "code",
      "source": [
        "tokens_train = tokenizer.batch_encode_plus(\n",
        "    train_text.tolist(),\n",
        "    max_length=MAX_LEN,\n",
        "    pad_to_max_length=True,\n",
        "    truncation=True,\n",
        "    return_token_type_ids=True,  # Include token_type_ids\n",
        ")\n",
        "\n",
        "tokens_val = tokenizer.batch_encode_plus(\n",
        "    val_text.tolist(),\n",
        "    max_length=MAX_LEN,\n",
        "    pad_to_max_length=True,\n",
        "    truncation=True,\n",
        "    return_token_type_ids=True,  # Include token_type_ids\n",
        ")\n",
        "\n",
        "tokens_test = tokenizer.batch_encode_plus(\n",
        "    test_text.tolist(),\n",
        "    max_length=MAX_LEN,\n",
        "    pad_to_max_length=True,\n",
        "    truncation=True,\n",
        "    return_token_type_ids=True,  # Include token_type_ids\n",
        ")"
      ],
      "metadata": {
        "colab": {
          "base_uri": "https://localhost:8080/"
        },
        "id": "t5gnv-C1n0tz",
        "outputId": "2d0e0bc4-d531-43e1-8fb5-147fb0837c4e"
      },
      "id": "t5gnv-C1n0tz",
      "execution_count": 27,
      "outputs": [
        {
          "output_type": "stream",
          "name": "stderr",
          "text": [
            "/usr/local/lib/python3.10/dist-packages/transformers/tokenization_utils_base.py:2834: FutureWarning: The `pad_to_max_length` argument is deprecated and will be removed in a future version, use `padding=True` or `padding='longest'` to pad to the longest sequence in the batch, or use `padding='max_length'` to pad to a max length. In this case, you can give a specific length with `max_length` (e.g. `max_length=45`) or leave max_length to None to pad to the maximal input size of the model (e.g. 512 for Bert).\n",
            "  warnings.warn(\n"
          ]
        }
      ]
    },
    {
      "cell_type": "code",
      "source": [
        "# tokens_val = tokenizer.batch_encode_plus(\n",
        "#     val_text.tolist(),\n",
        "#     max_length = MAX_LEN,\n",
        "#     pad_to_max_length = True,\n",
        "#     truncation = True,\n",
        "#     return_token_type_ids =False,\n",
        "# )\n",
        "# tokens_test = tokenizer.batch_encode_plus(\n",
        "#     test_text.tolist(),\n",
        "#     max_length = MAX_LEN,\n",
        "#     pad_to_max_length=True,\n",
        "#     truncation=True,\n",
        "#     return_token_type_ids=False\n",
        "# )"
      ],
      "metadata": {
        "id": "7XYV85Rln00T"
      },
      "id": "7XYV85Rln00T",
      "execution_count": 28,
      "outputs": []
    },
    {
      "cell_type": "code",
      "source": [
        "# ### Creating Tensors from the train, validation and test sequences ###\n",
        "# # for train set\n",
        "# train_seq = torch.tensor(tokens_train['input_ids'])\n",
        "# train_mask = torch.tensor(tokens_train['attention_mask'])\n",
        "# train_y = torch.tensor(train_labels.tolist())\n",
        "\n",
        "# # for validation set\n",
        "# val_seq = torch.tensor(tokens_val['input_ids'])\n",
        "# val_mask = torch.tensor(tokens_val['attention_mask'])\n",
        "# val_y = torch.tensor(val_labels.tolist())\n",
        "\n",
        "# # for test set\n",
        "# test_seq = torch.tensor(tokens_test['input_ids'])\n",
        "# test_mask = torch.tensor(tokens_test['attention_mask'])\n",
        "# test_y = torch.tensor(test_labels.tolist())"
      ],
      "metadata": {
        "id": "lU-wD09zplqg"
      },
      "id": "lU-wD09zplqg",
      "execution_count": 29,
      "outputs": []
    },
    {
      "cell_type": "code",
      "source": [
        "from torch import cuda\n",
        "device = 'cuda' if cuda.is_available() else 'cpu'\n",
        "train_seq = torch.tensor(tokens_train['input_ids'])\n",
        "train_mask = torch.tensor(tokens_train['attention_mask'])\n",
        "train_token_type_ids = torch.tensor(tokens_train['token_type_ids'])  # Add this\n",
        "train_y = torch.tensor(train_labels.tolist())\n",
        "\n",
        "train_data = TensorDataset(train_seq.to(device), train_mask.to(device), train_token_type_ids.to(device), train_y.to(device))\n",
        "train_sampler = RandomSampler(train_data)\n",
        "trainloader = DataLoader(train_data, sampler=train_sampler, batch_size=TRAIN_BATCH_SIZE)\n",
        "\n",
        "# For validation set\n",
        "val_seq = torch.tensor(tokens_val['input_ids'])\n",
        "val_mask = torch.tensor(tokens_val['attention_mask'])\n",
        "val_token_type_ids = torch.tensor(tokens_val['token_type_ids'])  # Add this\n",
        "val_y = torch.tensor(val_labels.tolist())\n",
        "\n",
        "val_data = TensorDataset(val_seq.to(device), val_mask.to(device), val_token_type_ids.to(device), val_y.to(device))\n",
        "val_sampler = SequentialSampler(val_data)\n",
        "valloader = DataLoader(val_data, sampler=val_sampler, batch_size=VALID_BATCH_SIZE)\n",
        "\n",
        "test_seq = torch.tensor(tokens_test['input_ids'])\n",
        "test_mask = torch.tensor(tokens_test['attention_mask'])\n",
        "test_token_type_ids = torch.tensor(tokens_test['token_type_ids'])  # Add this\n",
        "\n",
        "# If you have test labels (e.g., during evaluation):\n",
        "test_y = torch.tensor(test_labels.tolist())\n",
        "test_data = TensorDataset(test_seq.to(device), test_mask.to(device), test_token_type_ids.to(device), test_y.to(device))\n",
        "\n",
        "# If labels are not available (e.g., for prediction only):\n",
        "# test_data = TensorDataset(test_seq, test_mask, test_token_type_ids)\n",
        "\n",
        "test_sampler = SequentialSampler(test_data)\n",
        "testloader = DataLoader(test_data, sampler=test_sampler, batch_size=TEST_BATCH_SIZE)"
      ],
      "metadata": {
        "id": "OjCv0JzhrllJ"
      },
      "id": "OjCv0JzhrllJ",
      "execution_count": 30,
      "outputs": []
    },
    {
      "cell_type": "markdown",
      "source": [
        "### Defining dataloaders"
      ],
      "metadata": {
        "id": "DakRFqyKrmD9"
      },
      "id": "DakRFqyKrmD9"
    },
    {
      "cell_type": "code",
      "source": [
        "# train_data = TensorDataset(train_seq, train_mask, train_y)\n",
        "# train_sampler = RandomSampler(train_data)\n",
        "# trainloader = DataLoader(train_data, sampler = train_sampler, batch_size = TRAIN_BATCH_SIZE)\n",
        "\n",
        "# val_data = TensorDataset(val_seq, val_mask,val_y)\n",
        "# val_sampler = SequentialSampler(val_data)\n",
        "# valloader = DataLoader(val_data, sampler = val_sampler, batch_size = VALID_BATCH_SIZE)"
      ],
      "metadata": {
        "id": "Ez5jF0Popl5o"
      },
      "id": "Ez5jF0Popl5o",
      "execution_count": 31,
      "outputs": []
    },
    {
      "cell_type": "code",
      "source": [
        "len(trainloader), len(valloader), len(testloader)"
      ],
      "metadata": {
        "id": "drc-mcBKppzy",
        "colab": {
          "base_uri": "https://localhost:8080/"
        },
        "outputId": "414e4e3a-bf73-494a-e2c7-0c584d6d55dd"
      },
      "id": "drc-mcBKppzy",
      "execution_count": 32,
      "outputs": [
        {
          "output_type": "execute_result",
          "data": {
            "text/plain": [
              "(111, 38, 40)"
            ]
          },
          "metadata": {},
          "execution_count": 32
        }
      ]
    },
    {
      "cell_type": "code",
      "source": [
        "from transformers import RobertaModel, RobertaTokenizer, BertTokenizer, BertModel\n",
        "device = torch.device(\"cuda\" if torch.cuda.is_available() else \"cpu\")\n",
        "class DynamicAttention(torch.nn.Module):\n",
        "    def __init__(self, hidden_size):\n",
        "        super(DynamicAttention, self).__init__()\n",
        "        self.linear1 = torch.nn.Linear(hidden_size, hidden_size)\n",
        "        self.linear2 = torch.nn.Linear(hidden_size, 1)\n",
        "\n",
        "    def forward(self, hidden_states, attention_mask=None):\n",
        "        x = torch.tanh(self.linear1(hidden_states))\n",
        "        x = self.linear2(x)\n",
        "        x = torch.squeeze(x, dim=-1)\n",
        "        if attention_mask is not None:\n",
        "            x = x.masked_fill(attention_mask == 0, -1e9)\n",
        "        attention_weights = torch.softmax(x, dim=-1)\n",
        "        context_vector = torch.sum(hidden_states * attention_weights.unsqueeze(-1), dim=1)\n",
        "        return context_vector, attention_weights\n",
        "\n",
        "class BertRoBERTaClass(torch.nn.Module):\n",
        "    def __init__(self, bert_weight=0.5, roberta_weight=0.5):\n",
        "        super(BertRoBERTaClass, self).__init__()\n",
        "        self.bert_model = BertModel.from_pretrained(\"bert-base-uncased\")\n",
        "        self.roberta_model = RobertaModel.from_pretrained(\"roberta-base\")\n",
        "        self.attention = DynamicAttention(self.bert_model.config.hidden_size)\n",
        "        self.pre_classifier = torch.nn.Linear(self.bert_model.config.hidden_size, self.bert_model.config.hidden_size)\n",
        "        self.dropout = torch.nn.Dropout(0.3)\n",
        "        self.classifier = torch.nn.Linear(self.bert_model.config.hidden_size, 6)\n",
        "        self.bert_weight = bert_weight\n",
        "        self.roberta_weight = roberta_weight\n",
        "\n",
        "    def forward(self, input_ids, attention_mask, token_type_ids):\n",
        "        bert_output = self.bert_model(input_ids=input_ids, attention_mask=attention_mask, token_type_ids=token_type_ids)\n",
        "        roberta_output = self.roberta_model(input_ids=input_ids, attention_mask=attention_mask, token_type_ids=token_type_ids)\n",
        "        hidden_states = self.bert_weight * bert_output[0] + self.roberta_weight * roberta_output[0]\n",
        "        context_vector, attention_weights = self.attention(hidden_states, attention_mask)\n",
        "        pooler = context_vector\n",
        "        pooler = self.pre_classifier(pooler)\n",
        "        pooler = torch.nn.ReLU()(pooler)\n",
        "        pooler = self.dropout(pooler)\n",
        "        output = self.classifier(pooler)\n",
        "        return output\n",
        "\n",
        "model = BertRoBERTaClass()\n",
        "model.to(device)\n"
      ],
      "metadata": {
        "id": "cYUsq7qxpp4a",
        "colab": {
          "base_uri": "https://localhost:8080/",
          "height": 1000,
          "referenced_widgets": [
            "748b74080f904c6691762a6d9f154134",
            "3e4b57b6d14244119fef89d32421c38c",
            "7955d2076adb4e47b61719b3e55d6552",
            "9b7e15db8c234caea3c5dba38ff221bc",
            "aba91d175d4e472d95e504cd9926d62b",
            "bca5376016994eef83be0d036659c0be",
            "ca23b10674c048cda232631492aea708",
            "572513e4d64a4b549b81decd50493cf3",
            "db8234275147423385494838f526b3c3",
            "c6b93b0613124042be658d2dc654ed37",
            "aa740f261acd4f129626e5ae04bf84a7",
            "4894c26dc3534fa0b64812cd82a4143f",
            "eca56e7d3ced4f11ab1b723148f204f7",
            "fa0e617c853240598db941627aeda505",
            "96db56997bd949fb8d36a0863a56a54e",
            "0e9cc4a5743a4f3a82cfc14b7a41a033",
            "2890b4283edb4f6eab69dc9925cb6354",
            "f78b12764b9d462eb2f71a9e870f10b6",
            "cb6fa2c38127400eaf9feef0290b3306",
            "dd387cde579f4bc088bb1fa08e906db7",
            "9ccbffe726a34d4b91a3c50ded67cb3d",
            "208b8eb792d8470f9f205abdeff2ea81",
            "2cdb6793d8954101ad1ad259ad681468",
            "9f7baec2641348648c19b296c5a75c90",
            "ae5ac584d4c3497dbe82fb028617b069",
            "69d5db46859b447baf3b32d027071d3e",
            "6ec311c6cad24c77b28f0fc1b866ddc4",
            "894c773f6c134e81b54e2470eeaeab48",
            "b70243797a9e43ab84eb93ecd7242732",
            "5b4a434aa88e41e7a11876281ac829d1",
            "07b0a07f74b94aeda9a124ff5a9f170c",
            "6bb4b00b01094c1d85cdd9b178db9609",
            "574e40eda18f4cba83dc4237ea5b6ce0"
          ]
        },
        "outputId": "5bfbf595-f555-40c8-ee7f-6a27a32dfa7d"
      },
      "id": "cYUsq7qxpp4a",
      "execution_count": 33,
      "outputs": [
        {
          "output_type": "display_data",
          "data": {
            "text/plain": [
              "model.safetensors:   0%|          | 0.00/440M [00:00<?, ?B/s]"
            ],
            "application/vnd.jupyter.widget-view+json": {
              "version_major": 2,
              "version_minor": 0,
              "model_id": "748b74080f904c6691762a6d9f154134"
            }
          },
          "metadata": {}
        },
        {
          "output_type": "display_data",
          "data": {
            "text/plain": [
              "config.json:   0%|          | 0.00/481 [00:00<?, ?B/s]"
            ],
            "application/vnd.jupyter.widget-view+json": {
              "version_major": 2,
              "version_minor": 0,
              "model_id": "4894c26dc3534fa0b64812cd82a4143f"
            }
          },
          "metadata": {}
        },
        {
          "output_type": "display_data",
          "data": {
            "text/plain": [
              "model.safetensors:   0%|          | 0.00/499M [00:00<?, ?B/s]"
            ],
            "application/vnd.jupyter.widget-view+json": {
              "version_major": 2,
              "version_minor": 0,
              "model_id": "2cdb6793d8954101ad1ad259ad681468"
            }
          },
          "metadata": {}
        },
        {
          "output_type": "stream",
          "name": "stderr",
          "text": [
            "Some weights of RobertaModel were not initialized from the model checkpoint at roberta-base and are newly initialized: ['roberta.pooler.dense.bias', 'roberta.pooler.dense.weight']\n",
            "You should probably TRAIN this model on a down-stream task to be able to use it for predictions and inference.\n"
          ]
        },
        {
          "output_type": "execute_result",
          "data": {
            "text/plain": [
              "BertRoBERTaClass(\n",
              "  (bert_model): BertModel(\n",
              "    (embeddings): BertEmbeddings(\n",
              "      (word_embeddings): Embedding(30522, 768, padding_idx=0)\n",
              "      (position_embeddings): Embedding(512, 768)\n",
              "      (token_type_embeddings): Embedding(2, 768)\n",
              "      (LayerNorm): LayerNorm((768,), eps=1e-12, elementwise_affine=True)\n",
              "      (dropout): Dropout(p=0.1, inplace=False)\n",
              "    )\n",
              "    (encoder): BertEncoder(\n",
              "      (layer): ModuleList(\n",
              "        (0-11): 12 x BertLayer(\n",
              "          (attention): BertAttention(\n",
              "            (self): BertSdpaSelfAttention(\n",
              "              (query): Linear(in_features=768, out_features=768, bias=True)\n",
              "              (key): Linear(in_features=768, out_features=768, bias=True)\n",
              "              (value): Linear(in_features=768, out_features=768, bias=True)\n",
              "              (dropout): Dropout(p=0.1, inplace=False)\n",
              "            )\n",
              "            (output): BertSelfOutput(\n",
              "              (dense): Linear(in_features=768, out_features=768, bias=True)\n",
              "              (LayerNorm): LayerNorm((768,), eps=1e-12, elementwise_affine=True)\n",
              "              (dropout): Dropout(p=0.1, inplace=False)\n",
              "            )\n",
              "          )\n",
              "          (intermediate): BertIntermediate(\n",
              "            (dense): Linear(in_features=768, out_features=3072, bias=True)\n",
              "            (intermediate_act_fn): GELUActivation()\n",
              "          )\n",
              "          (output): BertOutput(\n",
              "            (dense): Linear(in_features=3072, out_features=768, bias=True)\n",
              "            (LayerNorm): LayerNorm((768,), eps=1e-12, elementwise_affine=True)\n",
              "            (dropout): Dropout(p=0.1, inplace=False)\n",
              "          )\n",
              "        )\n",
              "      )\n",
              "    )\n",
              "    (pooler): BertPooler(\n",
              "      (dense): Linear(in_features=768, out_features=768, bias=True)\n",
              "      (activation): Tanh()\n",
              "    )\n",
              "  )\n",
              "  (roberta_model): RobertaModel(\n",
              "    (embeddings): RobertaEmbeddings(\n",
              "      (word_embeddings): Embedding(50265, 768, padding_idx=1)\n",
              "      (position_embeddings): Embedding(514, 768, padding_idx=1)\n",
              "      (token_type_embeddings): Embedding(1, 768)\n",
              "      (LayerNorm): LayerNorm((768,), eps=1e-05, elementwise_affine=True)\n",
              "      (dropout): Dropout(p=0.1, inplace=False)\n",
              "    )\n",
              "    (encoder): RobertaEncoder(\n",
              "      (layer): ModuleList(\n",
              "        (0-11): 12 x RobertaLayer(\n",
              "          (attention): RobertaAttention(\n",
              "            (self): RobertaSdpaSelfAttention(\n",
              "              (query): Linear(in_features=768, out_features=768, bias=True)\n",
              "              (key): Linear(in_features=768, out_features=768, bias=True)\n",
              "              (value): Linear(in_features=768, out_features=768, bias=True)\n",
              "              (dropout): Dropout(p=0.1, inplace=False)\n",
              "            )\n",
              "            (output): RobertaSelfOutput(\n",
              "              (dense): Linear(in_features=768, out_features=768, bias=True)\n",
              "              (LayerNorm): LayerNorm((768,), eps=1e-05, elementwise_affine=True)\n",
              "              (dropout): Dropout(p=0.1, inplace=False)\n",
              "            )\n",
              "          )\n",
              "          (intermediate): RobertaIntermediate(\n",
              "            (dense): Linear(in_features=768, out_features=3072, bias=True)\n",
              "            (intermediate_act_fn): GELUActivation()\n",
              "          )\n",
              "          (output): RobertaOutput(\n",
              "            (dense): Linear(in_features=3072, out_features=768, bias=True)\n",
              "            (LayerNorm): LayerNorm((768,), eps=1e-05, elementwise_affine=True)\n",
              "            (dropout): Dropout(p=0.1, inplace=False)\n",
              "          )\n",
              "        )\n",
              "      )\n",
              "    )\n",
              "    (pooler): RobertaPooler(\n",
              "      (dense): Linear(in_features=768, out_features=768, bias=True)\n",
              "      (activation): Tanh()\n",
              "    )\n",
              "  )\n",
              "  (attention): DynamicAttention(\n",
              "    (linear1): Linear(in_features=768, out_features=768, bias=True)\n",
              "    (linear2): Linear(in_features=768, out_features=1, bias=True)\n",
              "  )\n",
              "  (pre_classifier): Linear(in_features=768, out_features=768, bias=True)\n",
              "  (dropout): Dropout(p=0.3, inplace=False)\n",
              "  (classifier): Linear(in_features=768, out_features=6, bias=True)\n",
              ")"
            ]
          },
          "metadata": {},
          "execution_count": 33
        }
      ]
    },
    {
      "cell_type": "code",
      "source": [],
      "metadata": {
        "id": "-EC9x_L2qJRW"
      },
      "id": "-EC9x_L2qJRW",
      "execution_count": 33,
      "outputs": []
    },
    {
      "cell_type": "code",
      "execution_count": 34,
      "id": "fea2d5a6",
      "metadata": {
        "id": "fea2d5a6"
      },
      "outputs": [],
      "source": [
        "from torch import cuda\n",
        "device = 'cuda' if cuda.is_available() else 'cpu'"
      ]
    },
    {
      "cell_type": "code",
      "execution_count": 35,
      "id": "af10c703",
      "metadata": {
        "colab": {
          "base_uri": "https://localhost:8080/",
          "height": 35
        },
        "id": "af10c703",
        "outputId": "61faf5d2-bfce-457b-888a-eca7cc4de0eb"
      },
      "outputs": [
        {
          "output_type": "execute_result",
          "data": {
            "text/plain": [
              "'cuda'"
            ],
            "application/vnd.google.colaboratory.intrinsic+json": {
              "type": "string"
            }
          },
          "metadata": {},
          "execution_count": 35
        }
      ],
      "source": [
        "device"
      ]
    },
    {
      "cell_type": "code",
      "source": [
        "torch.cuda.empty_cache()"
      ],
      "metadata": {
        "id": "5jX4W9OFujKp"
      },
      "id": "5jX4W9OFujKp",
      "execution_count": 36,
      "outputs": []
    },
    {
      "cell_type": "code",
      "execution_count": 37,
      "id": "6ec8b516",
      "metadata": {
        "id": "6ec8b516",
        "colab": {
          "base_uri": "https://localhost:8080/"
        },
        "outputId": "ffdfc9cb-a7c7-4d45-d875-27e7a17cc7ad"
      },
      "outputs": [
        {
          "output_type": "stream",
          "name": "stderr",
          "text": [
            "Some weights of RobertaModel were not initialized from the model checkpoint at roberta-base and are newly initialized: ['roberta.pooler.dense.bias', 'roberta.pooler.dense.weight']\n",
            "You should probably TRAIN this model on a down-stream task to be able to use it for predictions and inference.\n"
          ]
        }
      ],
      "source": [
        "model = BertRoBERTaClass()"
      ]
    },
    {
      "cell_type": "code",
      "source": [
        "model.to(device)"
      ],
      "metadata": {
        "colab": {
          "base_uri": "https://localhost:8080/"
        },
        "id": "yeL4sr7weCOZ",
        "outputId": "5dbd0953-714a-44cb-8918-61af858e3e8f"
      },
      "id": "yeL4sr7weCOZ",
      "execution_count": 38,
      "outputs": [
        {
          "output_type": "execute_result",
          "data": {
            "text/plain": [
              "BertRoBERTaClass(\n",
              "  (bert_model): BertModel(\n",
              "    (embeddings): BertEmbeddings(\n",
              "      (word_embeddings): Embedding(30522, 768, padding_idx=0)\n",
              "      (position_embeddings): Embedding(512, 768)\n",
              "      (token_type_embeddings): Embedding(2, 768)\n",
              "      (LayerNorm): LayerNorm((768,), eps=1e-12, elementwise_affine=True)\n",
              "      (dropout): Dropout(p=0.1, inplace=False)\n",
              "    )\n",
              "    (encoder): BertEncoder(\n",
              "      (layer): ModuleList(\n",
              "        (0-11): 12 x BertLayer(\n",
              "          (attention): BertAttention(\n",
              "            (self): BertSdpaSelfAttention(\n",
              "              (query): Linear(in_features=768, out_features=768, bias=True)\n",
              "              (key): Linear(in_features=768, out_features=768, bias=True)\n",
              "              (value): Linear(in_features=768, out_features=768, bias=True)\n",
              "              (dropout): Dropout(p=0.1, inplace=False)\n",
              "            )\n",
              "            (output): BertSelfOutput(\n",
              "              (dense): Linear(in_features=768, out_features=768, bias=True)\n",
              "              (LayerNorm): LayerNorm((768,), eps=1e-12, elementwise_affine=True)\n",
              "              (dropout): Dropout(p=0.1, inplace=False)\n",
              "            )\n",
              "          )\n",
              "          (intermediate): BertIntermediate(\n",
              "            (dense): Linear(in_features=768, out_features=3072, bias=True)\n",
              "            (intermediate_act_fn): GELUActivation()\n",
              "          )\n",
              "          (output): BertOutput(\n",
              "            (dense): Linear(in_features=3072, out_features=768, bias=True)\n",
              "            (LayerNorm): LayerNorm((768,), eps=1e-12, elementwise_affine=True)\n",
              "            (dropout): Dropout(p=0.1, inplace=False)\n",
              "          )\n",
              "        )\n",
              "      )\n",
              "    )\n",
              "    (pooler): BertPooler(\n",
              "      (dense): Linear(in_features=768, out_features=768, bias=True)\n",
              "      (activation): Tanh()\n",
              "    )\n",
              "  )\n",
              "  (roberta_model): RobertaModel(\n",
              "    (embeddings): RobertaEmbeddings(\n",
              "      (word_embeddings): Embedding(50265, 768, padding_idx=1)\n",
              "      (position_embeddings): Embedding(514, 768, padding_idx=1)\n",
              "      (token_type_embeddings): Embedding(1, 768)\n",
              "      (LayerNorm): LayerNorm((768,), eps=1e-05, elementwise_affine=True)\n",
              "      (dropout): Dropout(p=0.1, inplace=False)\n",
              "    )\n",
              "    (encoder): RobertaEncoder(\n",
              "      (layer): ModuleList(\n",
              "        (0-11): 12 x RobertaLayer(\n",
              "          (attention): RobertaAttention(\n",
              "            (self): RobertaSdpaSelfAttention(\n",
              "              (query): Linear(in_features=768, out_features=768, bias=True)\n",
              "              (key): Linear(in_features=768, out_features=768, bias=True)\n",
              "              (value): Linear(in_features=768, out_features=768, bias=True)\n",
              "              (dropout): Dropout(p=0.1, inplace=False)\n",
              "            )\n",
              "            (output): RobertaSelfOutput(\n",
              "              (dense): Linear(in_features=768, out_features=768, bias=True)\n",
              "              (LayerNorm): LayerNorm((768,), eps=1e-05, elementwise_affine=True)\n",
              "              (dropout): Dropout(p=0.1, inplace=False)\n",
              "            )\n",
              "          )\n",
              "          (intermediate): RobertaIntermediate(\n",
              "            (dense): Linear(in_features=768, out_features=3072, bias=True)\n",
              "            (intermediate_act_fn): GELUActivation()\n",
              "          )\n",
              "          (output): RobertaOutput(\n",
              "            (dense): Linear(in_features=3072, out_features=768, bias=True)\n",
              "            (LayerNorm): LayerNorm((768,), eps=1e-05, elementwise_affine=True)\n",
              "            (dropout): Dropout(p=0.1, inplace=False)\n",
              "          )\n",
              "        )\n",
              "      )\n",
              "    )\n",
              "    (pooler): RobertaPooler(\n",
              "      (dense): Linear(in_features=768, out_features=768, bias=True)\n",
              "      (activation): Tanh()\n",
              "    )\n",
              "  )\n",
              "  (attention): DynamicAttention(\n",
              "    (linear1): Linear(in_features=768, out_features=768, bias=True)\n",
              "    (linear2): Linear(in_features=768, out_features=1, bias=True)\n",
              "  )\n",
              "  (pre_classifier): Linear(in_features=768, out_features=768, bias=True)\n",
              "  (dropout): Dropout(p=0.3, inplace=False)\n",
              "  (classifier): Linear(in_features=768, out_features=6, bias=True)\n",
              ")"
            ]
          },
          "metadata": {},
          "execution_count": 38
        }
      ]
    },
    {
      "cell_type": "code",
      "execution_count": 38,
      "id": "32e97643",
      "metadata": {
        "id": "32e97643"
      },
      "outputs": [],
      "source": []
    },
    {
      "cell_type": "markdown",
      "id": "709f402c",
      "metadata": {
        "id": "709f402c"
      },
      "source": [
        "## Model"
      ]
    },
    {
      "cell_type": "code",
      "execution_count": 39,
      "id": "073206d2",
      "metadata": {
        "id": "073206d2"
      },
      "outputs": [],
      "source": [
        "import torch\n",
        "import torch.optim as optim\n",
        "import torch.nn as nn\n",
        "import torch.nn.functional as F\n",
        "from torch.autograd import Variable\n",
        "from torch.utils.data import Dataset, DataLoader\n",
        "from transformers import TrainingArguments, Trainer\n",
        "from sklearn.metrics import precision_recall_fscore_support, classification_report\n",
        "from sklearn.metrics import accuracy_score, f1_score\n",
        "from tqdm import tqdm"
      ]
    },
    {
      "cell_type": "code",
      "source": [],
      "metadata": {
        "id": "pJMBBOhYCQ3Y"
      },
      "id": "pJMBBOhYCQ3Y",
      "execution_count": 39,
      "outputs": []
    },
    {
      "cell_type": "code",
      "execution_count": 40,
      "id": "755827d2",
      "metadata": {
        "id": "755827d2",
        "colab": {
          "base_uri": "https://localhost:8080/"
        },
        "outputId": "b17605e6-7646-43bf-cbf7-3aafa6b9e31e"
      },
      "outputs": [
        {
          "output_type": "execute_result",
          "data": {
            "text/plain": [
              "CrossEntropyLoss()"
            ]
          },
          "metadata": {},
          "execution_count": 40
        }
      ],
      "source": [
        "# trainLabels = torch.tensor(train_labels.values)\n",
        "# class_count = torch.bincount(trainLabels)\n",
        "# class_weights = 1.0 / class_count\n",
        "# class_weights /= torch.sum(class_weights)\n",
        "\n",
        "# lossfn = nn.CrossEntropyLoss(weight=class_weights)\n",
        "# lossfn.to(device)\n",
        "# optimizer = torch.optim.AdamW(model.parameters(), lr=2e-5, weight_decay=0.01)\n",
        "\n",
        "trainLabels = torch.tensor(train_labels.values)\n",
        "class_count = torch.bincount(trainLabels)  # Count samples per class\n",
        "class_weights = 1.0 / class_count          # Inverse frequency\n",
        "class_weights /= torch.sum(class_weights) # Normalize weights\n",
        "class_weights = class_weights.to(device)  # Move weights to the same device\n",
        "\n",
        "lossfn = nn.CrossEntropyLoss(weight=class_weights)  # Use class_weights\n",
        "lossfn.to(device)\n",
        "optimizer = torch.optim.AdamW(model.parameters(), lr=2e-5, weight_decay=0.01)\n",
        "criterion = nn.CrossEntropyLoss(weight=class_weights)\n",
        "criterion.to(device)  # Move loss function to the correct device"
      ]
    },
    {
      "cell_type": "code",
      "source": [],
      "metadata": {
        "id": "CNd4_8hLzM5Z"
      },
      "id": "CNd4_8hLzM5Z",
      "execution_count": 40,
      "outputs": []
    },
    {
      "cell_type": "code",
      "source": [
        "epochs = 15"
      ],
      "metadata": {
        "id": "UD-MD6z8zMfN"
      },
      "id": "UD-MD6z8zMfN",
      "execution_count": 41,
      "outputs": []
    },
    {
      "cell_type": "code",
      "execution_count": 42,
      "id": "16c82523",
      "metadata": {
        "id": "16c82523"
      },
      "outputs": [],
      "source": [
        "# # Define your training loop\n",
        "# valAccList = []\n",
        "# valLossList = []\n",
        "# trainAccList = []\n",
        "# trainLossList = []\n",
        "# best_val_loss = float('inf')\n",
        "# best_model = None\n",
        "\n",
        "# for epoch in range(epochs):\n",
        "#     print(\"Epoch:\", epoch+1)\n",
        "#     progress_bar = tqdm(trainloader)\n",
        "#     model.train()\n",
        "\n",
        "#     # Training loop\n",
        "#     for batch in progress_bar:\n",
        "#       inputs, mask, token_type_ids, labels = batch\n",
        "#       inputs = inputs.to(device)\n",
        "#       mask = mask.to(device)\n",
        "#       token_type_ids = token_type_ids.to(device)\n",
        "#       labels = labels.to(device)\n",
        "\n",
        "#       optimizer.zero_grad()\n",
        "#       outputs = model(inputs, attention_mask=mask, token_type_ids=token_type_ids)\n",
        "#       loss = lossfn(outputs, labels)\n",
        "#       loss.backward()\n",
        "#       optimizer.step()\n",
        "\n",
        "#       predictions = outputs.argmax(dim=-1)\n",
        "#       acc = accuracy_score(labels.cpu().numpy(), predictions.cpu().numpy())\n",
        "#       progress_bar.set_description(f\"loss: {loss.item():.4f}, acc: {acc:.4f}\")\n",
        "\n",
        "\n",
        "\n",
        "#     model.eval()\n",
        "\n",
        "#     train_predictions = []\n",
        "#     train_labels = []\n",
        "#     train_loss = 0\n",
        "\n",
        "#     with torch.no_grad():\n",
        "#         for batch in trainloader:\n",
        "#             inputs, mask, token_type_ids, labels = batch\n",
        "#             inputs = inputs.squeeze().to(device)\n",
        "#             mask = mask.squeeze().to(device)\n",
        "#             labels = labels.to(device)\n",
        "#             outputs = model(inputs, attention_mask=mask, token_type_ids=token_type_ids)\n",
        "\n",
        "#             loss = criterion(outputs, labels)\n",
        "\n",
        "#             train_loss += loss\n",
        "#             logits = outputs\n",
        "#             train_predictions.extend(logits.argmax(dim=-1).cpu().numpy().tolist())\n",
        "#             train_labels.extend(labels.cpu().numpy().tolist())\n",
        "\n",
        "#     train_acc = accuracy_score(train_labels, train_predictions)\n",
        "#     train_loss /= len(train_labels)\n",
        "#     print('Train accuracy:', train_acc)\n",
        "#     print('Train Loss:', train_loss)\n",
        "#     trainAccList.append(train_acc)\n",
        "#     trainLossList.append(train_loss)\n",
        "\n",
        "#     val_predictions = []\n",
        "#     val_labels = []\n",
        "#     val_loss = 0\n",
        "\n",
        "#     with torch.no_grad():\n",
        "#       for batch in valloader:\n",
        "#           inputs, mask, token_type_ids, labels = batch\n",
        "#           inputs = inputs.to(device)\n",
        "#           mask = mask.to(device)\n",
        "#           token_type_ids = token_type_ids.to(device)\n",
        "#           labels = labels.to(device)\n",
        "\n",
        "#           outputs = model(inputs, attention_mask=mask, token_type_ids=token_type_ids)\n",
        "#           loss = lossfn(outputs, labels)\n",
        "#           val_loss += loss.item()\n",
        "\n",
        "#           logits = outputs\n",
        "#           val_predictions.extend(logits.argmax(dim=-1).cpu().numpy().tolist())\n",
        "#           val_labels.extend(labels.cpu().numpy().tolist())\n",
        "\n",
        "\n",
        "#     val_acc = accuracy_score(val_labels, val_predictions)\n",
        "#     print('Validation accuracy:', val_acc)\n",
        "#     print('Validation Loss:', val_loss)\n",
        "#     valAccList.append(val_acc)\n",
        "#     valLossList.append(val_loss)\n",
        "#     val_loss /= len(val_labels)\n",
        "\n",
        "#     if val_loss < best_val_loss:\n",
        "#         best_val_loss = val_loss\n",
        "#         best_model = model.state_dict()\n",
        "\n",
        "#     # scheduler.step()\n"
      ]
    },
    {
      "cell_type": "code",
      "source": [
        "import torch\n",
        "from tqdm import tqdm\n",
        "from sklearn.metrics import accuracy_score\n",
        "\n",
        "# Initialize metric tracking lists and best model tracking\n",
        "train_acc_list = []\n",
        "train_loss_list = []\n",
        "val_acc_list = []\n",
        "val_loss_list = []\n",
        "best_val_loss = float('inf')\n",
        "best_model_state = None\n",
        "\n",
        "# Move the model to the specified device once before the training loop\n",
        "model.to(device)\n",
        "\n",
        "for epoch in range(1, epochs + 1):\n",
        "    print(f\"Epoch {epoch}/{epochs}\")\n",
        "\n",
        "    # Training Phase\n",
        "    model.train()\n",
        "    epoch_train_loss = 0.0\n",
        "    epoch_train_correct = 0\n",
        "    epoch_train_total = 0\n",
        "\n",
        "    progress_bar = tqdm(trainloader, desc=\"Training\")\n",
        "    for batch in progress_bar:\n",
        "        inputs, mask, token_type_ids, labels = batch\n",
        "        inputs = inputs.squeeze().to(device)\n",
        "        mask = mask.squeeze().to(device)\n",
        "        labels = labels.to(device)\n",
        "\n",
        "        optimizer.zero_grad()\n",
        "        outputs = model(inputs, attention_mask=mask, token_type_ids=token_type_ids)\n",
        "        loss = lossfn(outputs, labels)\n",
        "        loss.backward()\n",
        "        optimizer.step()\n",
        "\n",
        "        # Accumulate loss and correct predictions\n",
        "        epoch_train_loss += loss.item() * labels.size(0)\n",
        "        _, preds = torch.max(outputs, dim=1)\n",
        "        epoch_train_correct += (preds == labels).sum().item()\n",
        "        epoch_train_total += labels.size(0)\n",
        "\n",
        "        # Update progress bar\n",
        "        batch_loss = loss.item()\n",
        "        batch_acc = (preds == labels).float().mean().item()\n",
        "        progress_bar.set_postfix({'loss': f\"{batch_loss:.4f}\", 'acc': f\"{batch_acc:.4f}\"})\n",
        "\n",
        "    # Calculate average loss and accuracy for the epoch\n",
        "    avg_train_loss = epoch_train_loss / epoch_train_total+1e-25\n",
        "    train_accuracy = epoch_train_correct / epoch_train_total+1e-25\n",
        "    train_loss_list.append(avg_train_loss)\n",
        "    train_acc_list.append(train_accuracy)\n",
        "\n",
        "    print(f\"Train Loss: {avg_train_loss:.4f}, Train Accuracy: {train_accuracy:.4f}\")\n",
        "\n",
        "    # Validation Phase\n",
        "    model.eval()\n",
        "    epoch_val_loss = 0.0\n",
        "    epoch_val_correct = 0\n",
        "    epoch_val_total = 0\n",
        "\n",
        "    with torch.no_grad():\n",
        "        for batch in tqdm(valloader, desc=\"Validation\", leave=False):\n",
        "            inputs, mask, token_type_ids, labels = batch\n",
        "            # print(f\"Batch inputs shape: {inputs.shape}\")  # Expected: [batch_size, seq_length]\n",
        "            # print(f\"Batch mask shape: {mask.shape}\")      # Expected: [batch_size, seq_length]\n",
        "            # print(f\"Batch labels shape: {labels.shape}\")  # Expected: [batch_size]\n",
        "\n",
        "            inputs = inputs.squeeze().to(device)\n",
        "            mask = mask.squeeze().to(device)\n",
        "            labels = labels.to(device)\n",
        "            token_type_ids = token_type_ids.to(device)\n",
        "\n",
        "            outputs = model(inputs, attention_mask=mask, token_type_ids=token_type_ids)\n",
        "            loss = lossfn(outputs, labels)\n",
        "\n",
        "            # Accumulate loss and correct predictions\n",
        "            epoch_val_loss += loss.item() * labels.size(0)\n",
        "            _, preds = torch.max(outputs, dim=1)\n",
        "            epoch_val_correct += (preds == labels).sum().item()\n",
        "            epoch_val_total += labels.size(0)\n",
        "\n",
        "    # Calculate average loss and accuracy for validation\n",
        "    avg_val_loss = epoch_val_loss / epoch_val_total\n",
        "    val_accuracy = epoch_val_correct / epoch_val_total\n",
        "    val_loss_list.append(avg_val_loss)\n",
        "    val_acc_list.append(val_accuracy)\n",
        "\n",
        "    print(f\"Validation Loss: {avg_val_loss:.4f}, Validation Accuracy: {val_accuracy:.4f}\")\n",
        "\n",
        "    # Check if the current model is the best so far and save it\n",
        "    if avg_val_loss < best_val_loss:\n",
        "        best_val_loss = avg_val_loss\n",
        "        best_model_state = model.state_dict()\n",
        "        torch.save(best_model_state, 'best_model.pth')\n",
        "        print(\"Best model saved.\")\n",
        "\n",
        "    # Optional: Step the scheduler if you're using one\n",
        "    # scheduler.step(avg_val_loss)\n"
      ],
      "metadata": {
        "colab": {
          "base_uri": "https://localhost:8080/"
        },
        "id": "rdS81S1ZEPG5",
        "outputId": "d872823a-2f18-425a-a105-498aa58516f5"
      },
      "id": "rdS81S1ZEPG5",
      "execution_count": 43,
      "outputs": [
        {
          "metadata": {
            "tags": null
          },
          "name": "stdout",
          "output_type": "stream",
          "text": [
            "Epoch 1/15\n"
          ]
        },
        {
          "metadata": {
            "tags": null
          },
          "name": "stderr",
          "output_type": "stream",
          "text": [
            "Training: 100%|██████████| 111/111 [05:03<00:00,  2.73s/it, loss=1.6696, acc=0.2667]\n"
          ]
        },
        {
          "metadata": {
            "tags": null
          },
          "name": "stdout",
          "output_type": "stream",
          "text": [
            "Train Loss: 1.7137, Train Accuracy: 0.2950\n"
          ]
        },
        {
          "metadata": {
            "tags": null
          },
          "name": "stderr",
          "output_type": "stream",
          "text": [
            ""
          ]
        },
        {
          "metadata": {
            "tags": null
          },
          "name": "stdout",
          "output_type": "stream",
          "text": [
            "Validation Loss: 1.4950, Validation Accuracy: 0.5070\n",
            "Best model saved.\n",
            "Epoch 2/15\n"
          ]
        },
        {
          "metadata": {
            "tags": null
          },
          "name": "stderr",
          "output_type": "stream",
          "text": [
            "Training: 100%|██████████| 111/111 [05:08<00:00,  2.78s/it, loss=1.3594, acc=0.6000]\n"
          ]
        },
        {
          "metadata": {
            "tags": null
          },
          "name": "stdout",
          "output_type": "stream",
          "text": [
            "Train Loss: 1.4488, Train Accuracy: 0.4368\n"
          ]
        },
        {
          "metadata": {
            "tags": null
          },
          "name": "stderr",
          "output_type": "stream",
          "text": [
            ""
          ]
        },
        {
          "metadata": {
            "tags": null
          },
          "name": "stdout",
          "output_type": "stream",
          "text": [
            "Validation Loss: 1.3472, Validation Accuracy: 0.5564\n",
            "Best model saved.\n",
            "Epoch 3/15\n"
          ]
        },
        {
          "metadata": {
            "tags": null
          },
          "name": "stderr",
          "output_type": "stream",
          "text": [
            "Training: 100%|██████████| 111/111 [05:08<00:00,  2.78s/it, loss=1.1675, acc=0.4667]\n"
          ]
        },
        {
          "metadata": {
            "tags": null
          },
          "name": "stdout",
          "output_type": "stream",
          "text": [
            "Train Loss: 1.1915, Train Accuracy: 0.5284\n"
          ]
        },
        {
          "metadata": {
            "tags": null
          },
          "name": "stderr",
          "output_type": "stream",
          "text": [
            ""
          ]
        },
        {
          "metadata": {
            "tags": null
          },
          "name": "stdout",
          "output_type": "stream",
          "text": [
            "Validation Loss: 1.2377, Validation Accuracy: 0.5333\n",
            "Best model saved.\n",
            "Epoch 4/15\n"
          ]
        },
        {
          "metadata": {
            "tags": null
          },
          "name": "stderr",
          "output_type": "stream",
          "text": [
            "Training: 100%|██████████| 111/111 [05:08<00:00,  2.78s/it, loss=1.2552, acc=0.6667]\n"
          ]
        },
        {
          "metadata": {
            "tags": null
          },
          "name": "stdout",
          "output_type": "stream",
          "text": [
            "Train Loss: 0.9373, Train Accuracy: 0.6243\n"
          ]
        },
        {
          "metadata": {
            "tags": null
          },
          "name": "stderr",
          "output_type": "stream",
          "text": [
            ""
          ]
        },
        {
          "metadata": {
            "tags": null
          },
          "name": "stdout",
          "output_type": "stream",
          "text": [
            "Validation Loss: 1.1013, Validation Accuracy: 0.6206\n",
            "Best model saved.\n",
            "Epoch 5/15\n"
          ]
        },
        {
          "metadata": {
            "tags": null
          },
          "name": "stderr",
          "output_type": "stream",
          "text": [
            "Training: 100%|██████████| 111/111 [05:08<00:00,  2.78s/it, loss=0.8381, acc=0.5333]\n"
          ]
        },
        {
          "metadata": {
            "tags": null
          },
          "name": "stdout",
          "output_type": "stream",
          "text": [
            "Train Loss: 0.7217, Train Accuracy: 0.7092\n"
          ]
        },
        {
          "metadata": {
            "tags": null
          },
          "name": "stderr",
          "output_type": "stream",
          "text": [
            ""
          ]
        },
        {
          "metadata": {
            "tags": null
          },
          "name": "stdout",
          "output_type": "stream",
          "text": [
            "Validation Loss: 1.0981, Validation Accuracy: 0.6395\n",
            "Best model saved.\n",
            "Epoch 6/15\n"
          ]
        },
        {
          "metadata": {
            "tags": null
          },
          "name": "stderr",
          "output_type": "stream",
          "text": [
            "Training: 100%|██████████| 111/111 [05:09<00:00,  2.78s/it, loss=0.4684, acc=0.9333]\n"
          ]
        },
        {
          "metadata": {
            "tags": null
          },
          "name": "stdout",
          "output_type": "stream",
          "text": [
            "Train Loss: 0.5525, Train Accuracy: 0.7810\n"
          ]
        },
        {
          "metadata": {
            "tags": null
          },
          "name": "stderr",
          "output_type": "stream",
          "text": [
            ""
          ]
        },
        {
          "metadata": {
            "tags": null
          },
          "name": "stdout",
          "output_type": "stream",
          "text": [
            "Validation Loss: 1.0628, Validation Accuracy: 0.7136\n",
            "Best model saved.\n",
            "Epoch 7/15\n"
          ]
        },
        {
          "metadata": {
            "tags": null
          },
          "name": "stderr",
          "output_type": "stream",
          "text": [
            "Training: 100%|██████████| 111/111 [05:08<00:00,  2.78s/it, loss=0.2518, acc=0.9333]\n"
          ]
        },
        {
          "metadata": {
            "tags": null
          },
          "name": "stdout",
          "output_type": "stream",
          "text": [
            "Train Loss: 0.4085, Train Accuracy: 0.8362\n"
          ]
        },
        {
          "metadata": {
            "tags": null
          },
          "name": "stderr",
          "output_type": "stream",
          "text": [
            ""
          ]
        },
        {
          "metadata": {
            "tags": null
          },
          "name": "stdout",
          "output_type": "stream",
          "text": [
            "Validation Loss: 1.1311, Validation Accuracy: 0.7457\n",
            "Epoch 8/15\n"
          ]
        },
        {
          "metadata": {
            "tags": null
          },
          "name": "stderr",
          "output_type": "stream",
          "text": [
            "Training: 100%|██████████| 111/111 [05:07<00:00,  2.77s/it, loss=0.5615, acc=0.8667]\n"
          ]
        },
        {
          "metadata": {
            "tags": null
          },
          "name": "stdout",
          "output_type": "stream",
          "text": [
            "Train Loss: 0.3247, Train Accuracy: 0.8764\n"
          ]
        },
        {
          "metadata": {
            "tags": null
          },
          "name": "stderr",
          "output_type": "stream",
          "text": [
            ""
          ]
        },
        {
          "metadata": {
            "tags": null
          },
          "name": "stdout",
          "output_type": "stream",
          "text": [
            "Validation Loss: 1.1588, Validation Accuracy: 0.7111\n",
            "Epoch 9/15\n"
          ]
        },
        {
          "metadata": {
            "tags": null
          },
          "name": "stderr",
          "output_type": "stream",
          "text": [
            "Training: 100%|██████████| 111/111 [05:08<00:00,  2.78s/it, loss=0.1370, acc=0.9333]\n"
          ]
        },
        {
          "metadata": {
            "tags": null
          },
          "name": "stdout",
          "output_type": "stream",
          "text": [
            "Train Loss: 0.2360, Train Accuracy: 0.9154\n"
          ]
        },
        {
          "output_type": "stream",
          "name": "stderr",
          "text": []
        },
        {
          "output_type": "stream",
          "name": "stdout",
          "text": [
            "Validation Loss: 1.2232, Validation Accuracy: 0.7564\n",
            "Epoch 10/15\n"
          ]
        },
        {
          "output_type": "stream",
          "name": "stderr",
          "text": [
            "Training: 100%|██████████| 111/111 [05:07<00:00,  2.77s/it, loss=0.5648, acc=0.8000]\n"
          ]
        },
        {
          "output_type": "stream",
          "name": "stdout",
          "text": [
            "Train Loss: 0.1856, Train Accuracy: 0.9327\n"
          ]
        },
        {
          "output_type": "stream",
          "name": "stderr",
          "text": []
        },
        {
          "output_type": "stream",
          "name": "stdout",
          "text": [
            "Validation Loss: 1.2099, Validation Accuracy: 0.7679\n",
            "Epoch 11/15\n"
          ]
        },
        {
          "output_type": "stream",
          "name": "stderr",
          "text": [
            "Training: 100%|██████████| 111/111 [05:08<00:00,  2.78s/it, loss=0.2222, acc=0.9333]\n"
          ]
        },
        {
          "output_type": "stream",
          "name": "stdout",
          "text": [
            "Train Loss: 0.1449, Train Accuracy: 0.9491\n"
          ]
        },
        {
          "output_type": "stream",
          "name": "stderr",
          "text": []
        },
        {
          "output_type": "stream",
          "name": "stdout",
          "text": [
            "Validation Loss: 1.3064, Validation Accuracy: 0.7556\n",
            "Epoch 12/15\n"
          ]
        },
        {
          "output_type": "stream",
          "name": "stderr",
          "text": [
            "Training: 100%|██████████| 111/111 [05:08<00:00,  2.78s/it, loss=0.0278, acc=1.0000]\n"
          ]
        },
        {
          "output_type": "stream",
          "name": "stdout",
          "text": [
            "Train Loss: 0.1151, Train Accuracy: 0.9573\n"
          ]
        },
        {
          "output_type": "stream",
          "name": "stderr",
          "text": []
        },
        {
          "output_type": "stream",
          "name": "stdout",
          "text": [
            "Validation Loss: 1.3168, Validation Accuracy: 0.7646\n",
            "Epoch 13/15\n"
          ]
        },
        {
          "output_type": "stream",
          "name": "stderr",
          "text": [
            "Training: 100%|██████████| 111/111 [05:07<00:00,  2.77s/it, loss=0.1521, acc=0.9333]\n"
          ]
        },
        {
          "output_type": "stream",
          "name": "stdout",
          "text": [
            "Train Loss: 0.1197, Train Accuracy: 0.9567\n"
          ]
        },
        {
          "output_type": "stream",
          "name": "stderr",
          "text": []
        },
        {
          "output_type": "stream",
          "name": "stdout",
          "text": [
            "Validation Loss: 1.1454, Validation Accuracy: 0.7720\n",
            "Epoch 14/15\n"
          ]
        },
        {
          "output_type": "stream",
          "name": "stderr",
          "text": [
            "Training: 100%|██████████| 111/111 [05:08<00:00,  2.78s/it, loss=0.0480, acc=0.9333]\n"
          ]
        },
        {
          "output_type": "stream",
          "name": "stdout",
          "text": [
            "Train Loss: 0.0891, Train Accuracy: 0.9717\n"
          ]
        },
        {
          "output_type": "stream",
          "name": "stderr",
          "text": []
        },
        {
          "output_type": "stream",
          "name": "stdout",
          "text": [
            "Validation Loss: 1.3401, Validation Accuracy: 0.7580\n",
            "Epoch 15/15\n"
          ]
        },
        {
          "output_type": "stream",
          "name": "stderr",
          "text": [
            "Training: 100%|██████████| 111/111 [05:07<00:00,  2.77s/it, loss=0.3958, acc=0.9333]\n"
          ]
        },
        {
          "output_type": "stream",
          "name": "stdout",
          "text": [
            "Train Loss: 0.0648, Train Accuracy: 0.9802\n"
          ]
        },
        {
          "output_type": "stream",
          "name": "stderr",
          "text": [
            "                                                           "
          ]
        },
        {
          "output_type": "stream",
          "name": "stdout",
          "text": [
            "Validation Loss: 1.4025, Validation Accuracy: 0.7811\n"
          ]
        },
        {
          "output_type": "stream",
          "name": "stderr",
          "text": [
            "\r"
          ]
        }
      ]
    },
    {
      "cell_type": "code",
      "source": [
        "epochs = list(range(1, epochs + 1))"
      ],
      "metadata": {
        "id": "L6xHQR5M0y6R"
      },
      "id": "L6xHQR5M0y6R",
      "execution_count": 44,
      "outputs": []
    },
    {
      "cell_type": "code",
      "source": [
        "plt.plot(epochs, train_acc_list, label='Training accuracy')\n",
        "plt.plot(epochs, val_acc_list, label='Validation accuracy')\n",
        "plt.xlabel('Epoch')\n",
        "plt.ylabel('Accuracy')\n",
        "plt.title('Training and Validation Metrics')\n",
        "plt.legend()\n",
        "plt.show()"
      ],
      "metadata": {
        "colab": {
          "base_uri": "https://localhost:8080/",
          "height": 472
        },
        "id": "U5EeLowa0v9p",
        "outputId": "bbd79f6c-b508-4c9f-8f0c-534afcefa05a"
      },
      "id": "U5EeLowa0v9p",
      "execution_count": 45,
      "outputs": [
        {
          "output_type": "display_data",
          "data": {
            "text/plain": [
              "<Figure size 640x480 with 1 Axes>"
            ],
            "image/png": "[encoded data removed]"
          },
          "metadata": {}
        }
      ]
    },
    {
      "cell_type": "code",
      "source": [
        "# trainLossList = [float(tloss) for tloss in trainLossList]  # Convert numpy arrays to floats\n",
        "# valLossList = [float(vloss) for vloss in valLossList]      # Convert floats (or tensors) to floats\n",
        "# print(trainLossList)"
      ],
      "metadata": {
        "id": "ZX0i4oVnHhR5"
      },
      "id": "ZX0i4oVnHhR5",
      "execution_count": 46,
      "outputs": []
    },
    {
      "cell_type": "code",
      "source": [
        "plt.plot(epochs, train_loss_list, label='Training loss')\n",
        "plt.plot(epochs, val_loss_list, label='Validation loss')\n",
        "plt.xlabel('Epoch')\n",
        "plt.ylabel('Loss')\n",
        "plt.title('Training and Validation Metrics')\n",
        "plt.legend()\n",
        "plt.show()"
      ],
      "metadata": {
        "colab": {
          "base_uri": "https://localhost:8080/",
          "height": 472
        },
        "id": "nTCNCEWP0wFv",
        "outputId": "d44aafab-7fa0-4799-9f13-febe7990c2f7"
      },
      "id": "nTCNCEWP0wFv",
      "execution_count": 47,
      "outputs": [
        {
          "output_type": "display_data",
          "data": {
            "text/plain": [
              "<Figure size 640x480 with 1 Axes>"
            ],
            "image/png": "[encoded data removed]"
          },
          "metadata": {}
        }
      ]
    },
    {
      "cell_type": "code",
      "source": [],
      "metadata": {
        "id": "nI9l2oVdHLNo"
      },
      "id": "nI9l2oVdHLNo",
      "execution_count": 47,
      "outputs": []
    },
    {
      "cell_type": "markdown",
      "id": "994dbb6b",
      "metadata": {
        "id": "994dbb6b"
      },
      "source": [
        "## Evaluation"
      ]
    },
    {
      "cell_type": "code",
      "execution_count": 48,
      "id": "8e685b09",
      "metadata": {
        "id": "8e685b09"
      },
      "outputs": [],
      "source": [
        "def compute_metrics(preds, labels):\n",
        "    labels = labels\n",
        "    preds = preds\n",
        "    precision, recall, f1, _ = precision_recall_fscore_support(labels, preds)\n",
        "    acc = accuracy_score(labels, preds)\n",
        "    return {\n",
        "        'accuracy': acc,\n",
        "        'f1': f1,\n",
        "        'precision': precision,\n",
        "        'recall': recall\n",
        "    }"
      ]
    },
    {
      "cell_type": "code",
      "source": [],
      "metadata": {
        "id": "gBZqgklqigZK"
      },
      "id": "gBZqgklqigZK",
      "execution_count": 48,
      "outputs": []
    },
    {
      "cell_type": "code",
      "source": [
        "# model.eval()\n",
        "\n",
        "# test_predictions = []\n",
        "# test_labels = []\n",
        "# with torch.no_grad():\n",
        "#   for batch in testloader:\n",
        "#     inputs, mask, token_type_ids, labels = batch\n",
        "#     inputs = inputs.squeeze().to(device)\n",
        "#     mask = mask.squeeze().to(device)\n",
        "#     labels = labels.to(device)\n",
        "#     outputs = model(inputs, attention_mask=mask, token_type_ids=token_type_ids)\n",
        "#     outputs.to(device)\n",
        "#     loss = criterion(outputs, labels)\n",
        "#     logits = outputs\n",
        "#     test_predictions.extend(logits.argmax(dim=-1).cpu().numpy().tolist())\n",
        "#     test_labels.extend(labels.cpu().numpy().tolist())\n",
        "\n",
        "# test_acc = accuracy_score(test_labels, test_predictions)\n",
        "# test_f1 = f1_score(test_labels, test_predictions)\n",
        "# print('Test accuracy:', test_acc)\n",
        "# print('Test F1 score:', test_f1)\n",
        "# import os\n",
        "# os.environ[\"CUDA_LAUNCH_BLOCKING\"] = \"1\"\n",
        "\n",
        "model.eval()\n",
        "test_predictions = []\n",
        "test_labels = []\n",
        "with torch.no_grad():\n",
        "  for batch in testloader:\n",
        "    inputs, mask, token_type_ids, labels = batch\n",
        "    inputs = inputs.squeeze().to(device)\n",
        "    mask = mask.squeeze().to(device)\n",
        "    labels = labels.to(device)\n",
        "    outputs = model(inputs, attention_mask=mask, token_type_ids=token_type_ids)\n",
        "    outputs.to(device)\n",
        "    loss = criterion(outputs, labels)\n",
        "    logits = outputs\n",
        "    test_predictions.extend(logits.argmax(dim=-1).cpu().numpy().tolist())\n",
        "    test_labels.extend(labels.cpu().numpy().tolist())\n",
        "\n",
        "test_acc = accuracy_score(test_labels, test_predictions)\n",
        "test_f1 = f1_score(test_labels, test_predictions, average='weighted')\n",
        "print('Test accuracy:', test_acc)\n",
        "print('Test F1 score:', test_f1)"
      ],
      "metadata": {
        "colab": {
          "base_uri": "https://localhost:8080/"
        },
        "id": "KBDHWIQIqrR8",
        "outputId": "bb37c5ea-8178-459e-8c19-f5a57f8a7f59"
      },
      "id": "KBDHWIQIqrR8",
      "execution_count": 49,
      "outputs": [
        {
          "output_type": "stream",
          "name": "stdout",
          "text": [
            "Test accuracy: 0.8236695790309769\n",
            "Test F1 score: 0.8246323965119993\n"
          ]
        }
      ]
    },
    {
      "cell_type": "code",
      "execution_count": 50,
      "id": "6a55dcd1",
      "metadata": {
        "colab": {
          "base_uri": "https://localhost:8080/"
        },
        "id": "6a55dcd1",
        "outputId": "9c243f5f-2166-48b3-8918-7f6bbe0fa799"
      },
      "outputs": [
        {
          "output_type": "execute_result",
          "data": {
            "text/plain": [
              "{'accuracy': 0.8236695790309769,\n",
              " 'f1': array([0.71794872, 0.85409253, 0.85517241, 0.83921569, 0.80263158,\n",
              "        0.7751938 ]),\n",
              " 'precision': array([0.93333333, 0.91603053, 0.91625616, 0.79850746, 0.7593361 ,\n",
              "        0.74074074]),\n",
              " 'recall': array([0.58333333, 0.8       , 0.80172414, 0.88429752, 0.85116279,\n",
              "        0.81300813])}"
            ]
          },
          "metadata": {},
          "execution_count": 50
        }
      ],
      "source": [
        "compute_metrics(test_predictions, test_labels)"
      ]
    },
    {
      "cell_type": "code",
      "source": [
        "print(classification_report(test_labels, test_predictions))"
      ],
      "metadata": {
        "colab": {
          "base_uri": "https://localhost:8080/"
        },
        "id": "uJcU8N8CqrYU",
        "outputId": "549276c6-041e-4a17-c90e-7260813c852e"
      },
      "id": "uJcU8N8CqrYU",
      "execution_count": 51,
      "outputs": [
        {
          "output_type": "stream",
          "name": "stdout",
          "text": [
            "              precision    recall  f1-score   support\n",
            "\n",
            "           0       0.93      0.58      0.72        24\n",
            "           1       0.92      0.80      0.85       300\n",
            "           2       0.92      0.80      0.86       232\n",
            "           3       0.80      0.88      0.84       242\n",
            "           4       0.76      0.85      0.80       215\n",
            "           5       0.74      0.81      0.78       246\n",
            "\n",
            "    accuracy                           0.82      1259\n",
            "   macro avg       0.84      0.79      0.81      1259\n",
            "weighted avg       0.83      0.82      0.82      1259\n",
            "\n"
          ]
        }
      ]
    },
    {
      "cell_type": "code",
      "source": [
        "from google.colab import drive\n",
        "drive.mount('/content/drive')"
      ],
      "metadata": {
        "colab": {
          "base_uri": "https://localhost:8080/"
        },
        "id": "payF9z9WOO-V",
        "outputId": "af250b8a-8385-489a-a069-edf59329e371"
      },
      "id": "payF9z9WOO-V",
      "execution_count": 52,
      "outputs": [
        {
          "output_type": "stream",
          "name": "stdout",
          "text": [
            "Drive already mounted at /content/drive; to attempt to forcibly remount, call drive.mount(\"/content/drive\", force_remount=True).\n"
          ]
        }
      ]
    },
    {
      "cell_type": "code",
      "source": [
        "# %pwd\n",
        "%cd drive/MyDrive/storage"
      ],
      "metadata": {
        "id": "n50qffxnqrcf",
        "colab": {
          "base_uri": "https://localhost:8080/"
        },
        "outputId": "6b60ed55-2877-40e5-ac7d-7a0c14c52564"
      },
      "id": "n50qffxnqrcf",
      "execution_count": 53,
      "outputs": [
        {
          "output_type": "stream",
          "name": "stdout",
          "text": [
            "[Errno 2] No such file or directory: 'drive/MyDrive/storage'\n",
            "/content\n"
          ]
        }
      ]
    },
    {
      "cell_type": "code",
      "source": [
        "%pwd"
      ],
      "metadata": {
        "colab": {
          "base_uri": "https://localhost:8080/",
          "height": 35
        },
        "id": "MVlJvftqT2S3",
        "outputId": "f6a818a9-2fcd-4af8-e756-52a89710987a"
      },
      "id": "MVlJvftqT2S3",
      "execution_count": 54,
      "outputs": [
        {
          "output_type": "execute_result",
          "data": {
            "text/plain": [
              "'/content'"
            ],
            "application/vnd.google.colaboratory.intrinsic+json": {
              "type": "string"
            }
          },
          "metadata": {},
          "execution_count": 54
        }
      ]
    },
    {
      "cell_type": "code",
      "source": [
        "torch.save(model.state_dict(), 'bertfinal.pt')"
      ],
      "metadata": {
        "id": "G5godCoKn5Be"
      },
      "id": "G5godCoKn5Be",
      "execution_count": 55,
      "outputs": []
    },
    {
      "cell_type": "code",
      "source": [
        "loaded = BertRoBERTaClass()\n",
        "loaded.load_state_dict(torch.load('bertfinal.pt'))\n",
        "loaded.to(device)"
      ],
      "metadata": {
        "colab": {
          "base_uri": "https://localhost:8080/"
        },
        "id": "FnSwRJbNn9Vd",
        "outputId": "f193a5d3-4be4-48de-a7d4-7f8b972d4be9"
      },
      "id": "FnSwRJbNn9Vd",
      "execution_count": 57,
      "outputs": [
        {
          "output_type": "stream",
          "name": "stderr",
          "text": [
            "Some weights of RobertaModel were not initialized from the model checkpoint at roberta-base and are newly initialized: ['roberta.pooler.dense.bias', 'roberta.pooler.dense.weight']\n",
            "You should probably TRAIN this model on a down-stream task to be able to use it for predictions and inference.\n",
            "<ipython-input-57-e624cd06ceab>:2: FutureWarning: You are using `torch.load` with `weights_only=False` (the current default value), which uses the default pickle module implicitly. It is possible to construct malicious pickle data which will execute arbitrary code during unpickling (See https://github.com/pytorch/pytorch/blob/main/SECURITY.md#untrusted-models for more details). In a future release, the default value for `weights_only` will be flipped to `True`. This limits the functions that could be executed during unpickling. Arbitrary objects will no longer be allowed to be loaded via this mode unless they are explicitly allowlisted by the user via `torch.serialization.add_safe_globals`. We recommend you start setting `weights_only=True` for any use case where you don't have full control of the loaded file. Please open an issue on GitHub for any issues related to this experimental feature.\n",
            "  loaded.load_state_dict(torch.load('bertfinal.pt'))\n"
          ]
        },
        {
          "output_type": "execute_result",
          "data": {
            "text/plain": [
              "BertRoBERTaClass(\n",
              "  (bert_model): BertModel(\n",
              "    (embeddings): BertEmbeddings(\n",
              "      (word_embeddings): Embedding(30522, 768, padding_idx=0)\n",
              "      (position_embeddings): Embedding(512, 768)\n",
              "      (token_type_embeddings): Embedding(2, 768)\n",
              "      (LayerNorm): LayerNorm((768,), eps=1e-12, elementwise_affine=True)\n",
              "      (dropout): Dropout(p=0.1, inplace=False)\n",
              "    )\n",
              "    (encoder): BertEncoder(\n",
              "      (layer): ModuleList(\n",
              "        (0-11): 12 x BertLayer(\n",
              "          (attention): BertAttention(\n",
              "            (self): BertSdpaSelfAttention(\n",
              "              (query): Linear(in_features=768, out_features=768, bias=True)\n",
              "              (key): Linear(in_features=768, out_features=768, bias=True)\n",
              "              (value): Linear(in_features=768, out_features=768, bias=True)\n",
              "              (dropout): Dropout(p=0.1, inplace=False)\n",
              "            )\n",
              "            (output): BertSelfOutput(\n",
              "              (dense): Linear(in_features=768, out_features=768, bias=True)\n",
              "              (LayerNorm): LayerNorm((768,), eps=1e-12, elementwise_affine=True)\n",
              "              (dropout): Dropout(p=0.1, inplace=False)\n",
              "            )\n",
              "          )\n",
              "          (intermediate): BertIntermediate(\n",
              "            (dense): Linear(in_features=768, out_features=3072, bias=True)\n",
              "            (intermediate_act_fn): GELUActivation()\n",
              "          )\n",
              "          (output): BertOutput(\n",
              "            (dense): Linear(in_features=3072, out_features=768, bias=True)\n",
              "            (LayerNorm): LayerNorm((768,), eps=1e-12, elementwise_affine=True)\n",
              "            (dropout): Dropout(p=0.1, inplace=False)\n",
              "          )\n",
              "        )\n",
              "      )\n",
              "    )\n",
              "    (pooler): BertPooler(\n",
              "      (dense): Linear(in_features=768, out_features=768, bias=True)\n",
              "      (activation): Tanh()\n",
              "    )\n",
              "  )\n",
              "  (roberta_model): RobertaModel(\n",
              "    (embeddings): RobertaEmbeddings(\n",
              "      (word_embeddings): Embedding(50265, 768, padding_idx=1)\n",
              "      (position_embeddings): Embedding(514, 768, padding_idx=1)\n",
              "      (token_type_embeddings): Embedding(1, 768)\n",
              "      (LayerNorm): LayerNorm((768,), eps=1e-05, elementwise_affine=True)\n",
              "      (dropout): Dropout(p=0.1, inplace=False)\n",
              "    )\n",
              "    (encoder): RobertaEncoder(\n",
              "      (layer): ModuleList(\n",
              "        (0-11): 12 x RobertaLayer(\n",
              "          (attention): RobertaAttention(\n",
              "            (self): RobertaSdpaSelfAttention(\n",
              "              (query): Linear(in_features=768, out_features=768, bias=True)\n",
              "              (key): Linear(in_features=768, out_features=768, bias=True)\n",
              "              (value): Linear(in_features=768, out_features=768, bias=True)\n",
              "              (dropout): Dropout(p=0.1, inplace=False)\n",
              "            )\n",
              "            (output): RobertaSelfOutput(\n",
              "              (dense): Linear(in_features=768, out_features=768, bias=True)\n",
              "              (LayerNorm): LayerNorm((768,), eps=1e-05, elementwise_affine=True)\n",
              "              (dropout): Dropout(p=0.1, inplace=False)\n",
              "            )\n",
              "          )\n",
              "          (intermediate): RobertaIntermediate(\n",
              "            (dense): Linear(in_features=768, out_features=3072, bias=True)\n",
              "            (intermediate_act_fn): GELUActivation()\n",
              "          )\n",
              "          (output): RobertaOutput(\n",
              "            (dense): Linear(in_features=3072, out_features=768, bias=True)\n",
              "            (LayerNorm): LayerNorm((768,), eps=1e-05, elementwise_affine=True)\n",
              "            (dropout): Dropout(p=0.1, inplace=False)\n",
              "          )\n",
              "        )\n",
              "      )\n",
              "    )\n",
              "    (pooler): RobertaPooler(\n",
              "      (dense): Linear(in_features=768, out_features=768, bias=True)\n",
              "      (activation): Tanh()\n",
              "    )\n",
              "  )\n",
              "  (attention): DynamicAttention(\n",
              "    (linear1): Linear(in_features=768, out_features=768, bias=True)\n",
              "    (linear2): Linear(in_features=768, out_features=1, bias=True)\n",
              "  )\n",
              "  (pre_classifier): Linear(in_features=768, out_features=768, bias=True)\n",
              "  (dropout): Dropout(p=0.3, inplace=False)\n",
              "  (classifier): Linear(in_features=768, out_features=6, bias=True)\n",
              ")"
            ]
          },
          "metadata": {},
          "execution_count": 57
        }
      ]
    },
    {
      "cell_type": "code",
      "source": [
        "outputs = loaded(input_ids = inputs, attention_mask = mask, token_type_ids = token_type_ids)"
      ],
      "metadata": {
        "id": "c9NBetZmoA0A"
      },
      "id": "c9NBetZmoA0A",
      "execution_count": 59,
      "outputs": []
    },
    {
      "cell_type": "code",
      "source": [
        "outputs"
      ],
      "metadata": {
        "id": "svVspYGkoS_k",
        "colab": {
          "base_uri": "https://localhost:8080/"
        },
        "outputId": "26cd4ced-df24-493c-c1fe-b4b7dcbbaade"
      },
      "id": "svVspYGkoS_k",
      "execution_count": 60,
      "outputs": [
        {
          "output_type": "execute_result",
          "data": {
            "text/plain": [
              "tensor([[-2.0385, -2.3785, -1.8426, -0.7531, -0.2322,  5.7123],\n",
              "        [-2.0061, -1.1850, -1.2047, -1.5133, -0.7489,  5.4420],\n",
              "        [-2.4409, -1.3400, -2.2433, -0.6271,  4.8159, -0.9352],\n",
              "        [-1.8496, -2.5035, -1.0268, -1.3290, -0.9345,  5.5805],\n",
              "        [-1.5635, -2.2700, -1.2553, -2.2584,  0.5816,  5.2755],\n",
              "        [-2.4420, -1.6718, -1.0983, -1.3458, -0.3593,  5.3621],\n",
              "        [-1.3176, -1.7685, -1.8132, -1.1490, -0.7010,  4.9460],\n",
              "        [-2.1173, -0.8317, -1.7113, -0.7044,  4.8559, -1.4415],\n",
              "        [-2.6634, -1.6208, -1.1888, -0.4047, -0.9200,  4.8619],\n",
              "        [-2.2165, -1.3847, -1.8341, -0.9405,  4.8354, -1.0807],\n",
              "        [-1.9550, -2.1726, -1.9185, -0.5688, -1.3047,  5.5950]],\n",
              "       device='cuda:0', grad_fn=<AddmmBackward0>)"
            ]
          },
          "metadata": {},
          "execution_count": 60
        }
      ]
    },
    {
      "cell_type": "code",
      "source": [],
      "metadata": {
        "id": "CtHCYBOtn9bc"
      },
      "id": "CtHCYBOtn9bc",
      "execution_count": null,
      "outputs": []
    }
  ],
  "metadata": {
    "kernelspec": {
      "display_name": "Python 3 (ipykernel)",
      "language": "python",
      "name": "python3"
    },
    "language_info": {
      "codemirror_mode": {
        "name": "ipython",
        "version": 3
      },
      "file_extension": ".py",
      "mimetype": "text/x-python",
      "name": "python",
      "nbconvert_exporter": "python",
      "pygments_lexer": "ipython3",
      "version": "3.11.1"
    },
    "colab": {
      "provenance": []
    },
    "accelerator": "GPU",
    "gpuClass": "standard",
    "widgets": {
      "application/vnd.jupyter.widget-state+json": {
        "9ee0b8490e964f32837b90e3e416bab5": {
          "model_module": "@jupyter-widgets/controls",
          "model_name": "HBoxModel",
          "model_module_version": "1.5.0",
          "state": {
            "_dom_classes": [],
            "_model_module": "@jupyter-widgets/controls",
            "_model_module_version": "1.5.0",
            "_model_name": "HBoxModel",
            "_view_count": null,
            "_view_module": "@jupyter-widgets/controls",
            "_view_module_version": "1.5.0",
            "_view_name": "HBoxView",
            "box_style": "",
            "children": [
              "IPY_MODEL_fecbfcfba05742ea943d17e98e935633",
              "IPY_MODEL_fe513d66433a47b790b1582667c6b70a",
              "IPY_MODEL_72c38714837842879e899c8b115979e8"
            ],
            "layout": "IPY_MODEL_657d319c6cdb4b749241e5696b78a727"
          }
        },
        "fecbfcfba05742ea943d17e98e935633": {
          "model_module": "@jupyter-widgets/controls",
          "model_name": "HTMLModel",
          "model_module_version": "1.5.0",
          "state": {
            "_dom_classes": [],
            "_model_module": "@jupyter-widgets/controls",
            "_model_module_version": "1.5.0",
            "_model_name": "HTMLModel",
            "_view_count": null,
            "_view_module": "@jupyter-widgets/controls",
            "_view_module_version": "1.5.0",
            "_view_name": "HTMLView",
            "description": "",
            "description_tooltip": null,
            "layout": "IPY_MODEL_4626b98432e64b86b65eea0b710c17f1",
            "placeholder": "​",
            "style": "IPY_MODEL_0d2578d349ab4320bf4310e5048733d5",
            "value": "tokenizer_config.json: 100%"
          }
        },
        "fe513d66433a47b790b1582667c6b70a": {
          "model_module": "@jupyter-widgets/controls",
          "model_name": "FloatProgressModel",
          "model_module_version": "1.5.0",
          "state": {
            "_dom_classes": [],
            "_model_module": "@jupyter-widgets/controls",
            "_model_module_version": "1.5.0",
            "_model_name": "FloatProgressModel",
            "_view_count": null,
            "_view_module": "@jupyter-widgets/controls",
            "_view_module_version": "1.5.0",
            "_view_name": "ProgressView",
            "bar_style": "success",
            "description": "",
            "description_tooltip": null,
            "layout": "IPY_MODEL_dc21e472261f4d5bb4bf699505deea5d",
            "max": 48,
            "min": 0,
            "orientation": "horizontal",
            "style": "IPY_MODEL_f9e8c45459424b27bbf34fef5ce7e2ec",
            "value": 48
          }
        },
        "72c38714837842879e899c8b115979e8": {
          "model_module": "@jupyter-widgets/controls",
          "model_name": "HTMLModel",
          "model_module_version": "1.5.0",
          "state": {
            "_dom_classes": [],
            "_model_module": "@jupyter-widgets/controls",
            "_model_module_version": "1.5.0",
            "_model_name": "HTMLModel",
            "_view_count": null,
            "_view_module": "@jupyter-widgets/controls",
            "_view_module_version": "1.5.0",
            "_view_name": "HTMLView",
            "description": "",
            "description_tooltip": null,
            "layout": "IPY_MODEL_cd78f1da9b3d458aad8831fd3a993c6b",
            "placeholder": "​",
            "style": "IPY_MODEL_8fc8893747004ad18678cc999f6590a2",
            "value": " 48.0/48.0 [00:00&lt;00:00, 679B/s]"
          }
        },
        "657d319c6cdb4b749241e5696b78a727": {
          "model_module": "@jupyter-widgets/base",
          "model_name": "LayoutModel",
          "model_module_version": "1.2.0",
          "state": {
            "_model_module": "@jupyter-widgets/base",
            "_model_module_version": "1.2.0",
            "_model_name": "LayoutModel",
            "_view_count": null,
            "_view_module": "@jupyter-widgets/base",
            "_view_module_version": "1.2.0",
            "_view_name": "LayoutView",
            "align_content": null,
            "align_items": null,
            "align_self": null,
            "border": null,
            "bottom": null,
            "display": null,
            "flex": null,
            "flex_flow": null,
            "grid_area": null,
            "grid_auto_columns": null,
            "grid_auto_flow": null,
            "grid_auto_rows": null,
            "grid_column": null,
            "grid_gap": null,
            "grid_row": null,
            "grid_template_areas": null,
            "grid_template_columns": null,
            "grid_template_rows": null,
            "height": null,
            "justify_content": null,
            "justify_items": null,
            "left": null,
            "margin": null,
            "max_height": null,
            "max_width": null,
            "min_height": null,
            "min_width": null,
            "object_fit": null,
            "object_position": null,
            "order": null,
            "overflow": null,
            "overflow_x": null,
            "overflow_y": null,
            "padding": null,
            "right": null,
            "top": null,
            "visibility": null,
            "width": null
          }
        },
        "4626b98432e64b86b65eea0b710c17f1": {
          "model_module": "@jupyter-widgets/base",
          "model_name": "LayoutModel",
          "model_module_version": "1.2.0",
          "state": {
            "_model_module": "@jupyter-widgets/base",
            "_model_module_version": "1.2.0",
            "_model_name": "LayoutModel",
            "_view_count": null,
            "_view_module": "@jupyter-widgets/base",
            "_view_module_version": "1.2.0",
            "_view_name": "LayoutView",
            "align_content": null,
            "align_items": null,
            "align_self": null,
            "border": null,
            "bottom": null,
            "display": null,
            "flex": null,
            "flex_flow": null,
            "grid_area": null,
            "grid_auto_columns": null,
            "grid_auto_flow": null,
            "grid_auto_rows": null,
            "grid_column": null,
            "grid_gap": null,
            "grid_row": null,
            "grid_template_areas": null,
            "grid_template_columns": null,
            "grid_template_rows": null,
            "height": null,
            "justify_content": null,
            "justify_items": null,
            "left": null,
            "margin": null,
            "max_height": null,
            "max_width": null,
            "min_height": null,
            "min_width": null,
            "object_fit": null,
            "object_position": null,
            "order": null,
            "overflow": null,
            "overflow_x": null,
            "overflow_y": null,
            "padding": null,
            "right": null,
            "top": null,
            "visibility": null,
            "width": null
          }
        },
        "0d2578d349ab4320bf4310e5048733d5": {
          "model_module": "@jupyter-widgets/controls",
          "model_name": "DescriptionStyleModel",
          "model_module_version": "1.5.0",
          "state": {
            "_model_module": "@jupyter-widgets/controls",
            "_model_module_version": "1.5.0",
            "_model_name": "DescriptionStyleModel",
            "_view_count": null,
            "_view_module": "@jupyter-widgets/base",
            "_view_module_version": "1.2.0",
            "_view_name": "StyleView",
            "description_width": ""
          }
        },
        "dc21e472261f4d5bb4bf699505deea5d": {
          "model_module": "@jupyter-widgets/base",
          "model_name": "LayoutModel",
          "model_module_version": "1.2.0",
          "state": {
            "_model_module": "@jupyter-widgets/base",
            "_model_module_version": "1.2.0",
            "_model_name": "LayoutModel",
            "_view_count": null,
            "_view_module": "@jupyter-widgets/base",
            "_view_module_version": "1.2.0",
            "_view_name": "LayoutView",
            "align_content": null,
            "align_items": null,
            "align_self": null,
            "border": null,
            "bottom": null,
            "display": null,
            "flex": null,
            "flex_flow": null,
            "grid_area": null,
            "grid_auto_columns": null,
            "grid_auto_flow": null,
            "grid_auto_rows": null,
            "grid_column": null,
            "grid_gap": null,
            "grid_row": null,
            "grid_template_areas": null,
            "grid_template_columns": null,
            "grid_template_rows": null,
            "height": null,
            "justify_content": null,
            "justify_items": null,
            "left": null,
            "margin": null,
            "max_height": null,
            "max_width": null,
            "min_height": null,
            "min_width": null,
            "object_fit": null,
            "object_position": null,
            "order": null,
            "overflow": null,
            "overflow_x": null,
            "overflow_y": null,
            "padding": null,
            "right": null,
            "top": null,
            "visibility": null,
            "width": null
          }
        },
        "f9e8c45459424b27bbf34fef5ce7e2ec": {
          "model_module": "@jupyter-widgets/controls",
          "model_name": "ProgressStyleModel",
          "model_module_version": "1.5.0",
          "state": {
            "_model_module": "@jupyter-widgets/controls",
            "_model_module_version": "1.5.0",
            "_model_name": "ProgressStyleModel",
            "_view_count": null,
            "_view_module": "@jupyter-widgets/base",
            "_view_module_version": "1.2.0",
            "_view_name": "StyleView",
            "bar_color": null,
            "description_width": ""
          }
        },
        "cd78f1da9b3d458aad8831fd3a993c6b": {
          "model_module": "@jupyter-widgets/base",
          "model_name": "LayoutModel",
          "model_module_version": "1.2.0",
          "state": {
            "_model_module": "@jupyter-widgets/base",
            "_model_module_version": "1.2.0",
            "_model_name": "LayoutModel",
            "_view_count": null,
            "_view_module": "@jupyter-widgets/base",
            "_view_module_version": "1.2.0",
            "_view_name": "LayoutView",
            "align_content": null,
            "align_items": null,
            "align_self": null,
            "border": null,
            "bottom": null,
            "display": null,
            "flex": null,
            "flex_flow": null,
            "grid_area": null,
            "grid_auto_columns": null,
            "grid_auto_flow": null,
            "grid_auto_rows": null,
            "grid_column": null,
            "grid_gap": null,
            "grid_row": null,
            "grid_template_areas": null,
            "grid_template_columns": null,
            "grid_template_rows": null,
            "height": null,
            "justify_content": null,
            "justify_items": null,
            "left": null,
            "margin": null,
            "max_height": null,
            "max_width": null,
            "min_height": null,
            "min_width": null,
            "object_fit": null,
            "object_position": null,
            "order": null,
            "overflow": null,
            "overflow_x": null,
            "overflow_y": null,
            "padding": null,
            "right": null,
            "top": null,
            "visibility": null,
            "width": null
          }
        },
        "8fc8893747004ad18678cc999f6590a2": {
          "model_module": "@jupyter-widgets/controls",
          "model_name": "DescriptionStyleModel",
          "model_module_version": "1.5.0",
          "state": {
            "_model_module": "@jupyter-widgets/controls",
            "_model_module_version": "1.5.0",
            "_model_name": "DescriptionStyleModel",
            "_view_count": null,
            "_view_module": "@jupyter-widgets/base",
            "_view_module_version": "1.2.0",
            "_view_name": "StyleView",
            "description_width": ""
          }
        },
        "613346e250264ebbbc271f3862a0984e": {
          "model_module": "@jupyter-widgets/controls",
          "model_name": "HBoxModel",
          "model_module_version": "1.5.0",
          "state": {
            "_dom_classes": [],
            "_model_module": "@jupyter-widgets/controls",
            "_model_module_version": "1.5.0",
            "_model_name": "HBoxModel",
            "_view_count": null,
            "_view_module": "@jupyter-widgets/controls",
            "_view_module_version": "1.5.0",
            "_view_name": "HBoxView",
            "box_style": "",
            "children": [
              "IPY_MODEL_22e995c752f44575985a309885c2936e",
              "IPY_MODEL_e818d373123f428bb98b622d19f9eaf1",
              "IPY_MODEL_c9a3b7ca3740455ab32b548e090ae005"
            ],
            "layout": "IPY_MODEL_62f69aca588045d6a609c286a5cbc451"
          }
        },
        "22e995c752f44575985a309885c2936e": {
          "model_module": "@jupyter-widgets/controls",
          "model_name": "HTMLModel",
          "model_module_version": "1.5.0",
          "state": {
            "_dom_classes": [],
            "_model_module": "@jupyter-widgets/controls",
            "_model_module_version": "1.5.0",
            "_model_name": "HTMLModel",
            "_view_count": null,
            "_view_module": "@jupyter-widgets/controls",
            "_view_module_version": "1.5.0",
            "_view_name": "HTMLView",
            "description": "",
            "description_tooltip": null,
            "layout": "IPY_MODEL_c585c7c579944f7aaebc17939ca94f20",
            "placeholder": "​",
            "style": "IPY_MODEL_2d0c5be9ca6f4f65923ddec3c4d4042a",
            "value": "vocab.txt: 100%"
          }
        },
        "e818d373123f428bb98b622d19f9eaf1": {
          "model_module": "@jupyter-widgets/controls",
          "model_name": "FloatProgressModel",
          "model_module_version": "1.5.0",
          "state": {
            "_dom_classes": [],
            "_model_module": "@jupyter-widgets/controls",
            "_model_module_version": "1.5.0",
            "_model_name": "FloatProgressModel",
            "_view_count": null,
            "_view_module": "@jupyter-widgets/controls",
            "_view_module_version": "1.5.0",
            "_view_name": "ProgressView",
            "bar_style": "success",
            "description": "",
            "description_tooltip": null,
            "layout": "IPY_MODEL_d521786c2cd3425ca9e8850e0c8b9d25",
            "max": 231508,
            "min": 0,
            "orientation": "horizontal",
            "style": "IPY_MODEL_4914533dba52455881c70c08e83d924c",
            "value": 231508
          }
        },
        "c9a3b7ca3740455ab32b548e090ae005": {
          "model_module": "@jupyter-widgets/controls",
          "model_name": "HTMLModel",
          "model_module_version": "1.5.0",
          "state": {
            "_dom_classes": [],
            "_model_module": "@jupyter-widgets/controls",
            "_model_module_version": "1.5.0",
            "_model_name": "HTMLModel",
            "_view_count": null,
            "_view_module": "@jupyter-widgets/controls",
            "_view_module_version": "1.5.0",
            "_view_name": "HTMLView",
            "description": "",
            "description_tooltip": null,
            "layout": "IPY_MODEL_4e8f4cd706274850903d261a79b9b499",
            "placeholder": "​",
            "style": "IPY_MODEL_d2fd9adf679b48fdafe493897b1ce3a6",
            "value": " 232k/232k [00:00&lt;00:00, 4.03MB/s]"
          }
        },
        "62f69aca588045d6a609c286a5cbc451": {
          "model_module": "@jupyter-widgets/base",
          "model_name": "LayoutModel",
          "model_module_version": "1.2.0",
          "state": {
            "_model_module": "@jupyter-widgets/base",
            "_model_module_version": "1.2.0",
            "_model_name": "LayoutModel",
            "_view_count": null,
            "_view_module": "@jupyter-widgets/base",
            "_view_module_version": "1.2.0",
            "_view_name": "LayoutView",
            "align_content": null,
            "align_items": null,
            "align_self": null,
            "border": null,
            "bottom": null,
            "display": null,
            "flex": null,
            "flex_flow": null,
            "grid_area": null,
            "grid_auto_columns": null,
            "grid_auto_flow": null,
            "grid_auto_rows": null,
            "grid_column": null,
            "grid_gap": null,
            "grid_row": null,
            "grid_template_areas": null,
            "grid_template_columns": null,
            "grid_template_rows": null,
            "height": null,
            "justify_content": null,
            "justify_items": null,
            "left": null,
            "margin": null,
            "max_height": null,
            "max_width": null,
            "min_height": null,
            "min_width": null,
            "object_fit": null,
            "object_position": null,
            "order": null,
            "overflow": null,
            "overflow_x": null,
            "overflow_y": null,
            "padding": null,
            "right": null,
            "top": null,
            "visibility": null,
            "width": null
          }
        },
        "c585c7c579944f7aaebc17939ca94f20": {
          "model_module": "@jupyter-widgets/base",
          "model_name": "LayoutModel",
          "model_module_version": "1.2.0",
          "state": {
            "_model_module": "@jupyter-widgets/base",
            "_model_module_version": "1.2.0",
            "_model_name": "LayoutModel",
            "_view_count": null,
            "_view_module": "@jupyter-widgets/base",
            "_view_module_version": "1.2.0",
            "_view_name": "LayoutView",
            "align_content": null,
            "align_items": null,
            "align_self": null,
            "border": null,
            "bottom": null,
            "display": null,
            "flex": null,
            "flex_flow": null,
            "grid_area": null,
            "grid_auto_columns": null,
            "grid_auto_flow": null,
            "grid_auto_rows": null,
            "grid_column": null,
            "grid_gap": null,
            "grid_row": null,
            "grid_template_areas": null,
            "grid_template_columns": null,
            "grid_template_rows": null,
            "height": null,
            "justify_content": null,
            "justify_items": null,
            "left": null,
            "margin": null,
            "max_height": null,
            "max_width": null,
            "min_height": null,
            "min_width": null,
            "object_fit": null,
            "object_position": null,
            "order": null,
            "overflow": null,
            "overflow_x": null,
            "overflow_y": null,
            "padding": null,
            "right": null,
            "top": null,
            "visibility": null,
            "width": null
          }
        },
        "2d0c5be9ca6f4f65923ddec3c4d4042a": {
          "model_module": "@jupyter-widgets/controls",
          "model_name": "DescriptionStyleModel",
          "model_module_version": "1.5.0",
          "state": {
            "_model_module": "@jupyter-widgets/controls",
            "_model_module_version": "1.5.0",
            "_model_name": "DescriptionStyleModel",
            "_view_count": null,
            "_view_module": "@jupyter-widgets/base",
            "_view_module_version": "1.2.0",
            "_view_name": "StyleView",
            "description_width": ""
          }
        },
        "d521786c2cd3425ca9e8850e0c8b9d25": {
          "model_module": "@jupyter-widgets/base",
          "model_name": "LayoutModel",
          "model_module_version": "1.2.0",
          "state": {
            "_model_module": "@jupyter-widgets/base",
            "_model_module_version": "1.2.0",
            "_model_name": "LayoutModel",
            "_view_count": null,
            "_view_module": "@jupyter-widgets/base",
            "_view_module_version": "1.2.0",
            "_view_name": "LayoutView",
            "align_content": null,
            "align_items": null,
            "align_self": null,
            "border": null,
            "bottom": null,
            "display": null,
            "flex": null,
            "flex_flow": null,
            "grid_area": null,
            "grid_auto_columns": null,
            "grid_auto_flow": null,
            "grid_auto_rows": null,
            "grid_column": null,
            "grid_gap": null,
            "grid_row": null,
            "grid_template_areas": null,
            "grid_template_columns": null,
            "grid_template_rows": null,
            "height": null,
            "justify_content": null,
            "justify_items": null,
            "left": null,
            "margin": null,
            "max_height": null,
            "max_width": null,
            "min_height": null,
            "min_width": null,
            "object_fit": null,
            "object_position": null,
            "order": null,
            "overflow": null,
            "overflow_x": null,
            "overflow_y": null,
            "padding": null,
            "right": null,
            "top": null,
            "visibility": null,
            "width": null
          }
        },
        "4914533dba52455881c70c08e83d924c": {
          "model_module": "@jupyter-widgets/controls",
          "model_name": "ProgressStyleModel",
          "model_module_version": "1.5.0",
          "state": {
            "_model_module": "@jupyter-widgets/controls",
            "_model_module_version": "1.5.0",
            "_model_name": "ProgressStyleModel",
            "_view_count": null,
            "_view_module": "@jupyter-widgets/base",
            "_view_module_version": "1.2.0",
            "_view_name": "StyleView",
            "bar_color": null,
            "description_width": ""
          }
        },
        "4e8f4cd706274850903d261a79b9b499": {
          "model_module": "@jupyter-widgets/base",
          "model_name": "LayoutModel",
          "model_module_version": "1.2.0",
          "state": {
            "_model_module": "@jupyter-widgets/base",
            "_model_module_version": "1.2.0",
            "_model_name": "LayoutModel",
            "_view_count": null,
            "_view_module": "@jupyter-widgets/base",
            "_view_module_version": "1.2.0",
            "_view_name": "LayoutView",
            "align_content": null,
            "align_items": null,
            "align_self": null,
            "border": null,
            "bottom": null,
            "display": null,
            "flex": null,
            "flex_flow": null,
            "grid_area": null,
            "grid_auto_columns": null,
            "grid_auto_flow": null,
            "grid_auto_rows": null,
            "grid_column": null,
            "grid_gap": null,
            "grid_row": null,
            "grid_template_areas": null,
            "grid_template_columns": null,
            "grid_template_rows": null,
            "height": null,
            "justify_content": null,
            "justify_items": null,
            "left": null,
            "margin": null,
            "max_height": null,
            "max_width": null,
            "min_height": null,
            "min_width": null,
            "object_fit": null,
            "object_position": null,
            "order": null,
            "overflow": null,
            "overflow_x": null,
            "overflow_y": null,
            "padding": null,
            "right": null,
            "top": null,
            "visibility": null,
            "width": null
          }
        },
        "d2fd9adf679b48fdafe493897b1ce3a6": {
          "model_module": "@jupyter-widgets/controls",
          "model_name": "DescriptionStyleModel",
          "model_module_version": "1.5.0",
          "state": {
            "_model_module": "@jupyter-widgets/controls",
            "_model_module_version": "1.5.0",
            "_model_name": "DescriptionStyleModel",
            "_view_count": null,
            "_view_module": "@jupyter-widgets/base",
            "_view_module_version": "1.2.0",
            "_view_name": "StyleView",
            "description_width": ""
          }
        },
        "8eacdaefb1354320af23e06cfb5252e4": {
          "model_module": "@jupyter-widgets/controls",
          "model_name": "HBoxModel",
          "model_module_version": "1.5.0",
          "state": {
            "_dom_classes": [],
            "_model_module": "@jupyter-widgets/controls",
            "_model_module_version": "1.5.0",
            "_model_name": "HBoxModel",
            "_view_count": null,
            "_view_module": "@jupyter-widgets/controls",
            "_view_module_version": "1.5.0",
            "_view_name": "HBoxView",
            "box_style": "",
            "children": [
              "IPY_MODEL_0b0fb1cd64d94d178d9753c8a1c2307c",
              "IPY_MODEL_0781d3167b754f7281e0c36cb9b7dcb0",
              "IPY_MODEL_8807261c996f41ed8b6e63c10332157f"
            ],
            "layout": "IPY_MODEL_de6669a0fb5b47f5a215d8f36a054a8a"
          }
        },
        "0b0fb1cd64d94d178d9753c8a1c2307c": {
          "model_module": "@jupyter-widgets/controls",
          "model_name": "HTMLModel",
          "model_module_version": "1.5.0",
          "state": {
            "_dom_classes": [],
            "_model_module": "@jupyter-widgets/controls",
            "_model_module_version": "1.5.0",
            "_model_name": "HTMLModel",
            "_view_count": null,
            "_view_module": "@jupyter-widgets/controls",
            "_view_module_version": "1.5.0",
            "_view_name": "HTMLView",
            "description": "",
            "description_tooltip": null,
            "layout": "IPY_MODEL_be29611dc8d04f46bf8ee4ea41ce39db",
            "placeholder": "​",
            "style": "IPY_MODEL_8e7512cf93764b02a7324fc6553ea9ef",
            "value": "tokenizer.json: 100%"
          }
        },
        "0781d3167b754f7281e0c36cb9b7dcb0": {
          "model_module": "@jupyter-widgets/controls",
          "model_name": "FloatProgressModel",
          "model_module_version": "1.5.0",
          "state": {
            "_dom_classes": [],
            "_model_module": "@jupyter-widgets/controls",
            "_model_module_version": "1.5.0",
            "_model_name": "FloatProgressModel",
            "_view_count": null,
            "_view_module": "@jupyter-widgets/controls",
            "_view_module_version": "1.5.0",
            "_view_name": "ProgressView",
            "bar_style": "success",
            "description": "",
            "description_tooltip": null,
            "layout": "IPY_MODEL_11cecdd7eed14b019f07bbe3a48d2854",
            "max": 466062,
            "min": 0,
            "orientation": "horizontal",
            "style": "IPY_MODEL_96d770fdc7aa42d2b93c61e30db96709",
            "value": 466062
          }
        },
        "8807261c996f41ed8b6e63c10332157f": {
          "model_module": "@jupyter-widgets/controls",
          "model_name": "HTMLModel",
          "model_module_version": "1.5.0",
          "state": {
            "_dom_classes": [],
            "_model_module": "@jupyter-widgets/controls",
            "_model_module_version": "1.5.0",
            "_model_name": "HTMLModel",
            "_view_count": null,
            "_view_module": "@jupyter-widgets/controls",
            "_view_module_version": "1.5.0",
            "_view_name": "HTMLView",
            "description": "",
            "description_tooltip": null,
            "layout": "IPY_MODEL_083e676d5ec441a194bd03f6d35214af",
            "placeholder": "​",
            "style": "IPY_MODEL_07eeb61246324c3eafe897f110a96c2b",
            "value": " 466k/466k [00:00&lt;00:00, 2.83MB/s]"
          }
        },
        "de6669a0fb5b47f5a215d8f36a054a8a": {
          "model_module": "@jupyter-widgets/base",
          "model_name": "LayoutModel",
          "model_module_version": "1.2.0",
          "state": {
            "_model_module": "@jupyter-widgets/base",
            "_model_module_version": "1.2.0",
            "_model_name": "LayoutModel",
            "_view_count": null,
            "_view_module": "@jupyter-widgets/base",
            "_view_module_version": "1.2.0",
            "_view_name": "LayoutView",
            "align_content": null,
            "align_items": null,
            "align_self": null,
            "border": null,
            "bottom": null,
            "display": null,
            "flex": null,
            "flex_flow": null,
            "grid_area": null,
            "grid_auto_columns": null,
            "grid_auto_flow": null,
            "grid_auto_rows": null,
            "grid_column": null,
            "grid_gap": null,
            "grid_row": null,
            "grid_template_areas": null,
            "grid_template_columns": null,
            "grid_template_rows": null,
            "height": null,
            "justify_content": null,
            "justify_items": null,
            "left": null,
            "margin": null,
            "max_height": null,
            "max_width": null,
            "min_height": null,
            "min_width": null,
            "object_fit": null,
            "object_position": null,
            "order": null,
            "overflow": null,
            "overflow_x": null,
            "overflow_y": null,
            "padding": null,
            "right": null,
            "top": null,
            "visibility": null,
            "width": null
          }
        },
        "be29611dc8d04f46bf8ee4ea41ce39db": {
          "model_module": "@jupyter-widgets/base",
          "model_name": "LayoutModel",
          "model_module_version": "1.2.0",
          "state": {
            "_model_module": "@jupyter-widgets/base",
            "_model_module_version": "1.2.0",
            "_model_name": "LayoutModel",
            "_view_count": null,
            "_view_module": "@jupyter-widgets/base",
            "_view_module_version": "1.2.0",
            "_view_name": "LayoutView",
            "align_content": null,
            "align_items": null,
            "align_self": null,
            "border": null,
            "bottom": null,
            "display": null,
            "flex": null,
            "flex_flow": null,
            "grid_area": null,
            "grid_auto_columns": null,
            "grid_auto_flow": null,
            "grid_auto_rows": null,
            "grid_column": null,
            "grid_gap": null,
            "grid_row": null,
            "grid_template_areas": null,
            "grid_template_columns": null,
            "grid_template_rows": null,
            "height": null,
            "justify_content": null,
            "justify_items": null,
            "left": null,
            "margin": null,
            "max_height": null,
            "max_width": null,
            "min_height": null,
            "min_width": null,
            "object_fit": null,
            "object_position": null,
            "order": null,
            "overflow": null,
            "overflow_x": null,
            "overflow_y": null,
            "padding": null,
            "right": null,
            "top": null,
            "visibility": null,
            "width": null
          }
        },
        "8e7512cf93764b02a7324fc6553ea9ef": {
          "model_module": "@jupyter-widgets/controls",
          "model_name": "DescriptionStyleModel",
          "model_module_version": "1.5.0",
          "state": {
            "_model_module": "@jupyter-widgets/controls",
            "_model_module_version": "1.5.0",
            "_model_name": "DescriptionStyleModel",
            "_view_count": null,
            "_view_module": "@jupyter-widgets/base",
            "_view_module_version": "1.2.0",
            "_view_name": "StyleView",
            "description_width": ""
          }
        },
        "11cecdd7eed14b019f07bbe3a48d2854": {
          "model_module": "@jupyter-widgets/base",
          "model_name": "LayoutModel",
          "model_module_version": "1.2.0",
          "state": {
            "_model_module": "@jupyter-widgets/base",
            "_model_module_version": "1.2.0",
            "_model_name": "LayoutModel",
            "_view_count": null,
            "_view_module": "@jupyter-widgets/base",
            "_view_module_version": "1.2.0",
            "_view_name": "LayoutView",
            "align_content": null,
            "align_items": null,
            "align_self": null,
            "border": null,
            "bottom": null,
            "display": null,
            "flex": null,
            "flex_flow": null,
            "grid_area": null,
            "grid_auto_columns": null,
            "grid_auto_flow": null,
            "grid_auto_rows": null,
            "grid_column": null,
            "grid_gap": null,
            "grid_row": null,
            "grid_template_areas": null,
            "grid_template_columns": null,
            "grid_template_rows": null,
            "height": null,
            "justify_content": null,
            "justify_items": null,
            "left": null,
            "margin": null,
            "max_height": null,
            "max_width": null,
            "min_height": null,
            "min_width": null,
            "object_fit": null,
            "object_position": null,
            "order": null,
            "overflow": null,
            "overflow_x": null,
            "overflow_y": null,
            "padding": null,
            "right": null,
            "top": null,
            "visibility": null,
            "width": null
          }
        },
        "96d770fdc7aa42d2b93c61e30db96709": {
          "model_module": "@jupyter-widgets/controls",
          "model_name": "ProgressStyleModel",
          "model_module_version": "1.5.0",
          "state": {
            "_model_module": "@jupyter-widgets/controls",
            "_model_module_version": "1.5.0",
            "_model_name": "ProgressStyleModel",
            "_view_count": null,
            "_view_module": "@jupyter-widgets/base",
            "_view_module_version": "1.2.0",
            "_view_name": "StyleView",
            "bar_color": null,
            "description_width": ""
          }
        },
        "083e676d5ec441a194bd03f6d35214af": {
          "model_module": "@jupyter-widgets/base",
          "model_name": "LayoutModel",
          "model_module_version": "1.2.0",
          "state": {
            "_model_module": "@jupyter-widgets/base",
            "_model_module_version": "1.2.0",
            "_model_name": "LayoutModel",
            "_view_count": null,
            "_view_module": "@jupyter-widgets/base",
            "_view_module_version": "1.2.0",
            "_view_name": "LayoutView",
            "align_content": null,
            "align_items": null,
            "align_self": null,
            "border": null,
            "bottom": null,
            "display": null,
            "flex": null,
            "flex_flow": null,
            "grid_area": null,
            "grid_auto_columns": null,
            "grid_auto_flow": null,
            "grid_auto_rows": null,
            "grid_column": null,
            "grid_gap": null,
            "grid_row": null,
            "grid_template_areas": null,
            "grid_template_columns": null,
            "grid_template_rows": null,
            "height": null,
            "justify_content": null,
            "justify_items": null,
            "left": null,
            "margin": null,
            "max_height": null,
            "max_width": null,
            "min_height": null,
            "min_width": null,
            "object_fit": null,
            "object_position": null,
            "order": null,
            "overflow": null,
            "overflow_x": null,
            "overflow_y": null,
            "padding": null,
            "right": null,
            "top": null,
            "visibility": null,
            "width": null
          }
        },
        "07eeb61246324c3eafe897f110a96c2b": {
          "model_module": "@jupyter-widgets/controls",
          "model_name": "DescriptionStyleModel",
          "model_module_version": "1.5.0",
          "state": {
            "_model_module": "@jupyter-widgets/controls",
            "_model_module_version": "1.5.0",
            "_model_name": "DescriptionStyleModel",
            "_view_count": null,
            "_view_module": "@jupyter-widgets/base",
            "_view_module_version": "1.2.0",
            "_view_name": "StyleView",
            "description_width": ""
          }
        },
        "81cd7619532243aa99a3549ff88c6be5": {
          "model_module": "@jupyter-widgets/controls",
          "model_name": "HBoxModel",
          "model_module_version": "1.5.0",
          "state": {
            "_dom_classes": [],
            "_model_module": "@jupyter-widgets/controls",
            "_model_module_version": "1.5.0",
            "_model_name": "HBoxModel",
            "_view_count": null,
            "_view_module": "@jupyter-widgets/controls",
            "_view_module_version": "1.5.0",
            "_view_name": "HBoxView",
            "box_style": "",
            "children": [
              "IPY_MODEL_db1fd1cf768e467fa8fff877fe802b24",
              "IPY_MODEL_05549005cbe94cab95ccdc44738c57d1",
              "IPY_MODEL_4b894f5fd428432f94d91619e80b9418"
            ],
            "layout": "IPY_MODEL_20dd2064ad4c42b5bf6b60fd938d805d"
          }
        },
        "db1fd1cf768e467fa8fff877fe802b24": {
          "model_module": "@jupyter-widgets/controls",
          "model_name": "HTMLModel",
          "model_module_version": "1.5.0",
          "state": {
            "_dom_classes": [],
            "_model_module": "@jupyter-widgets/controls",
            "_model_module_version": "1.5.0",
            "_model_name": "HTMLModel",
            "_view_count": null,
            "_view_module": "@jupyter-widgets/controls",
            "_view_module_version": "1.5.0",
            "_view_name": "HTMLView",
            "description": "",
            "description_tooltip": null,
            "layout": "IPY_MODEL_cb27f0e5ab3d42388d7bd59332f8b783",
            "placeholder": "​",
            "style": "IPY_MODEL_e3ba5c2359fe4443a97f70bc413a1c91",
            "value": "config.json: 100%"
          }
        },
        "05549005cbe94cab95ccdc44738c57d1": {
          "model_module": "@jupyter-widgets/controls",
          "model_name": "FloatProgressModel",
          "model_module_version": "1.5.0",
          "state": {
            "_dom_classes": [],
            "_model_module": "@jupyter-widgets/controls",
            "_model_module_version": "1.5.0",
            "_model_name": "FloatProgressModel",
            "_view_count": null,
            "_view_module": "@jupyter-widgets/controls",
            "_view_module_version": "1.5.0",
            "_view_name": "ProgressView",
            "bar_style": "success",
            "description": "",
            "description_tooltip": null,
            "layout": "IPY_MODEL_6c1452715abd40df83c5a871ba92f9d0",
            "max": 570,
            "min": 0,
            "orientation": "horizontal",
            "style": "IPY_MODEL_2395c370fa2848c78c32e3f4e2168aa9",
            "value": 570
          }
        },
        "4b894f5fd428432f94d91619e80b9418": {
          "model_module": "@jupyter-widgets/controls",
          "model_name": "HTMLModel",
          "model_module_version": "1.5.0",
          "state": {
            "_dom_classes": [],
            "_model_module": "@jupyter-widgets/controls",
            "_model_module_version": "1.5.0",
            "_model_name": "HTMLModel",
            "_view_count": null,
            "_view_module": "@jupyter-widgets/controls",
            "_view_module_version": "1.5.0",
            "_view_name": "HTMLView",
            "description": "",
            "description_tooltip": null,
            "layout": "IPY_MODEL_7f5c84e638b14e5aa9543251517d7692",
            "placeholder": "​",
            "style": "IPY_MODEL_8bbf46ff4cc54524a45c777a9faa4adc",
            "value": " 570/570 [00:00&lt;00:00, 9.71kB/s]"
          }
        },
        "20dd2064ad4c42b5bf6b60fd938d805d": {
          "model_module": "@jupyter-widgets/base",
          "model_name": "LayoutModel",
          "model_module_version": "1.2.0",
          "state": {
            "_model_module": "@jupyter-widgets/base",
            "_model_module_version": "1.2.0",
            "_model_name": "LayoutModel",
            "_view_count": null,
            "_view_module": "@jupyter-widgets/base",
            "_view_module_version": "1.2.0",
            "_view_name": "LayoutView",
            "align_content": null,
            "align_items": null,
            "align_self": null,
            "border": null,
            "bottom": null,
            "display": null,
            "flex": null,
            "flex_flow": null,
            "grid_area": null,
            "grid_auto_columns": null,
            "grid_auto_flow": null,
            "grid_auto_rows": null,
            "grid_column": null,
            "grid_gap": null,
            "grid_row": null,
            "grid_template_areas": null,
            "grid_template_columns": null,
            "grid_template_rows": null,
            "height": null,
            "justify_content": null,
            "justify_items": null,
            "left": null,
            "margin": null,
            "max_height": null,
            "max_width": null,
            "min_height": null,
            "min_width": null,
            "object_fit": null,
            "object_position": null,
            "order": null,
            "overflow": null,
            "overflow_x": null,
            "overflow_y": null,
            "padding": null,
            "right": null,
            "top": null,
            "visibility": null,
            "width": null
          }
        },
        "cb27f0e5ab3d42388d7bd59332f8b783": {
          "model_module": "@jupyter-widgets/base",
          "model_name": "LayoutModel",
          "model_module_version": "1.2.0",
          "state": {
            "_model_module": "@jupyter-widgets/base",
            "_model_module_version": "1.2.0",
            "_model_name": "LayoutModel",
            "_view_count": null,
            "_view_module": "@jupyter-widgets/base",
            "_view_module_version": "1.2.0",
            "_view_name": "LayoutView",
            "align_content": null,
            "align_items": null,
            "align_self": null,
            "border": null,
            "bottom": null,
            "display": null,
            "flex": null,
            "flex_flow": null,
            "grid_area": null,
            "grid_auto_columns": null,
            "grid_auto_flow": null,
            "grid_auto_rows": null,
            "grid_column": null,
            "grid_gap": null,
            "grid_row": null,
            "grid_template_areas": null,
            "grid_template_columns": null,
            "grid_template_rows": null,
            "height": null,
            "justify_content": null,
            "justify_items": null,
            "left": null,
            "margin": null,
            "max_height": null,
            "max_width": null,
            "min_height": null,
            "min_width": null,
            "object_fit": null,
            "object_position": null,
            "order": null,
            "overflow": null,
            "overflow_x": null,
            "overflow_y": null,
            "padding": null,
            "right": null,
            "top": null,
            "visibility": null,
            "width": null
          }
        },
        "e3ba5c2359fe4443a97f70bc413a1c91": {
          "model_module": "@jupyter-widgets/controls",
          "model_name": "DescriptionStyleModel",
          "model_module_version": "1.5.0",
          "state": {
            "_model_module": "@jupyter-widgets/controls",
            "_model_module_version": "1.5.0",
            "_model_name": "DescriptionStyleModel",
            "_view_count": null,
            "_view_module": "@jupyter-widgets/base",
            "_view_module_version": "1.2.0",
            "_view_name": "StyleView",
            "description_width": ""
          }
        },
        "6c1452715abd40df83c5a871ba92f9d0": {
          "model_module": "@jupyter-widgets/base",
          "model_name": "LayoutModel",
          "model_module_version": "1.2.0",
          "state": {
            "_model_module": "@jupyter-widgets/base",
            "_model_module_version": "1.2.0",
            "_model_name": "LayoutModel",
            "_view_count": null,
            "_view_module": "@jupyter-widgets/base",
            "_view_module_version": "1.2.0",
            "_view_name": "LayoutView",
            "align_content": null,
            "align_items": null,
            "align_self": null,
            "border": null,
            "bottom": null,
            "display": null,
            "flex": null,
            "flex_flow": null,
            "grid_area": null,
            "grid_auto_columns": null,
            "grid_auto_flow": null,
            "grid_auto_rows": null,
            "grid_column": null,
            "grid_gap": null,
            "grid_row": null,
            "grid_template_areas": null,
            "grid_template_columns": null,
            "grid_template_rows": null,
            "height": null,
            "justify_content": null,
            "justify_items": null,
            "left": null,
            "margin": null,
            "max_height": null,
            "max_width": null,
            "min_height": null,
            "min_width": null,
            "object_fit": null,
            "object_position": null,
            "order": null,
            "overflow": null,
            "overflow_x": null,
            "overflow_y": null,
            "padding": null,
            "right": null,
            "top": null,
            "visibility": null,
            "width": null
          }
        },
        "2395c370fa2848c78c32e3f4e2168aa9": {
          "model_module": "@jupyter-widgets/controls",
          "model_name": "ProgressStyleModel",
          "model_module_version": "1.5.0",
          "state": {
            "_model_module": "@jupyter-widgets/controls",
            "_model_module_version": "1.5.0",
            "_model_name": "ProgressStyleModel",
            "_view_count": null,
            "_view_module": "@jupyter-widgets/base",
            "_view_module_version": "1.2.0",
            "_view_name": "StyleView",
            "bar_color": null,
            "description_width": ""
          }
        },
        "7f5c84e638b14e5aa9543251517d7692": {
          "model_module": "@jupyter-widgets/base",
          "model_name": "LayoutModel",
          "model_module_version": "1.2.0",
          "state": {
            "_model_module": "@jupyter-widgets/base",
            "_model_module_version": "1.2.0",
            "_model_name": "LayoutModel",
            "_view_count": null,
            "_view_module": "@jupyter-widgets/base",
            "_view_module_version": "1.2.0",
            "_view_name": "LayoutView",
            "align_content": null,
            "align_items": null,
            "align_self": null,
            "border": null,
            "bottom": null,
            "display": null,
            "flex": null,
            "flex_flow": null,
            "grid_area": null,
            "grid_auto_columns": null,
            "grid_auto_flow": null,
            "grid_auto_rows": null,
            "grid_column": null,
            "grid_gap": null,
            "grid_row": null,
            "grid_template_areas": null,
            "grid_template_columns": null,
            "grid_template_rows": null,
            "height": null,
            "justify_content": null,
            "justify_items": null,
            "left": null,
            "margin": null,
            "max_height": null,
            "max_width": null,
            "min_height": null,
            "min_width": null,
            "object_fit": null,
            "object_position": null,
            "order": null,
            "overflow": null,
            "overflow_x": null,
            "overflow_y": null,
            "padding": null,
            "right": null,
            "top": null,
            "visibility": null,
            "width": null
          }
        },
        "8bbf46ff4cc54524a45c777a9faa4adc": {
          "model_module": "@jupyter-widgets/controls",
          "model_name": "DescriptionStyleModel",
          "model_module_version": "1.5.0",
          "state": {
            "_model_module": "@jupyter-widgets/controls",
            "_model_module_version": "1.5.0",
            "_model_name": "DescriptionStyleModel",
            "_view_count": null,
            "_view_module": "@jupyter-widgets/base",
            "_view_module_version": "1.2.0",
            "_view_name": "StyleView",
            "description_width": ""
          }
        },
        "748b74080f904c6691762a6d9f154134": {
          "model_module": "@jupyter-widgets/controls",
          "model_name": "HBoxModel",
          "model_module_version": "1.5.0",
          "state": {
            "_dom_classes": [],
            "_model_module": "@jupyter-widgets/controls",
            "_model_module_version": "1.5.0",
            "_model_name": "HBoxModel",
            "_view_count": null,
            "_view_module": "@jupyter-widgets/controls",
            "_view_module_version": "1.5.0",
            "_view_name": "HBoxView",
            "box_style": "",
            "children": [
              "IPY_MODEL_3e4b57b6d14244119fef89d32421c38c",
              "IPY_MODEL_7955d2076adb4e47b61719b3e55d6552",
              "IPY_MODEL_9b7e15db8c234caea3c5dba38ff221bc"
            ],
            "layout": "IPY_MODEL_aba91d175d4e472d95e504cd9926d62b"
          }
        },
        "3e4b57b6d14244119fef89d32421c38c": {
          "model_module": "@jupyter-widgets/controls",
          "model_name": "HTMLModel",
          "model_module_version": "1.5.0",
          "state": {
            "_dom_classes": [],
            "_model_module": "@jupyter-widgets/controls",
            "_model_module_version": "1.5.0",
            "_model_name": "HTMLModel",
            "_view_count": null,
            "_view_module": "@jupyter-widgets/controls",
            "_view_module_version": "1.5.0",
            "_view_name": "HTMLView",
            "description": "",
            "description_tooltip": null,
            "layout": "IPY_MODEL_bca5376016994eef83be0d036659c0be",
            "placeholder": "​",
            "style": "IPY_MODEL_ca23b10674c048cda232631492aea708",
            "value": "model.safetensors: 100%"
          }
        },
        "7955d2076adb4e47b61719b3e55d6552": {
          "model_module": "@jupyter-widgets/controls",
          "model_name": "FloatProgressModel",
          "model_module_version": "1.5.0",
          "state": {
            "_dom_classes": [],
            "_model_module": "@jupyter-widgets/controls",
            "_model_module_version": "1.5.0",
            "_model_name": "FloatProgressModel",
            "_view_count": null,
            "_view_module": "@jupyter-widgets/controls",
            "_view_module_version": "1.5.0",
            "_view_name": "ProgressView",
            "bar_style": "success",
            "description": "",
            "description_tooltip": null,
            "layout": "IPY_MODEL_572513e4d64a4b549b81decd50493cf3",
            "max": 440449768,
            "min": 0,
            "orientation": "horizontal",
            "style": "IPY_MODEL_db8234275147423385494838f526b3c3",
            "value": 440449768
          }
        },
        "9b7e15db8c234caea3c5dba38ff221bc": {
          "model_module": "@jupyter-widgets/controls",
          "model_name": "HTMLModel",
          "model_module_version": "1.5.0",
          "state": {
            "_dom_classes": [],
            "_model_module": "@jupyter-widgets/controls",
            "_model_module_version": "1.5.0",
            "_model_name": "HTMLModel",
            "_view_count": null,
            "_view_module": "@jupyter-widgets/controls",
            "_view_module_version": "1.5.0",
            "_view_name": "HTMLView",
            "description": "",
            "description_tooltip": null,
            "layout": "IPY_MODEL_c6b93b0613124042be658d2dc654ed37",
            "placeholder": "​",
            "style": "IPY_MODEL_aa740f261acd4f129626e5ae04bf84a7",
            "value": " 440M/440M [00:01&lt;00:00, 248MB/s]"
          }
        },
        "aba91d175d4e472d95e504cd9926d62b": {
          "model_module": "@jupyter-widgets/base",
          "model_name": "LayoutModel",
          "model_module_version": "1.2.0",
          "state": {
            "_model_module": "@jupyter-widgets/base",
            "_model_module_version": "1.2.0",
            "_model_name": "LayoutModel",
            "_view_count": null,
            "_view_module": "@jupyter-widgets/base",
            "_view_module_version": "1.2.0",
            "_view_name": "LayoutView",
            "align_content": null,
            "align_items": null,
            "align_self": null,
            "border": null,
            "bottom": null,
            "display": null,
            "flex": null,
            "flex_flow": null,
            "grid_area": null,
            "grid_auto_columns": null,
            "grid_auto_flow": null,
            "grid_auto_rows": null,
            "grid_column": null,
            "grid_gap": null,
            "grid_row": null,
            "grid_template_areas": null,
            "grid_template_columns": null,
            "grid_template_rows": null,
            "height": null,
            "justify_content": null,
            "justify_items": null,
            "left": null,
            "margin": null,
            "max_height": null,
            "max_width": null,
            "min_height": null,
            "min_width": null,
            "object_fit": null,
            "object_position": null,
            "order": null,
            "overflow": null,
            "overflow_x": null,
            "overflow_y": null,
            "padding": null,
            "right": null,
            "top": null,
            "visibility": null,
            "width": null
          }
        },
        "bca5376016994eef83be0d036659c0be": {
          "model_module": "@jupyter-widgets/base",
          "model_name": "LayoutModel",
          "model_module_version": "1.2.0",
          "state": {
            "_model_module": "@jupyter-widgets/base",
            "_model_module_version": "1.2.0",
            "_model_name": "LayoutModel",
            "_view_count": null,
            "_view_module": "@jupyter-widgets/base",
            "_view_module_version": "1.2.0",
            "_view_name": "LayoutView",
            "align_content": null,
            "align_items": null,
            "align_self": null,
            "border": null,
            "bottom": null,
            "display": null,
            "flex": null,
            "flex_flow": null,
            "grid_area": null,
            "grid_auto_columns": null,
            "grid_auto_flow": null,
            "grid_auto_rows": null,
            "grid_column": null,
            "grid_gap": null,
            "grid_row": null,
            "grid_template_areas": null,
            "grid_template_columns": null,
            "grid_template_rows": null,
            "height": null,
            "justify_content": null,
            "justify_items": null,
            "left": null,
            "margin": null,
            "max_height": null,
            "max_width": null,
            "min_height": null,
            "min_width": null,
            "object_fit": null,
            "object_position": null,
            "order": null,
            "overflow": null,
            "overflow_x": null,
            "overflow_y": null,
            "padding": null,
            "right": null,
            "top": null,
            "visibility": null,
            "width": null
          }
        },
        "ca23b10674c048cda232631492aea708": {
          "model_module": "@jupyter-widgets/controls",
          "model_name": "DescriptionStyleModel",
          "model_module_version": "1.5.0",
          "state": {
            "_model_module": "@jupyter-widgets/controls",
            "_model_module_version": "1.5.0",
            "_model_name": "DescriptionStyleModel",
            "_view_count": null,
            "_view_module": "@jupyter-widgets/base",
            "_view_module_version": "1.2.0",
            "_view_name": "StyleView",
            "description_width": ""
          }
        },
        "572513e4d64a4b549b81decd50493cf3": {
          "model_module": "@jupyter-widgets/base",
          "model_name": "LayoutModel",
          "model_module_version": "1.2.0",
          "state": {
            "_model_module": "@jupyter-widgets/base",
            "_model_module_version": "1.2.0",
            "_model_name": "LayoutModel",
            "_view_count": null,
            "_view_module": "@jupyter-widgets/base",
            "_view_module_version": "1.2.0",
            "_view_name": "LayoutView",
            "align_content": null,
            "align_items": null,
            "align_self": null,
            "border": null,
            "bottom": null,
            "display": null,
            "flex": null,
            "flex_flow": null,
            "grid_area": null,
            "grid_auto_columns": null,
            "grid_auto_flow": null,
            "grid_auto_rows": null,
            "grid_column": null,
            "grid_gap": null,
            "grid_row": null,
            "grid_template_areas": null,
            "grid_template_columns": null,
            "grid_template_rows": null,
            "height": null,
            "justify_content": null,
            "justify_items": null,
            "left": null,
            "margin": null,
            "max_height": null,
            "max_width": null,
            "min_height": null,
            "min_width": null,
            "object_fit": null,
            "object_position": null,
            "order": null,
            "overflow": null,
            "overflow_x": null,
            "overflow_y": null,
            "padding": null,
            "right": null,
            "top": null,
            "visibility": null,
            "width": null
          }
        },
        "db8234275147423385494838f526b3c3": {
          "model_module": "@jupyter-widgets/controls",
          "model_name": "ProgressStyleModel",
          "model_module_version": "1.5.0",
          "state": {
            "_model_module": "@jupyter-widgets/controls",
            "_model_module_version": "1.5.0",
            "_model_name": "ProgressStyleModel",
            "_view_count": null,
            "_view_module": "@jupyter-widgets/base",
            "_view_module_version": "1.2.0",
            "_view_name": "StyleView",
            "bar_color": null,
            "description_width": ""
          }
        },
        "c6b93b0613124042be658d2dc654ed37": {
          "model_module": "@jupyter-widgets/base",
          "model_name": "LayoutModel",
          "model_module_version": "1.2.0",
          "state": {
            "_model_module": "@jupyter-widgets/base",
            "_model_module_version": "1.2.0",
            "_model_name": "LayoutModel",
            "_view_count": null,
            "_view_module": "@jupyter-widgets/base",
            "_view_module_version": "1.2.0",
            "_view_name": "LayoutView",
            "align_content": null,
            "align_items": null,
            "align_self": null,
            "border": null,
            "bottom": null,
            "display": null,
            "flex": null,
            "flex_flow": null,
            "grid_area": null,
            "grid_auto_columns": null,
            "grid_auto_flow": null,
            "grid_auto_rows": null,
            "grid_column": null,
            "grid_gap": null,
            "grid_row": null,
            "grid_template_areas": null,
            "grid_template_columns": null,
            "grid_template_rows": null,
            "height": null,
            "justify_content": null,
            "justify_items": null,
            "left": null,
            "margin": null,
            "max_height": null,
            "max_width": null,
            "min_height": null,
            "min_width": null,
            "object_fit": null,
            "object_position": null,
            "order": null,
            "overflow": null,
            "overflow_x": null,
            "overflow_y": null,
            "padding": null,
            "right": null,
            "top": null,
            "visibility": null,
            "width": null
          }
        },
        "aa740f261acd4f129626e5ae04bf84a7": {
          "model_module": "@jupyter-widgets/controls",
          "model_name": "DescriptionStyleModel",
          "model_module_version": "1.5.0",
          "state": {
            "_model_module": "@jupyter-widgets/controls",
            "_model_module_version": "1.5.0",
            "_model_name": "DescriptionStyleModel",
            "_view_count": null,
            "_view_module": "@jupyter-widgets/base",
            "_view_module_version": "1.2.0",
            "_view_name": "StyleView",
            "description_width": ""
          }
        },
        "4894c26dc3534fa0b64812cd82a4143f": {
          "model_module": "@jupyter-widgets/controls",
          "model_name": "HBoxModel",
          "model_module_version": "1.5.0",
          "state": {
            "_dom_classes": [],
            "_model_module": "@jupyter-widgets/controls",
            "_model_module_version": "1.5.0",
            "_model_name": "HBoxModel",
            "_view_count": null,
            "_view_module": "@jupyter-widgets/controls",
            "_view_module_version": "1.5.0",
            "_view_name": "HBoxView",
            "box_style": "",
            "children": [
              "IPY_MODEL_eca56e7d3ced4f11ab1b723148f204f7",
              "IPY_MODEL_fa0e617c853240598db941627aeda505",
              "IPY_MODEL_96db56997bd949fb8d36a0863a56a54e"
            ],
            "layout": "IPY_MODEL_0e9cc4a5743a4f3a82cfc14b7a41a033"
          }
        },
        "eca56e7d3ced4f11ab1b723148f204f7": {
          "model_module": "@jupyter-widgets/controls",
          "model_name": "HTMLModel",
          "model_module_version": "1.5.0",
          "state": {
            "_dom_classes": [],
            "_model_module": "@jupyter-widgets/controls",
            "_model_module_version": "1.5.0",
            "_model_name": "HTMLModel",
            "_view_count": null,
            "_view_module": "@jupyter-widgets/controls",
            "_view_module_version": "1.5.0",
            "_view_name": "HTMLView",
            "description": "",
            "description_tooltip": null,
            "layout": "IPY_MODEL_2890b4283edb4f6eab69dc9925cb6354",
            "placeholder": "​",
            "style": "IPY_MODEL_f78b12764b9d462eb2f71a9e870f10b6",
            "value": "config.json: 100%"
          }
        },
        "fa0e617c853240598db941627aeda505": {
          "model_module": "@jupyter-widgets/controls",
          "model_name": "FloatProgressModel",
          "model_module_version": "1.5.0",
          "state": {
            "_dom_classes": [],
            "_model_module": "@jupyter-widgets/controls",
            "_model_module_version": "1.5.0",
            "_model_name": "FloatProgressModel",
            "_view_count": null,
            "_view_module": "@jupyter-widgets/controls",
            "_view_module_version": "1.5.0",
            "_view_name": "ProgressView",
            "bar_style": "success",
            "description": "",
            "description_tooltip": null,
            "layout": "IPY_MODEL_cb6fa2c38127400eaf9feef0290b3306",
            "max": 481,
            "min": 0,
            "orientation": "horizontal",
            "style": "IPY_MODEL_dd387cde579f4bc088bb1fa08e906db7",
            "value": 481
          }
        },
        "96db56997bd949fb8d36a0863a56a54e": {
          "model_module": "@jupyter-widgets/controls",
          "model_name": "HTMLModel",
          "model_module_version": "1.5.0",
          "state": {
            "_dom_classes": [],
            "_model_module": "@jupyter-widgets/controls",
            "_model_module_version": "1.5.0",
            "_model_name": "HTMLModel",
            "_view_count": null,
            "_view_module": "@jupyter-widgets/controls",
            "_view_module_version": "1.5.0",
            "_view_name": "HTMLView",
            "description": "",
            "description_tooltip": null,
            "layout": "IPY_MODEL_9ccbffe726a34d4b91a3c50ded67cb3d",
            "placeholder": "​",
            "style": "IPY_MODEL_208b8eb792d8470f9f205abdeff2ea81",
            "value": " 481/481 [00:00&lt;00:00, 22.5kB/s]"
          }
        },
        "0e9cc4a5743a4f3a82cfc14b7a41a033": {
          "model_module": "@jupyter-widgets/base",
          "model_name": "LayoutModel",
          "model_module_version": "1.2.0",
          "state": {
            "_model_module": "@jupyter-widgets/base",
            "_model_module_version": "1.2.0",
            "_model_name": "LayoutModel",
            "_view_count": null,
            "_view_module": "@jupyter-widgets/base",
            "_view_module_version": "1.2.0",
            "_view_name": "LayoutView",
            "align_content": null,
            "align_items": null,
            "align_self": null,
            "border": null,
            "bottom": null,
            "display": null,
            "flex": null,
            "flex_flow": null,
            "grid_area": null,
            "grid_auto_columns": null,
            "grid_auto_flow": null,
            "grid_auto_rows": null,
            "grid_column": null,
            "grid_gap": null,
            "grid_row": null,
            "grid_template_areas": null,
            "grid_template_columns": null,
            "grid_template_rows": null,
            "height": null,
            "justify_content": null,
            "justify_items": null,
            "left": null,
            "margin": null,
            "max_height": null,
            "max_width": null,
            "min_height": null,
            "min_width": null,
            "object_fit": null,
            "object_position": null,
            "order": null,
            "overflow": null,
            "overflow_x": null,
            "overflow_y": null,
            "padding": null,
            "right": null,
            "top": null,
            "visibility": null,
            "width": null
          }
        },
        "2890b4283edb4f6eab69dc9925cb6354": {
          "model_module": "@jupyter-widgets/base",
          "model_name": "LayoutModel",
          "model_module_version": "1.2.0",
          "state": {
            "_model_module": "@jupyter-widgets/base",
            "_model_module_version": "1.2.0",
            "_model_name": "LayoutModel",
            "_view_count": null,
            "_view_module": "@jupyter-widgets/base",
            "_view_module_version": "1.2.0",
            "_view_name": "LayoutView",
            "align_content": null,
            "align_items": null,
            "align_self": null,
            "border": null,
            "bottom": null,
            "display": null,
            "flex": null,
            "flex_flow": null,
            "grid_area": null,
            "grid_auto_columns": null,
            "grid_auto_flow": null,
            "grid_auto_rows": null,
            "grid_column": null,
            "grid_gap": null,
            "grid_row": null,
            "grid_template_areas": null,
            "grid_template_columns": null,
            "grid_template_rows": null,
            "height": null,
            "justify_content": null,
            "justify_items": null,
            "left": null,
            "margin": null,
            "max_height": null,
            "max_width": null,
            "min_height": null,
            "min_width": null,
            "object_fit": null,
            "object_position": null,
            "order": null,
            "overflow": null,
            "overflow_x": null,
            "overflow_y": null,
            "padding": null,
            "right": null,
            "top": null,
            "visibility": null,
            "width": null
          }
        },
        "f78b12764b9d462eb2f71a9e870f10b6": {
          "model_module": "@jupyter-widgets/controls",
          "model_name": "DescriptionStyleModel",
          "model_module_version": "1.5.0",
          "state": {
            "_model_module": "@jupyter-widgets/controls",
            "_model_module_version": "1.5.0",
            "_model_name": "DescriptionStyleModel",
            "_view_count": null,
            "_view_module": "@jupyter-widgets/base",
            "_view_module_version": "1.2.0",
            "_view_name": "StyleView",
            "description_width": ""
          }
        },
        "cb6fa2c38127400eaf9feef0290b3306": {
          "model_module": "@jupyter-widgets/base",
          "model_name": "LayoutModel",
          "model_module_version": "1.2.0",
          "state": {
            "_model_module": "@jupyter-widgets/base",
            "_model_module_version": "1.2.0",
            "_model_name": "LayoutModel",
            "_view_count": null,
            "_view_module": "@jupyter-widgets/base",
            "_view_module_version": "1.2.0",
            "_view_name": "LayoutView",
            "align_content": null,
            "align_items": null,
            "align_self": null,
            "border": null,
            "bottom": null,
            "display": null,
            "flex": null,
            "flex_flow": null,
            "grid_area": null,
            "grid_auto_columns": null,
            "grid_auto_flow": null,
            "grid_auto_rows": null,
            "grid_column": null,
            "grid_gap": null,
            "grid_row": null,
            "grid_template_areas": null,
            "grid_template_columns": null,
            "grid_template_rows": null,
            "height": null,
            "justify_content": null,
            "justify_items": null,
            "left": null,
            "margin": null,
            "max_height": null,
            "max_width": null,
            "min_height": null,
            "min_width": null,
            "object_fit": null,
            "object_position": null,
            "order": null,
            "overflow": null,
            "overflow_x": null,
            "overflow_y": null,
            "padding": null,
            "right": null,
            "top": null,
            "visibility": null,
            "width": null
          }
        },
        "dd387cde579f4bc088bb1fa08e906db7": {
          "model_module": "@jupyter-widgets/controls",
          "model_name": "ProgressStyleModel",
          "model_module_version": "1.5.0",
          "state": {
            "_model_module": "@jupyter-widgets/controls",
            "_model_module_version": "1.5.0",
            "_model_name": "ProgressStyleModel",
            "_view_count": null,
            "_view_module": "@jupyter-widgets/base",
            "_view_module_version": "1.2.0",
            "_view_name": "StyleView",
            "bar_color": null,
            "description_width": ""
          }
        },
        "9ccbffe726a34d4b91a3c50ded67cb3d": {
          "model_module": "@jupyter-widgets/base",
          "model_name": "LayoutModel",
          "model_module_version": "1.2.0",
          "state": {
            "_model_module": "@jupyter-widgets/base",
            "_model_module_version": "1.2.0",
            "_model_name": "LayoutModel",
            "_view_count": null,
            "_view_module": "@jupyter-widgets/base",
            "_view_module_version": "1.2.0",
            "_view_name": "LayoutView",
            "align_content": null,
            "align_items": null,
            "align_self": null,
            "border": null,
            "bottom": null,
            "display": null,
            "flex": null,
            "flex_flow": null,
            "grid_area": null,
            "grid_auto_columns": null,
            "grid_auto_flow": null,
            "grid_auto_rows": null,
            "grid_column": null,
            "grid_gap": null,
            "grid_row": null,
            "grid_template_areas": null,
            "grid_template_columns": null,
            "grid_template_rows": null,
            "height": null,
            "justify_content": null,
            "justify_items": null,
            "left": null,
            "margin": null,
            "max_height": null,
            "max_width": null,
            "min_height": null,
            "min_width": null,
            "object_fit": null,
            "object_position": null,
            "order": null,
            "overflow": null,
            "overflow_x": null,
            "overflow_y": null,
            "padding": null,
            "right": null,
            "top": null,
            "visibility": null,
            "width": null
          }
        },
        "208b8eb792d8470f9f205abdeff2ea81": {
          "model_module": "@jupyter-widgets/controls",
          "model_name": "DescriptionStyleModel",
          "model_module_version": "1.5.0",
          "state": {
            "_model_module": "@jupyter-widgets/controls",
            "_model_module_version": "1.5.0",
            "_model_name": "DescriptionStyleModel",
            "_view_count": null,
            "_view_module": "@jupyter-widgets/base",
            "_view_module_version": "1.2.0",
            "_view_name": "StyleView",
            "description_width": ""
          }
        },
        "2cdb6793d8954101ad1ad259ad681468": {
          "model_module": "@jupyter-widgets/controls",
          "model_name": "HBoxModel",
          "model_module_version": "1.5.0",
          "state": {
            "_dom_classes": [],
            "_model_module": "@jupyter-widgets/controls",
            "_model_module_version": "1.5.0",
            "_model_name": "HBoxModel",
            "_view_count": null,
            "_view_module": "@jupyter-widgets/controls",
            "_view_module_version": "1.5.0",
            "_view_name": "HBoxView",
            "box_style": "",
            "children": [
              "IPY_MODEL_9f7baec2641348648c19b296c5a75c90",
              "IPY_MODEL_ae5ac584d4c3497dbe82fb028617b069",
              "IPY_MODEL_69d5db46859b447baf3b32d027071d3e"
            ],
            "layout": "IPY_MODEL_6ec311c6cad24c77b28f0fc1b866ddc4"
          }
        },
        "9f7baec2641348648c19b296c5a75c90": {
          "model_module": "@jupyter-widgets/controls",
          "model_name": "HTMLModel",
          "model_module_version": "1.5.0",
          "state": {
            "_dom_classes": [],
            "_model_module": "@jupyter-widgets/controls",
            "_model_module_version": "1.5.0",
            "_model_name": "HTMLModel",
            "_view_count": null,
            "_view_module": "@jupyter-widgets/controls",
            "_view_module_version": "1.5.0",
            "_view_name": "HTMLView",
            "description": "",
            "description_tooltip": null,
            "layout": "IPY_MODEL_894c773f6c134e81b54e2470eeaeab48",
            "placeholder": "​",
            "style": "IPY_MODEL_b70243797a9e43ab84eb93ecd7242732",
            "value": "model.safetensors: 100%"
          }
        },
        "ae5ac584d4c3497dbe82fb028617b069": {
          "model_module": "@jupyter-widgets/controls",
          "model_name": "FloatProgressModel",
          "model_module_version": "1.5.0",
          "state": {
            "_dom_classes": [],
            "_model_module": "@jupyter-widgets/controls",
            "_model_module_version": "1.5.0",
            "_model_name": "FloatProgressModel",
            "_view_count": null,
            "_view_module": "@jupyter-widgets/controls",
            "_view_module_version": "1.5.0",
            "_view_name": "ProgressView",
            "bar_style": "success",
            "description": "",
            "description_tooltip": null,
            "layout": "IPY_MODEL_5b4a434aa88e41e7a11876281ac829d1",
            "max": 498818054,
            "min": 0,
            "orientation": "horizontal",
            "style": "IPY_MODEL_07b0a07f74b94aeda9a124ff5a9f170c",
            "value": 498818054
          }
        },
        "69d5db46859b447baf3b32d027071d3e": {
          "model_module": "@jupyter-widgets/controls",
          "model_name": "HTMLModel",
          "model_module_version": "1.5.0",
          "state": {
            "_dom_classes": [],
            "_model_module": "@jupyter-widgets/controls",
            "_model_module_version": "1.5.0",
            "_model_name": "HTMLModel",
            "_view_count": null,
            "_view_module": "@jupyter-widgets/controls",
            "_view_module_version": "1.5.0",
            "_view_name": "HTMLView",
            "description": "",
            "description_tooltip": null,
            "layout": "IPY_MODEL_6bb4b00b01094c1d85cdd9b178db9609",
            "placeholder": "​",
            "style": "IPY_MODEL_574e40eda18f4cba83dc4237ea5b6ce0",
            "value": " 499M/499M [00:02&lt;00:00, 243MB/s]"
          }
        },
        "6ec311c6cad24c77b28f0fc1b866ddc4": {
          "model_module": "@jupyter-widgets/base",
          "model_name": "LayoutModel",
          "model_module_version": "1.2.0",
          "state": {
            "_model_module": "@jupyter-widgets/base",
            "_model_module_version": "1.2.0",
            "_model_name": "LayoutModel",
            "_view_count": null,
            "_view_module": "@jupyter-widgets/base",
            "_view_module_version": "1.2.0",
            "_view_name": "LayoutView",
            "align_content": null,
            "align_items": null,
            "align_self": null,
            "border": null,
            "bottom": null,
            "display": null,
            "flex": null,
            "flex_flow": null,
            "grid_area": null,
            "grid_auto_columns": null,
            "grid_auto_flow": null,
            "grid_auto_rows": null,
            "grid_column": null,
            "grid_gap": null,
            "grid_row": null,
            "grid_template_areas": null,
            "grid_template_columns": null,
            "grid_template_rows": null,
            "height": null,
            "justify_content": null,
            "justify_items": null,
            "left": null,
            "margin": null,
            "max_height": null,
            "max_width": null,
            "min_height": null,
            "min_width": null,
            "object_fit": null,
            "object_position": null,
            "order": null,
            "overflow": null,
            "overflow_x": null,
            "overflow_y": null,
            "padding": null,
            "right": null,
            "top": null,
            "visibility": null,
            "width": null
          }
        },
        "894c773f6c134e81b54e2470eeaeab48": {
          "model_module": "@jupyter-widgets/base",
          "model_name": "LayoutModel",
          "model_module_version": "1.2.0",
          "state": {
            "_model_module": "@jupyter-widgets/base",
            "_model_module_version": "1.2.0",
            "_model_name": "LayoutModel",
            "_view_count": null,
            "_view_module": "@jupyter-widgets/base",
            "_view_module_version": "1.2.0",
            "_view_name": "LayoutView",
            "align_content": null,
            "align_items": null,
            "align_self": null,
            "border": null,
            "bottom": null,
            "display": null,
            "flex": null,
            "flex_flow": null,
            "grid_area": null,
            "grid_auto_columns": null,
            "grid_auto_flow": null,
            "grid_auto_rows": null,
            "grid_column": null,
            "grid_gap": null,
            "grid_row": null,
            "grid_template_areas": null,
            "grid_template_columns": null,
            "grid_template_rows": null,
            "height": null,
            "justify_content": null,
            "justify_items": null,
            "left": null,
            "margin": null,
            "max_height": null,
            "max_width": null,
            "min_height": null,
            "min_width": null,
            "object_fit": null,
            "object_position": null,
            "order": null,
            "overflow": null,
            "overflow_x": null,
            "overflow_y": null,
            "padding": null,
            "right": null,
            "top": null,
            "visibility": null,
            "width": null
          }
        },
        "b70243797a9e43ab84eb93ecd7242732": {
          "model_module": "@jupyter-widgets/controls",
          "model_name": "DescriptionStyleModel",
          "model_module_version": "1.5.0",
          "state": {
            "_model_module": "@jupyter-widgets/controls",
            "_model_module_version": "1.5.0",
            "_model_name": "DescriptionStyleModel",
            "_view_count": null,
            "_view_module": "@jupyter-widgets/base",
            "_view_module_version": "1.2.0",
            "_view_name": "StyleView",
            "description_width": ""
          }
        },
        "5b4a434aa88e41e7a11876281ac829d1": {
          "model_module": "@jupyter-widgets/base",
          "model_name": "LayoutModel",
          "model_module_version": "1.2.0",
          "state": {
            "_model_module": "@jupyter-widgets/base",
            "_model_module_version": "1.2.0",
            "_model_name": "LayoutModel",
            "_view_count": null,
            "_view_module": "@jupyter-widgets/base",
            "_view_module_version": "1.2.0",
            "_view_name": "LayoutView",
            "align_content": null,
            "align_items": null,
            "align_self": null,
            "border": null,
            "bottom": null,
            "display": null,
            "flex": null,
            "flex_flow": null,
            "grid_area": null,
            "grid_auto_columns": null,
            "grid_auto_flow": null,
            "grid_auto_rows": null,
            "grid_column": null,
            "grid_gap": null,
            "grid_row": null,
            "grid_template_areas": null,
            "grid_template_columns": null,
            "grid_template_rows": null,
            "height": null,
            "justify_content": null,
            "justify_items": null,
            "left": null,
            "margin": null,
            "max_height": null,
            "max_width": null,
            "min_height": null,
            "min_width": null,
            "object_fit": null,
            "object_position": null,
            "order": null,
            "overflow": null,
            "overflow_x": null,
            "overflow_y": null,
            "padding": null,
            "right": null,
            "top": null,
            "visibility": null,
            "width": null
          }
        },
        "07b0a07f74b94aeda9a124ff5a9f170c": {
          "model_module": "@jupyter-widgets/controls",
          "model_name": "ProgressStyleModel",
          "model_module_version": "1.5.0",
          "state": {
            "_model_module": "@jupyter-widgets/controls",
            "_model_module_version": "1.5.0",
            "_model_name": "ProgressStyleModel",
            "_view_count": null,
            "_view_module": "@jupyter-widgets/base",
            "_view_module_version": "1.2.0",
            "_view_name": "StyleView",
            "bar_color": null,
            "description_width": ""
          }
        },
        "6bb4b00b01094c1d85cdd9b178db9609": {
          "model_module": "@jupyter-widgets/base",
          "model_name": "LayoutModel",
          "model_module_version": "1.2.0",
          "state": {
            "_model_module": "@jupyter-widgets/base",
            "_model_module_version": "1.2.0",
            "_model_name": "LayoutModel",
            "_view_count": null,
            "_view_module": "@jupyter-widgets/base",
            "_view_module_version": "1.2.0",
            "_view_name": "LayoutView",
            "align_content": null,
            "align_items": null,
            "align_self": null,
            "border": null,
            "bottom": null,
            "display": null,
            "flex": null,
            "flex_flow": null,
            "grid_area": null,
            "grid_auto_columns": null,
            "grid_auto_flow": null,
            "grid_auto_rows": null,
            "grid_column": null,
            "grid_gap": null,
            "grid_row": null,
            "grid_template_areas": null,
            "grid_template_columns": null,
            "grid_template_rows": null,
            "height": null,
            "justify_content": null,
            "justify_items": null,
            "left": null,
            "margin": null,
            "max_height": null,
            "max_width": null,
            "min_height": null,
            "min_width": null,
            "object_fit": null,
            "object_position": null,
            "order": null,
            "overflow": null,
            "overflow_x": null,
            "overflow_y": null,
            "padding": null,
            "right": null,
            "top": null,
            "visibility": null,
            "width": null
          }
        },
        "574e40eda18f4cba83dc4237ea5b6ce0": {
          "model_module": "@jupyter-widgets/controls",
          "model_name": "DescriptionStyleModel",
          "model_module_version": "1.5.0",
          "state": {
            "_model_module": "@jupyter-widgets/controls",
            "_model_module_version": "1.5.0",
            "_model_name": "DescriptionStyleModel",
            "_view_count": null,
            "_view_module": "@jupyter-widgets/base",
            "_view_module_version": "1.2.0",
            "_view_name": "StyleView",
            "description_width": ""
          }
        }
      }
    }
  },
  "nbformat": 4,
  "nbformat_minor": 5
}